{
  "nbformat": 4,
  "nbformat_minor": 0,
  "metadata": {
    "colab": {
      "name": "REPORT.ipynb",
      "provenance": [],
      "mount_file_id": "1o2SsSUrJGi5YyIG1_MG0bFiDoSBFY5t8",
      "authorship_tag": "ABX9TyNNtnvZFXPwezS097ScbJdi"
    },
    "kernelspec": {
      "name": "python3",
      "display_name": "Python 3"
    }
  },
  "cells": [
    {
      "cell_type": "code",
      "metadata": {
        "id": "SEHthfHeffQv",
        "colab_type": "code",
        "colab": {
          "base_uri": "https://localhost:8080/",
          "height": 71
        },
        "outputId": "4490f182-4ba8-4145-d3f3-913691f69245"
      },
      "source": [
        "import pandas as pd\n",
        "from statsmodels.stats.weightstats import _tconfint_generic\n",
        "import numpy as np\n",
        "import matplotlib.pyplot as plt"
      ],
      "execution_count": 1,
      "outputs": [
        {
          "output_type": "stream",
          "text": [
            "/usr/local/lib/python3.6/dist-packages/statsmodels/tools/_testing.py:19: FutureWarning: pandas.util.testing is deprecated. Use the functions in the public API at pandas.testing instead.\n",
            "  import pandas.util.testing as tm\n"
          ],
          "name": "stderr"
        }
      ]
    },
    {
      "cell_type": "markdown",
      "metadata": {
        "id": "x3ylOOXjfvHf",
        "colab_type": "text"
      },
      "source": [
        "## Задание 1"
      ]
    },
    {
      "cell_type": "code",
      "metadata": {
        "id": "hBXxqsIbrSdP",
        "colab_type": "code",
        "colab": {}
      },
      "source": [
        "path_to_project_directory = '/content/drive/My Drive/Colab Notebooks/SEVERSTAL_task/Data/'"
      ],
      "execution_count": 2,
      "outputs": []
    },
    {
      "cell_type": "code",
      "metadata": {
        "id": "ClXZwqvKhtLu",
        "colab_type": "code",
        "colab": {
          "base_uri": "https://localhost:8080/",
          "height": 419
        },
        "outputId": "2e71b5c9-101c-4e87-ae64-aadde322f3b0"
      },
      "source": [
        "statistics = pd.read_csv(path_to_project_directory+'Статистика за 2018 год.csv', encoding='cp1251')\n",
        "statistics"
      ],
      "execution_count": 3,
      "outputs": [
        {
          "output_type": "execute_result",
          "data": {
            "text/html": [
              "<div>\n",
              "<style scoped>\n",
              "    .dataframe tbody tr th:only-of-type {\n",
              "        vertical-align: middle;\n",
              "    }\n",
              "\n",
              "    .dataframe tbody tr th {\n",
              "        vertical-align: top;\n",
              "    }\n",
              "\n",
              "    .dataframe thead th {\n",
              "        text-align: right;\n",
              "    }\n",
              "</style>\n",
              "<table border=\"1\" class=\"dataframe\">\n",
              "  <thead>\n",
              "    <tr style=\"text-align: right;\">\n",
              "      <th></th>\n",
              "      <th>Число бракованных листов</th>\n",
              "      <th>Скорость прокатки</th>\n",
              "      <th>Марка стали</th>\n",
              "    </tr>\n",
              "  </thead>\n",
              "  <tbody>\n",
              "    <tr>\n",
              "      <th>0</th>\n",
              "      <td>3</td>\n",
              "      <td>3.8</td>\n",
              "      <td>A</td>\n",
              "    </tr>\n",
              "    <tr>\n",
              "      <th>1</th>\n",
              "      <td>3</td>\n",
              "      <td>3.8</td>\n",
              "      <td>B</td>\n",
              "    </tr>\n",
              "    <tr>\n",
              "      <th>2</th>\n",
              "      <td>3</td>\n",
              "      <td>4.8</td>\n",
              "      <td>B</td>\n",
              "    </tr>\n",
              "    <tr>\n",
              "      <th>3</th>\n",
              "      <td>4</td>\n",
              "      <td>4.4</td>\n",
              "      <td>B</td>\n",
              "    </tr>\n",
              "    <tr>\n",
              "      <th>4</th>\n",
              "      <td>6</td>\n",
              "      <td>5.0</td>\n",
              "      <td>B</td>\n",
              "    </tr>\n",
              "    <tr>\n",
              "      <th>...</th>\n",
              "      <td>...</td>\n",
              "      <td>...</td>\n",
              "      <td>...</td>\n",
              "    </tr>\n",
              "    <tr>\n",
              "      <th>232</th>\n",
              "      <td>1</td>\n",
              "      <td>4.7</td>\n",
              "      <td>A</td>\n",
              "    </tr>\n",
              "    <tr>\n",
              "      <th>233</th>\n",
              "      <td>3</td>\n",
              "      <td>3.4</td>\n",
              "      <td>A</td>\n",
              "    </tr>\n",
              "    <tr>\n",
              "      <th>234</th>\n",
              "      <td>2</td>\n",
              "      <td>5.5</td>\n",
              "      <td>A</td>\n",
              "    </tr>\n",
              "    <tr>\n",
              "      <th>235</th>\n",
              "      <td>3</td>\n",
              "      <td>5.0</td>\n",
              "      <td>B</td>\n",
              "    </tr>\n",
              "    <tr>\n",
              "      <th>236</th>\n",
              "      <td>5</td>\n",
              "      <td>4.7</td>\n",
              "      <td>A</td>\n",
              "    </tr>\n",
              "  </tbody>\n",
              "</table>\n",
              "<p>237 rows × 3 columns</p>\n",
              "</div>"
            ],
            "text/plain": [
              "     Число бракованных листов  Скорость прокатки Марка стали\n",
              "0                           3                3.8           A\n",
              "1                           3                3.8           B\n",
              "2                           3                4.8           B\n",
              "3                           4                4.4           B\n",
              "4                           6                5.0           B\n",
              "..                        ...                ...         ...\n",
              "232                         1                4.7           A\n",
              "233                         3                3.4           A\n",
              "234                         2                5.5           A\n",
              "235                         3                5.0           B\n",
              "236                         5                4.7           A\n",
              "\n",
              "[237 rows x 3 columns]"
            ]
          },
          "metadata": {
            "tags": []
          },
          "execution_count": 3
        }
      ]
    },
    {
      "cell_type": "code",
      "metadata": {
        "id": "3Gj4QFCf5-iY",
        "colab_type": "code",
        "colab": {
          "base_uri": "https://localhost:8080/",
          "height": 279
        },
        "outputId": "550c059c-6198-4373-a488-942d282ed066"
      },
      "source": [
        "plt.bar(statistics['Скорость прокатки'],\n",
        "        statistics['Число бракованных листов'],\n",
        "        width=0.1)\n",
        "plt.xlabel('Скорость прокатки')\n",
        "plt.ylabel('Число бракованных листов')\n",
        "plt.yticks(statistics['Число бракованных листов'].unique())\n",
        "plt.xticks(np.arange(min(statistics['Скорость прокатки']), \n",
        "                     max(statistics['Скорость прокатки'])+1, \n",
        "                     0.5))\n",
        "\n",
        "plt.grid()"
      ],
      "execution_count": 4,
      "outputs": [
        {
          "output_type": "display_data",
          "data": {
            "image/png": "[encoded data removed]",
            "text/plain": [
              "<Figure size 432x288 with 1 Axes>"
            ]
          },
          "metadata": {
            "tags": [],
            "needs_background": "light"
          }
        }
      ]
    },
    {
      "cell_type": "code",
      "metadata": {
        "id": "FZEGTsCnnpqJ",
        "colab_type": "code",
        "colab": {
          "base_uri": "https://localhost:8080/",
          "height": 34
        },
        "outputId": "48e1f75b-9010-4812-c62f-28f5df24f7fa"
      },
      "source": [
        "statistics[statistics['Марка стали']=='A']['Число бракованных листов'].mean(), \\\n",
        "statistics[statistics['Марка стали']=='B']['Число бракованных листов'].mean()"
      ],
      "execution_count": 5,
      "outputs": [
        {
          "output_type": "execute_result",
          "data": {
            "text/plain": [
              "(3.179856115107914, 3.36734693877551)"
            ]
          },
          "metadata": {
            "tags": []
          },
          "execution_count": 5
        }
      ]
    },
    {
      "cell_type": "markdown",
      "metadata": {
        "id": "fW-U-Hw301R3",
        "colab_type": "text"
      },
      "source": [
        "95% доверительные интервалы для средних значений"
      ]
    },
    {
      "cell_type": "code",
      "metadata": {
        "id": "Z41Rt4W3x_DA",
        "colab_type": "code",
        "colab": {
          "base_uri": "https://localhost:8080/",
          "height": 34
        },
        "outputId": "669e7d4c-91af-4b9f-9c66-d529dd430fca"
      },
      "source": [
        "_tconfint_generic(statistics[statistics['Марка стали']=='A']['Число бракованных листов'].mean(), \n",
        "                  statistics[statistics['Марка стали']=='A']['Число бракованных листов'].std(ddof=1) / np.sqrt(len(statistics[statistics['Марка стали']=='A']['Число бракованных листов'])),                  \n",
        "                  len(statistics[statistics['Марка стали']=='A']['Число бракованных листов']) - 1, \n",
        "                  0.05, 'two-sided')"
      ],
      "execution_count": 6,
      "outputs": [
        {
          "output_type": "execute_result",
          "data": {
            "text/plain": [
              "(2.8630226081965824, 3.4966896220192454)"
            ]
          },
          "metadata": {
            "tags": []
          },
          "execution_count": 6
        }
      ]
    },
    {
      "cell_type": "code",
      "metadata": {
        "id": "UuEpZoI8yhxb",
        "colab_type": "code",
        "colab": {
          "base_uri": "https://localhost:8080/",
          "height": 34
        },
        "outputId": "ad31a0cd-0f32-496c-d045-33c932aade28"
      },
      "source": [
        "_tconfint_generic(statistics[statistics['Марка стали']=='B']['Число бракованных листов'].mean(), \n",
        "                  statistics[statistics['Марка стали']=='B']['Число бракованных листов'].std(ddof=1) / np.sqrt(len(statistics[statistics['Марка стали']=='A']['Число бракованных листов'])),                  \n",
        "                  len(statistics[statistics['Марка стали']=='B']['Число бракованных листов']) - 1, \n",
        "                  0.05, 'two-sided')"
      ],
      "execution_count": 7,
      "outputs": [
        {
          "output_type": "execute_result",
          "data": {
            "text/plain": [
              "(3.0829856289671023, 3.651708248583918)"
            ]
          },
          "metadata": {
            "tags": []
          },
          "execution_count": 7
        }
      ]
    },
    {
      "cell_type": "markdown",
      "metadata": {
        "id": "ydMdEvO0od8y",
        "colab_type": "text"
      },
      "source": [
        "Действительно, в среднем брака на нашей выборке марки A больше, чем на B"
      ]
    },
    {
      "cell_type": "code",
      "metadata": {
        "id": "Z0DavhvToK2R",
        "colab_type": "code",
        "colab": {
          "base_uri": "https://localhost:8080/",
          "height": 34
        },
        "outputId": "124de841-c5eb-4b70-e4ca-1b3181ddf422"
      },
      "source": [
        "statistics[statistics['Скорость прокатки']<=4]['Число бракованных листов'].mean(), \\\n",
        "statistics[statistics['Скорость прокатки']>4]['Число бракованных листов'].mean()"
      ],
      "execution_count": 8,
      "outputs": [
        {
          "output_type": "execute_result",
          "data": {
            "text/plain": [
              "(3.0689655172413794, 3.3184357541899443)"
            ]
          },
          "metadata": {
            "tags": []
          },
          "execution_count": 8
        }
      ]
    },
    {
      "cell_type": "markdown",
      "metadata": {
        "id": "e9vnkieSrGAI",
        "colab_type": "text"
      },
      "source": [
        "Действительно, в среднем брака на нашей выборке со скоростью обкатки свыше 4-х м/с становится больше"
      ]
    },
    {
      "cell_type": "markdown",
      "metadata": {
        "id": "ZduVwiaXr2B7",
        "colab_type": "text"
      },
      "source": [
        "<hr>\n",
        "\n",
        "**Гипотеза 1**: Более 3 бракованных листов на партию выходит значимо чаще для стали марки А, чем для стали марки B.\n"
      ]
    },
    {
      "cell_type": "code",
      "metadata": {
        "id": "j4mzqTc0rCb8",
        "colab_type": "code",
        "colab": {
          "base_uri": "https://localhost:8080/",
          "height": 34
        },
        "outputId": "4db76817-3e12-486e-a1b5-ed8327ef0fc6"
      },
      "source": [
        "statistics[(statistics['Марка стали']=='A') & (statistics['Число бракованных листов']>3)]['Число бракованных листов'].mean(), \\\n",
        "statistics[(statistics['Марка стали']=='B') & (statistics['Число бракованных листов']>3)]['Число бракованных листов'].mean()"
      ],
      "execution_count": 9,
      "outputs": [
        {
          "output_type": "execute_result",
          "data": {
            "text/plain": [
              "(5.113207547169812, 4.886363636363637)"
            ]
          },
          "metadata": {
            "tags": []
          },
          "execution_count": 9
        }
      ]
    },
    {
      "cell_type": "markdown",
      "metadata": {
        "id": "sz0X08suXwWK",
        "colab_type": "text"
      },
      "source": [
        "<hr>\n",
        "\n",
        "**Гипотеза 2**: При скоростях прокатки более 4 м/с свыше 3 бракованных листов стали на партию выходит значимо чаще, чем при меньших скоростях прокатки.\n"
      ]
    },
    {
      "cell_type": "code",
      "metadata": {
        "id": "oDEiJGd8V6CQ",
        "colab_type": "code",
        "colab": {
          "base_uri": "https://localhost:8080/",
          "height": 34
        },
        "outputId": "8b8e03fe-ee65-43b9-fa25-35fe86210d63"
      },
      "source": [
        "statistics[(statistics['Скорость прокатки']<=4) & (statistics['Число бракованных листов']>3)]['Число бракованных листов'].mean(), \\\n",
        "statistics[(statistics['Скорость прокатки']>4) & (statistics['Число бракованных листов']>3)]['Число бракованных листов'].mean()"
      ],
      "execution_count": 10,
      "outputs": [
        {
          "output_type": "execute_result",
          "data": {
            "text/plain": [
              "(4.869565217391305, 5.054054054054054)"
            ]
          },
          "metadata": {
            "tags": []
          },
          "execution_count": 10
        }
      ]
    },
    {
      "cell_type": "markdown",
      "metadata": {
        "id": "DUB8nnE4YIw-",
        "colab_type": "text"
      },
      "source": [
        "<hr>\n",
        "\n",
        "## Задание 2"
      ]
    },
    {
      "cell_type": "code",
      "metadata": {
        "id": "IlZeowpoX9BO",
        "colab_type": "code",
        "colab": {}
      },
      "source": [
        "X_data = pd.read_csv(path_to_project_directory+'X_data.csv', encoding='cp1251', sep=';')\n",
        "Y_train = pd.read_csv(path_to_project_directory+'Y_train.csv', encoding='cp1251', sep=';', header=None, index_col=0)\n",
        "Y_submit = pd.read_csv(path_to_project_directory+'Y_submit.csv', encoding='cp1251', sep=';', header=None, index_col=0)"
      ],
      "execution_count": 11,
      "outputs": []
    },
    {
      "cell_type": "code",
      "metadata": {
        "id": "vMCYTHYZZs9h",
        "colab_type": "code",
        "colab": {
          "base_uri": "https://localhost:8080/",
          "height": 173
        },
        "outputId": "9e816c09-8df8-4963-dcee-fd98cdffaa11"
      },
      "source": [
        "Y_train.head(3)"
      ],
      "execution_count": 12,
      "outputs": [
        {
          "output_type": "execute_result",
          "data": {
            "text/html": [
              "<div>\n",
              "<style scoped>\n",
              "    .dataframe tbody tr th:only-of-type {\n",
              "        vertical-align: middle;\n",
              "    }\n",
              "\n",
              "    .dataframe tbody tr th {\n",
              "        vertical-align: top;\n",
              "    }\n",
              "\n",
              "    .dataframe thead th {\n",
              "        text-align: right;\n",
              "    }\n",
              "</style>\n",
              "<table border=\"1\" class=\"dataframe\">\n",
              "  <thead>\n",
              "    <tr style=\"text-align: right;\">\n",
              "      <th></th>\n",
              "      <th>1</th>\n",
              "    </tr>\n",
              "    <tr>\n",
              "      <th>0</th>\n",
              "      <th></th>\n",
              "    </tr>\n",
              "  </thead>\n",
              "  <tbody>\n",
              "    <tr>\n",
              "      <th>2015-01-04 00:05:00</th>\n",
              "      <td>392</td>\n",
              "    </tr>\n",
              "    <tr>\n",
              "      <th>2015-01-04 01:05:00</th>\n",
              "      <td>384</td>\n",
              "    </tr>\n",
              "    <tr>\n",
              "      <th>2015-01-04 02:05:00</th>\n",
              "      <td>393</td>\n",
              "    </tr>\n",
              "  </tbody>\n",
              "</table>\n",
              "</div>"
            ],
            "text/plain": [
              "                       1\n",
              "0                       \n",
              "2015-01-04 00:05:00  392\n",
              "2015-01-04 01:05:00  384\n",
              "2015-01-04 02:05:00  393"
            ]
          },
          "metadata": {
            "tags": []
          },
          "execution_count": 12
        }
      ]
    },
    {
      "cell_type": "code",
      "metadata": {
        "id": "lbI9hQ4lYaZh",
        "colab_type": "code",
        "colab": {
          "base_uri": "https://localhost:8080/",
          "height": 173
        },
        "outputId": "f054e315-4c00-4748-d71c-2681b5b83a74"
      },
      "source": [
        "Y_submit.head(3)"
      ],
      "execution_count": 13,
      "outputs": [
        {
          "output_type": "execute_result",
          "data": {
            "text/html": [
              "<div>\n",
              "<style scoped>\n",
              "    .dataframe tbody tr th:only-of-type {\n",
              "        vertical-align: middle;\n",
              "    }\n",
              "\n",
              "    .dataframe tbody tr th {\n",
              "        vertical-align: top;\n",
              "    }\n",
              "\n",
              "    .dataframe thead th {\n",
              "        text-align: right;\n",
              "    }\n",
              "</style>\n",
              "<table border=\"1\" class=\"dataframe\">\n",
              "  <thead>\n",
              "    <tr style=\"text-align: right;\">\n",
              "      <th></th>\n",
              "      <th>1</th>\n",
              "    </tr>\n",
              "    <tr>\n",
              "      <th>0</th>\n",
              "      <th></th>\n",
              "    </tr>\n",
              "  </thead>\n",
              "  <tbody>\n",
              "    <tr>\n",
              "      <th>2018-05-04 00:05:00</th>\n",
              "      <td>420</td>\n",
              "    </tr>\n",
              "    <tr>\n",
              "      <th>2018-05-04 01:05:00</th>\n",
              "      <td>420</td>\n",
              "    </tr>\n",
              "    <tr>\n",
              "      <th>2018-05-04 02:05:00</th>\n",
              "      <td>420</td>\n",
              "    </tr>\n",
              "  </tbody>\n",
              "</table>\n",
              "</div>"
            ],
            "text/plain": [
              "                       1\n",
              "0                       \n",
              "2018-05-04 00:05:00  420\n",
              "2018-05-04 01:05:00  420\n",
              "2018-05-04 02:05:00  420"
            ]
          },
          "metadata": {
            "tags": []
          },
          "execution_count": 13
        }
      ]
    },
    {
      "cell_type": "code",
      "metadata": {
        "id": "ONff7I90Yua-",
        "colab_type": "code",
        "colab": {
          "base_uri": "https://localhost:8080/",
          "height": 281
        },
        "outputId": "ee971c11-6861-46d7-ac42-0197a8d30451"
      },
      "source": [
        "X_data.head(3)"
      ],
      "execution_count": 14,
      "outputs": [
        {
          "output_type": "execute_result",
          "data": {
            "text/html": [
              "<div>\n",
              "<style scoped>\n",
              "    .dataframe tbody tr th:only-of-type {\n",
              "        vertical-align: middle;\n",
              "    }\n",
              "\n",
              "    .dataframe tbody tr th {\n",
              "        vertical-align: top;\n",
              "    }\n",
              "\n",
              "    .dataframe thead th {\n",
              "        text-align: right;\n",
              "    }\n",
              "</style>\n",
              "<table border=\"1\" class=\"dataframe\">\n",
              "  <thead>\n",
              "    <tr style=\"text-align: right;\">\n",
              "      <th></th>\n",
              "      <th>Unnamed: 0</th>\n",
              "      <th>T_data_1_1</th>\n",
              "      <th>T_data_1_2</th>\n",
              "      <th>T_data_1_3</th>\n",
              "      <th>T_data_2_1</th>\n",
              "      <th>T_data_2_2</th>\n",
              "      <th>T_data_2_3</th>\n",
              "      <th>T_data_3_1</th>\n",
              "      <th>T_data_3_2</th>\n",
              "      <th>T_data_3_3</th>\n",
              "      <th>T_data_4_1</th>\n",
              "      <th>T_data_4_2</th>\n",
              "      <th>T_data_4_3</th>\n",
              "      <th>T_data_5_1</th>\n",
              "      <th>T_data_5_2</th>\n",
              "      <th>T_data_5_3</th>\n",
              "      <th>H_data</th>\n",
              "      <th>AH_data</th>\n",
              "    </tr>\n",
              "  </thead>\n",
              "  <tbody>\n",
              "    <tr>\n",
              "      <th>0</th>\n",
              "      <td>2015-01-01 00:00:00</td>\n",
              "      <td>212</td>\n",
              "      <td>210</td>\n",
              "      <td>211</td>\n",
              "      <td>347</td>\n",
              "      <td>353</td>\n",
              "      <td>347</td>\n",
              "      <td>474</td>\n",
              "      <td>473</td>\n",
              "      <td>481</td>\n",
              "      <td>346</td>\n",
              "      <td>348</td>\n",
              "      <td>355</td>\n",
              "      <td>241</td>\n",
              "      <td>241</td>\n",
              "      <td>243</td>\n",
              "      <td>167.85</td>\n",
              "      <td>9.22</td>\n",
              "    </tr>\n",
              "    <tr>\n",
              "      <th>1</th>\n",
              "      <td>2015-01-01 00:01:00</td>\n",
              "      <td>212</td>\n",
              "      <td>211</td>\n",
              "      <td>211</td>\n",
              "      <td>346</td>\n",
              "      <td>352</td>\n",
              "      <td>346</td>\n",
              "      <td>475</td>\n",
              "      <td>473</td>\n",
              "      <td>481</td>\n",
              "      <td>349</td>\n",
              "      <td>348</td>\n",
              "      <td>355</td>\n",
              "      <td>241</td>\n",
              "      <td>241</td>\n",
              "      <td>243</td>\n",
              "      <td>162.51</td>\n",
              "      <td>9.22</td>\n",
              "    </tr>\n",
              "    <tr>\n",
              "      <th>2</th>\n",
              "      <td>2015-01-01 00:02:00</td>\n",
              "      <td>212</td>\n",
              "      <td>211</td>\n",
              "      <td>211</td>\n",
              "      <td>345</td>\n",
              "      <td>352</td>\n",
              "      <td>346</td>\n",
              "      <td>476</td>\n",
              "      <td>473</td>\n",
              "      <td>481</td>\n",
              "      <td>352</td>\n",
              "      <td>349</td>\n",
              "      <td>355</td>\n",
              "      <td>242</td>\n",
              "      <td>241</td>\n",
              "      <td>242</td>\n",
              "      <td>164.99</td>\n",
              "      <td>9.22</td>\n",
              "    </tr>\n",
              "  </tbody>\n",
              "</table>\n",
              "</div>"
            ],
            "text/plain": [
              "            Unnamed: 0  T_data_1_1  T_data_1_2  ...  T_data_5_3  H_data  AH_data\n",
              "0  2015-01-01 00:00:00         212         210  ...         243  167.85     9.22\n",
              "1  2015-01-01 00:01:00         212         211  ...         243  162.51     9.22\n",
              "2  2015-01-01 00:02:00         212         211  ...         242  164.99     9.22\n",
              "\n",
              "[3 rows x 18 columns]"
            ]
          },
          "metadata": {
            "tags": []
          },
          "execution_count": 14
        }
      ]
    },
    {
      "cell_type": "code",
      "metadata": {
        "id": "rxWisKltPLug",
        "colab_type": "code",
        "colab": {
          "base_uri": "https://localhost:8080/",
          "height": 442
        },
        "outputId": "3f8c23a6-b98e-4049-f01b-0eccd8c5e614"
      },
      "source": [
        "X_data.info(verbose=True, null_counts=True)"
      ],
      "execution_count": 15,
      "outputs": [
        {
          "output_type": "stream",
          "text": [
            "<class 'pandas.core.frame.DataFrame'>\n",
            "RangeIndex: 2103841 entries, 0 to 2103840\n",
            "Data columns (total 18 columns):\n",
            " #   Column      Non-Null Count    Dtype  \n",
            "---  ------      --------------    -----  \n",
            " 0   Unnamed: 0  2103841 non-null  object \n",
            " 1   T_data_1_1  2103841 non-null  int64  \n",
            " 2   T_data_1_2  2103841 non-null  int64  \n",
            " 3   T_data_1_3  2103841 non-null  int64  \n",
            " 4   T_data_2_1  2103841 non-null  int64  \n",
            " 5   T_data_2_2  2103841 non-null  int64  \n",
            " 6   T_data_2_3  2103841 non-null  int64  \n",
            " 7   T_data_3_1  2103841 non-null  int64  \n",
            " 8   T_data_3_2  2103841 non-null  int64  \n",
            " 9   T_data_3_3  2103841 non-null  int64  \n",
            " 10  T_data_4_1  2103841 non-null  int64  \n",
            " 11  T_data_4_2  2103841 non-null  int64  \n",
            " 12  T_data_4_3  2103841 non-null  int64  \n",
            " 13  T_data_5_1  2103841 non-null  int64  \n",
            " 14  T_data_5_2  2103841 non-null  int64  \n",
            " 15  T_data_5_3  2103841 non-null  int64  \n",
            " 16  H_data      2103841 non-null  float64\n",
            " 17  AH_data     2103841 non-null  float64\n",
            "dtypes: float64(2), int64(15), object(1)\n",
            "memory usage: 288.9+ MB\n"
          ],
          "name": "stdout"
        }
      ]
    },
    {
      "cell_type": "markdown",
      "metadata": {
        "id": "FhzUFvhbs1jA",
        "colab_type": "text"
      },
      "source": [
        "Пропущенных значений нет. Все столбцы содержат 2103841 значений, что равняется длине всего датафрейма<hr>\n",
        "Так как значения *H_data* и *AH_data* фиксируются на **входе**, то приходим к мнению, что в *1 колонке X_data* записано **время начала проката**. Чтобы сопоставить *данные с детекторов* и *данные о качестве*, которые составляются **на выходе обжиговой машины** к каждому значению X_data['Unnamed: 0'] прибавим время 1 полного прохода обжига, то есть 1 час."
      ]
    },
    {
      "cell_type": "code",
      "metadata": {
        "id": "butV8CdZR1Hj",
        "colab_type": "code",
        "colab": {
          "base_uri": "https://localhost:8080/",
          "height": 51
        },
        "outputId": "e851226c-9b15-4f92-9dbd-1d88d25a6e3b"
      },
      "source": [
        "from datetime import datetime, timedelta\n",
        "\n",
        "print(X_data['Unnamed: 0'].dtype)\n",
        "X_data['Unnamed: 0'] = pd.to_datetime(X_data['Unnamed: 0']) + timedelta(hours=1)\n",
        "print(X_data['Unnamed: 0'].dtype)"
      ],
      "execution_count": 16,
      "outputs": [
        {
          "output_type": "stream",
          "text": [
            "object\n",
            "datetime64[ns]\n"
          ],
          "name": "stdout"
        }
      ]
    },
    {
      "cell_type": "code",
      "metadata": {
        "id": "_BZwLAC9vC44",
        "colab_type": "code",
        "colab": {
          "base_uri": "https://localhost:8080/",
          "height": 827
        },
        "outputId": "20d7ba1b-0c43-473d-a3c0-186d7fc781d0"
      },
      "source": [
        "X_data = X_data.set_index(['Unnamed: 0'])\n",
        "X_data"
      ],
      "execution_count": 17,
      "outputs": [
        {
          "output_type": "execute_result",
          "data": {
            "text/html": [
              "<div>\n",
              "<style scoped>\n",
              "    .dataframe tbody tr th:only-of-type {\n",
              "        vertical-align: middle;\n",
              "    }\n",
              "\n",
              "    .dataframe tbody tr th {\n",
              "        vertical-align: top;\n",
              "    }\n",
              "\n",
              "    .dataframe thead th {\n",
              "        text-align: right;\n",
              "    }\n",
              "</style>\n",
              "<table border=\"1\" class=\"dataframe\">\n",
              "  <thead>\n",
              "    <tr style=\"text-align: right;\">\n",
              "      <th></th>\n",
              "      <th>T_data_1_1</th>\n",
              "      <th>T_data_1_2</th>\n",
              "      <th>T_data_1_3</th>\n",
              "      <th>T_data_2_1</th>\n",
              "      <th>T_data_2_2</th>\n",
              "      <th>T_data_2_3</th>\n",
              "      <th>T_data_3_1</th>\n",
              "      <th>T_data_3_2</th>\n",
              "      <th>T_data_3_3</th>\n",
              "      <th>T_data_4_1</th>\n",
              "      <th>T_data_4_2</th>\n",
              "      <th>T_data_4_3</th>\n",
              "      <th>T_data_5_1</th>\n",
              "      <th>T_data_5_2</th>\n",
              "      <th>T_data_5_3</th>\n",
              "      <th>H_data</th>\n",
              "      <th>AH_data</th>\n",
              "    </tr>\n",
              "    <tr>\n",
              "      <th>Unnamed: 0</th>\n",
              "      <th></th>\n",
              "      <th></th>\n",
              "      <th></th>\n",
              "      <th></th>\n",
              "      <th></th>\n",
              "      <th></th>\n",
              "      <th></th>\n",
              "      <th></th>\n",
              "      <th></th>\n",
              "      <th></th>\n",
              "      <th></th>\n",
              "      <th></th>\n",
              "      <th></th>\n",
              "      <th></th>\n",
              "      <th></th>\n",
              "      <th></th>\n",
              "      <th></th>\n",
              "    </tr>\n",
              "  </thead>\n",
              "  <tbody>\n",
              "    <tr>\n",
              "      <th>2015-01-01 01:00:00</th>\n",
              "      <td>212</td>\n",
              "      <td>210</td>\n",
              "      <td>211</td>\n",
              "      <td>347</td>\n",
              "      <td>353</td>\n",
              "      <td>347</td>\n",
              "      <td>474</td>\n",
              "      <td>473</td>\n",
              "      <td>481</td>\n",
              "      <td>346</td>\n",
              "      <td>348</td>\n",
              "      <td>355</td>\n",
              "      <td>241</td>\n",
              "      <td>241</td>\n",
              "      <td>243</td>\n",
              "      <td>167.85</td>\n",
              "      <td>9.22</td>\n",
              "    </tr>\n",
              "    <tr>\n",
              "      <th>2015-01-01 01:01:00</th>\n",
              "      <td>212</td>\n",
              "      <td>211</td>\n",
              "      <td>211</td>\n",
              "      <td>346</td>\n",
              "      <td>352</td>\n",
              "      <td>346</td>\n",
              "      <td>475</td>\n",
              "      <td>473</td>\n",
              "      <td>481</td>\n",
              "      <td>349</td>\n",
              "      <td>348</td>\n",
              "      <td>355</td>\n",
              "      <td>241</td>\n",
              "      <td>241</td>\n",
              "      <td>243</td>\n",
              "      <td>162.51</td>\n",
              "      <td>9.22</td>\n",
              "    </tr>\n",
              "    <tr>\n",
              "      <th>2015-01-01 01:02:00</th>\n",
              "      <td>212</td>\n",
              "      <td>211</td>\n",
              "      <td>211</td>\n",
              "      <td>345</td>\n",
              "      <td>352</td>\n",
              "      <td>346</td>\n",
              "      <td>476</td>\n",
              "      <td>473</td>\n",
              "      <td>481</td>\n",
              "      <td>352</td>\n",
              "      <td>349</td>\n",
              "      <td>355</td>\n",
              "      <td>242</td>\n",
              "      <td>241</td>\n",
              "      <td>242</td>\n",
              "      <td>164.99</td>\n",
              "      <td>9.22</td>\n",
              "    </tr>\n",
              "    <tr>\n",
              "      <th>2015-01-01 01:03:00</th>\n",
              "      <td>213</td>\n",
              "      <td>211</td>\n",
              "      <td>211</td>\n",
              "      <td>344</td>\n",
              "      <td>351</td>\n",
              "      <td>346</td>\n",
              "      <td>477</td>\n",
              "      <td>473</td>\n",
              "      <td>481</td>\n",
              "      <td>355</td>\n",
              "      <td>349</td>\n",
              "      <td>355</td>\n",
              "      <td>242</td>\n",
              "      <td>241</td>\n",
              "      <td>242</td>\n",
              "      <td>167.34</td>\n",
              "      <td>9.22</td>\n",
              "    </tr>\n",
              "    <tr>\n",
              "      <th>2015-01-01 01:04:00</th>\n",
              "      <td>213</td>\n",
              "      <td>211</td>\n",
              "      <td>211</td>\n",
              "      <td>343</td>\n",
              "      <td>350</td>\n",
              "      <td>346</td>\n",
              "      <td>478</td>\n",
              "      <td>473</td>\n",
              "      <td>482</td>\n",
              "      <td>358</td>\n",
              "      <td>349</td>\n",
              "      <td>355</td>\n",
              "      <td>243</td>\n",
              "      <td>241</td>\n",
              "      <td>242</td>\n",
              "      <td>163.04</td>\n",
              "      <td>9.22</td>\n",
              "    </tr>\n",
              "    <tr>\n",
              "      <th>...</th>\n",
              "      <td>...</td>\n",
              "      <td>...</td>\n",
              "      <td>...</td>\n",
              "      <td>...</td>\n",
              "      <td>...</td>\n",
              "      <td>...</td>\n",
              "      <td>...</td>\n",
              "      <td>...</td>\n",
              "      <td>...</td>\n",
              "      <td>...</td>\n",
              "      <td>...</td>\n",
              "      <td>...</td>\n",
              "      <td>...</td>\n",
              "      <td>...</td>\n",
              "      <td>...</td>\n",
              "      <td>...</td>\n",
              "      <td>...</td>\n",
              "    </tr>\n",
              "    <tr>\n",
              "      <th>2019-01-01 00:56:00</th>\n",
              "      <td>271</td>\n",
              "      <td>261</td>\n",
              "      <td>265</td>\n",
              "      <td>353</td>\n",
              "      <td>359</td>\n",
              "      <td>353</td>\n",
              "      <td>481</td>\n",
              "      <td>449</td>\n",
              "      <td>491</td>\n",
              "      <td>325</td>\n",
              "      <td>328</td>\n",
              "      <td>328</td>\n",
              "      <td>277</td>\n",
              "      <td>276</td>\n",
              "      <td>280</td>\n",
              "      <td>157.20</td>\n",
              "      <td>8.44</td>\n",
              "    </tr>\n",
              "    <tr>\n",
              "      <th>2019-01-01 00:57:00</th>\n",
              "      <td>271</td>\n",
              "      <td>261</td>\n",
              "      <td>265</td>\n",
              "      <td>353</td>\n",
              "      <td>359</td>\n",
              "      <td>353</td>\n",
              "      <td>481</td>\n",
              "      <td>449</td>\n",
              "      <td>491</td>\n",
              "      <td>325</td>\n",
              "      <td>328</td>\n",
              "      <td>328</td>\n",
              "      <td>277</td>\n",
              "      <td>276</td>\n",
              "      <td>280</td>\n",
              "      <td>160.40</td>\n",
              "      <td>8.44</td>\n",
              "    </tr>\n",
              "    <tr>\n",
              "      <th>2019-01-01 00:58:00</th>\n",
              "      <td>271</td>\n",
              "      <td>261</td>\n",
              "      <td>265</td>\n",
              "      <td>353</td>\n",
              "      <td>359</td>\n",
              "      <td>353</td>\n",
              "      <td>481</td>\n",
              "      <td>449</td>\n",
              "      <td>491</td>\n",
              "      <td>325</td>\n",
              "      <td>328</td>\n",
              "      <td>328</td>\n",
              "      <td>277</td>\n",
              "      <td>276</td>\n",
              "      <td>280</td>\n",
              "      <td>160.14</td>\n",
              "      <td>8.44</td>\n",
              "    </tr>\n",
              "    <tr>\n",
              "      <th>2019-01-01 00:59:00</th>\n",
              "      <td>271</td>\n",
              "      <td>261</td>\n",
              "      <td>265</td>\n",
              "      <td>353</td>\n",
              "      <td>359</td>\n",
              "      <td>353</td>\n",
              "      <td>481</td>\n",
              "      <td>449</td>\n",
              "      <td>491</td>\n",
              "      <td>325</td>\n",
              "      <td>328</td>\n",
              "      <td>328</td>\n",
              "      <td>277</td>\n",
              "      <td>276</td>\n",
              "      <td>280</td>\n",
              "      <td>162.96</td>\n",
              "      <td>8.44</td>\n",
              "    </tr>\n",
              "    <tr>\n",
              "      <th>2019-01-01 01:00:00</th>\n",
              "      <td>271</td>\n",
              "      <td>261</td>\n",
              "      <td>265</td>\n",
              "      <td>353</td>\n",
              "      <td>359</td>\n",
              "      <td>353</td>\n",
              "      <td>481</td>\n",
              "      <td>449</td>\n",
              "      <td>491</td>\n",
              "      <td>325</td>\n",
              "      <td>328</td>\n",
              "      <td>328</td>\n",
              "      <td>277</td>\n",
              "      <td>276</td>\n",
              "      <td>280</td>\n",
              "      <td>159.73</td>\n",
              "      <td>7.35</td>\n",
              "    </tr>\n",
              "  </tbody>\n",
              "</table>\n",
              "<p>2103841 rows × 17 columns</p>\n",
              "</div>"
            ],
            "text/plain": [
              "                     T_data_1_1  T_data_1_2  ...  H_data  AH_data\n",
              "Unnamed: 0                                   ...                 \n",
              "2015-01-01 01:00:00         212         210  ...  167.85     9.22\n",
              "2015-01-01 01:01:00         212         211  ...  162.51     9.22\n",
              "2015-01-01 01:02:00         212         211  ...  164.99     9.22\n",
              "2015-01-01 01:03:00         213         211  ...  167.34     9.22\n",
              "2015-01-01 01:04:00         213         211  ...  163.04     9.22\n",
              "...                         ...         ...  ...     ...      ...\n",
              "2019-01-01 00:56:00         271         261  ...  157.20     8.44\n",
              "2019-01-01 00:57:00         271         261  ...  160.40     8.44\n",
              "2019-01-01 00:58:00         271         261  ...  160.14     8.44\n",
              "2019-01-01 00:59:00         271         261  ...  162.96     8.44\n",
              "2019-01-01 01:00:00         271         261  ...  159.73     7.35\n",
              "\n",
              "[2103841 rows x 17 columns]"
            ]
          },
          "metadata": {
            "tags": []
          },
          "execution_count": 17
        }
      ]
    },
    {
      "cell_type": "markdown",
      "metadata": {
        "id": "MYW8PGRSyakA",
        "colab_type": "text"
      },
      "source": [
        "Составим датафрейм, состоящий только из данных, метрики качества которых нам известны:"
      ]
    },
    {
      "cell_type": "code",
      "metadata": {
        "id": "_gehZuFkyybQ",
        "colab_type": "code",
        "colab": {
          "base_uri": "https://localhost:8080/",
          "height": 34
        },
        "outputId": "7abf846b-fbe4-41c4-b3e9-5aeda38ddbad"
      },
      "source": [
        "X = X_data.loc[X_data.index.isin(Y_train.index)]\n",
        "X.shape, Y_train.shape"
      ],
      "execution_count": 22,
      "outputs": [
        {
          "output_type": "execute_result",
          "data": {
            "text/plain": [
              "((29184, 17), (29184, 1))"
            ]
          },
          "metadata": {
            "tags": []
          },
          "execution_count": 22
        }
      ]
    },
    {
      "cell_type": "code",
      "metadata": {
        "id": "pBX8_Ka76dOj",
        "colab_type": "code",
        "colab": {
          "base_uri": "https://localhost:8080/",
          "height": 439
        },
        "outputId": "120d6977-f744-4a43-aaa6-60f49d630c79"
      },
      "source": [
        "from sklearn import preprocessing\n",
        "\n",
        "min_max_scaler = preprocessing.MinMaxScaler()\n",
        "np_scaled = min_max_scaler.fit_transform(X)\n",
        "X_scaled = pd.DataFrame(np_scaled, columns = X.columns)\n",
        "X_scaled"
      ],
      "execution_count": 30,
      "outputs": [
        {
          "output_type": "execute_result",
          "data": {
            "text/html": [
              "<div>\n",
              "<style scoped>\n",
              "    .dataframe tbody tr th:only-of-type {\n",
              "        vertical-align: middle;\n",
              "    }\n",
              "\n",
              "    .dataframe tbody tr th {\n",
              "        vertical-align: top;\n",
              "    }\n",
              "\n",
              "    .dataframe thead th {\n",
              "        text-align: right;\n",
              "    }\n",
              "</style>\n",
              "<table border=\"1\" class=\"dataframe\">\n",
              "  <thead>\n",
              "    <tr style=\"text-align: right;\">\n",
              "      <th></th>\n",
              "      <th>T_data_1_1</th>\n",
              "      <th>T_data_1_2</th>\n",
              "      <th>T_data_1_3</th>\n",
              "      <th>T_data_2_1</th>\n",
              "      <th>T_data_2_2</th>\n",
              "      <th>T_data_2_3</th>\n",
              "      <th>T_data_3_1</th>\n",
              "      <th>T_data_3_2</th>\n",
              "      <th>T_data_3_3</th>\n",
              "      <th>T_data_4_1</th>\n",
              "      <th>T_data_4_2</th>\n",
              "      <th>T_data_4_3</th>\n",
              "      <th>T_data_5_1</th>\n",
              "      <th>T_data_5_2</th>\n",
              "      <th>T_data_5_3</th>\n",
              "      <th>H_data</th>\n",
              "      <th>AH_data</th>\n",
              "    </tr>\n",
              "  </thead>\n",
              "  <tbody>\n",
              "    <tr>\n",
              "      <th>0</th>\n",
              "      <td>0.501639</td>\n",
              "      <td>0.671053</td>\n",
              "      <td>0.485792</td>\n",
              "      <td>0.518482</td>\n",
              "      <td>0.592734</td>\n",
              "      <td>0.491604</td>\n",
              "      <td>0.521614</td>\n",
              "      <td>0.386343</td>\n",
              "      <td>0.562536</td>\n",
              "      <td>0.480025</td>\n",
              "      <td>0.480000</td>\n",
              "      <td>0.604681</td>\n",
              "      <td>0.328824</td>\n",
              "      <td>0.408066</td>\n",
              "      <td>0.491299</td>\n",
              "      <td>0.160019</td>\n",
              "      <td>0.189412</td>\n",
              "    </tr>\n",
              "    <tr>\n",
              "      <th>1</th>\n",
              "      <td>0.513661</td>\n",
              "      <td>0.652047</td>\n",
              "      <td>0.499323</td>\n",
              "      <td>0.511988</td>\n",
              "      <td>0.597036</td>\n",
              "      <td>0.501866</td>\n",
              "      <td>0.526417</td>\n",
              "      <td>0.387573</td>\n",
              "      <td>0.640346</td>\n",
              "      <td>0.486367</td>\n",
              "      <td>0.500000</td>\n",
              "      <td>0.605332</td>\n",
              "      <td>0.325702</td>\n",
              "      <td>0.405694</td>\n",
              "      <td>0.495315</td>\n",
              "      <td>0.142185</td>\n",
              "      <td>0.562353</td>\n",
              "    </tr>\n",
              "    <tr>\n",
              "      <th>2</th>\n",
              "      <td>0.513661</td>\n",
              "      <td>0.545322</td>\n",
              "      <td>0.497970</td>\n",
              "      <td>0.510989</td>\n",
              "      <td>0.596080</td>\n",
              "      <td>0.504664</td>\n",
              "      <td>0.524015</td>\n",
              "      <td>0.387573</td>\n",
              "      <td>0.650144</td>\n",
              "      <td>0.493342</td>\n",
              "      <td>0.510303</td>\n",
              "      <td>0.604031</td>\n",
              "      <td>0.328824</td>\n",
              "      <td>0.412811</td>\n",
              "      <td>0.479250</td>\n",
              "      <td>0.215143</td>\n",
              "      <td>0.451765</td>\n",
              "    </tr>\n",
              "    <tr>\n",
              "      <th>3</th>\n",
              "      <td>0.497268</td>\n",
              "      <td>0.494152</td>\n",
              "      <td>0.481732</td>\n",
              "      <td>0.513986</td>\n",
              "      <td>0.597514</td>\n",
              "      <td>0.481343</td>\n",
              "      <td>0.526417</td>\n",
              "      <td>0.386958</td>\n",
              "      <td>0.509510</td>\n",
              "      <td>0.499683</td>\n",
              "      <td>0.512121</td>\n",
              "      <td>0.602081</td>\n",
              "      <td>0.338189</td>\n",
              "      <td>0.423488</td>\n",
              "      <td>0.492637</td>\n",
              "      <td>0.135538</td>\n",
              "      <td>0.490588</td>\n",
              "    </tr>\n",
              "    <tr>\n",
              "      <th>4</th>\n",
              "      <td>0.476503</td>\n",
              "      <td>0.523392</td>\n",
              "      <td>0.470907</td>\n",
              "      <td>0.514486</td>\n",
              "      <td>0.594168</td>\n",
              "      <td>0.460821</td>\n",
              "      <td>0.533622</td>\n",
              "      <td>0.386650</td>\n",
              "      <td>0.565418</td>\n",
              "      <td>0.496512</td>\n",
              "      <td>0.504848</td>\n",
              "      <td>0.603381</td>\n",
              "      <td>0.352758</td>\n",
              "      <td>0.431791</td>\n",
              "      <td>0.500669</td>\n",
              "      <td>0.133106</td>\n",
              "      <td>0.469412</td>\n",
              "    </tr>\n",
              "    <tr>\n",
              "      <th>...</th>\n",
              "      <td>...</td>\n",
              "      <td>...</td>\n",
              "      <td>...</td>\n",
              "      <td>...</td>\n",
              "      <td>...</td>\n",
              "      <td>...</td>\n",
              "      <td>...</td>\n",
              "      <td>...</td>\n",
              "      <td>...</td>\n",
              "      <td>...</td>\n",
              "      <td>...</td>\n",
              "      <td>...</td>\n",
              "      <td>...</td>\n",
              "      <td>...</td>\n",
              "      <td>...</td>\n",
              "      <td>...</td>\n",
              "      <td>...</td>\n",
              "    </tr>\n",
              "    <tr>\n",
              "      <th>29179</th>\n",
              "      <td>0.490710</td>\n",
              "      <td>0.539474</td>\n",
              "      <td>0.483085</td>\n",
              "      <td>0.541459</td>\n",
              "      <td>0.622371</td>\n",
              "      <td>0.515858</td>\n",
              "      <td>0.502882</td>\n",
              "      <td>0.334051</td>\n",
              "      <td>0.522190</td>\n",
              "      <td>0.506024</td>\n",
              "      <td>0.486061</td>\n",
              "      <td>0.613784</td>\n",
              "      <td>0.337149</td>\n",
              "      <td>0.431791</td>\n",
              "      <td>0.520750</td>\n",
              "      <td>0.182069</td>\n",
              "      <td>0.549412</td>\n",
              "    </tr>\n",
              "    <tr>\n",
              "      <th>29180</th>\n",
              "      <td>0.491803</td>\n",
              "      <td>0.552632</td>\n",
              "      <td>0.489851</td>\n",
              "      <td>0.540460</td>\n",
              "      <td>0.619025</td>\n",
              "      <td>0.507463</td>\n",
              "      <td>0.499520</td>\n",
              "      <td>0.352199</td>\n",
              "      <td>0.519885</td>\n",
              "      <td>0.504122</td>\n",
              "      <td>0.482424</td>\n",
              "      <td>0.613134</td>\n",
              "      <td>0.328824</td>\n",
              "      <td>0.427046</td>\n",
              "      <td>0.508701</td>\n",
              "      <td>0.202173</td>\n",
              "      <td>0.495294</td>\n",
              "    </tr>\n",
              "    <tr>\n",
              "      <th>29181</th>\n",
              "      <td>0.493989</td>\n",
              "      <td>0.548246</td>\n",
              "      <td>0.481732</td>\n",
              "      <td>0.536963</td>\n",
              "      <td>0.612333</td>\n",
              "      <td>0.511194</td>\n",
              "      <td>0.490874</td>\n",
              "      <td>0.375269</td>\n",
              "      <td>0.515274</td>\n",
              "      <td>0.507926</td>\n",
              "      <td>0.478788</td>\n",
              "      <td>0.612484</td>\n",
              "      <td>0.329865</td>\n",
              "      <td>0.425860</td>\n",
              "      <td>0.502008</td>\n",
              "      <td>0.197309</td>\n",
              "      <td>0.558824</td>\n",
              "    </tr>\n",
              "    <tr>\n",
              "      <th>29182</th>\n",
              "      <td>0.495082</td>\n",
              "      <td>0.546784</td>\n",
              "      <td>0.485792</td>\n",
              "      <td>0.532967</td>\n",
              "      <td>0.603728</td>\n",
              "      <td>0.501866</td>\n",
              "      <td>0.489914</td>\n",
              "      <td>0.364196</td>\n",
              "      <td>0.511239</td>\n",
              "      <td>0.500317</td>\n",
              "      <td>0.488485</td>\n",
              "      <td>0.610533</td>\n",
              "      <td>0.351717</td>\n",
              "      <td>0.430605</td>\n",
              "      <td>0.502008</td>\n",
              "      <td>0.162127</td>\n",
              "      <td>0.532941</td>\n",
              "    </tr>\n",
              "    <tr>\n",
              "      <th>29183</th>\n",
              "      <td>0.489617</td>\n",
              "      <td>0.548246</td>\n",
              "      <td>0.481732</td>\n",
              "      <td>0.528971</td>\n",
              "      <td>0.605163</td>\n",
              "      <td>0.503731</td>\n",
              "      <td>0.494236</td>\n",
              "      <td>0.377422</td>\n",
              "      <td>0.508357</td>\n",
              "      <td>0.499683</td>\n",
              "      <td>0.486667</td>\n",
              "      <td>0.609883</td>\n",
              "      <td>0.349636</td>\n",
              "      <td>0.440095</td>\n",
              "      <td>0.503347</td>\n",
              "      <td>0.144131</td>\n",
              "      <td>0.680000</td>\n",
              "    </tr>\n",
              "  </tbody>\n",
              "</table>\n",
              "<p>29184 rows × 17 columns</p>\n",
              "</div>"
            ],
            "text/plain": [
              "       T_data_1_1  T_data_1_2  T_data_1_3  ...  T_data_5_3    H_data   AH_data\n",
              "0        0.501639    0.671053    0.485792  ...    0.491299  0.160019  0.189412\n",
              "1        0.513661    0.652047    0.499323  ...    0.495315  0.142185  0.562353\n",
              "2        0.513661    0.545322    0.497970  ...    0.479250  0.215143  0.451765\n",
              "3        0.497268    0.494152    0.481732  ...    0.492637  0.135538  0.490588\n",
              "4        0.476503    0.523392    0.470907  ...    0.500669  0.133106  0.469412\n",
              "...           ...         ...         ...  ...         ...       ...       ...\n",
              "29179    0.490710    0.539474    0.483085  ...    0.520750  0.182069  0.549412\n",
              "29180    0.491803    0.552632    0.489851  ...    0.508701  0.202173  0.495294\n",
              "29181    0.493989    0.548246    0.481732  ...    0.502008  0.197309  0.558824\n",
              "29182    0.495082    0.546784    0.485792  ...    0.502008  0.162127  0.532941\n",
              "29183    0.489617    0.548246    0.481732  ...    0.503347  0.144131  0.680000\n",
              "\n",
              "[29184 rows x 17 columns]"
            ]
          },
          "metadata": {
            "tags": []
          },
          "execution_count": 30
        }
      ]
    },
    {
      "cell_type": "code",
      "metadata": {
        "id": "s7WxHQaw60yj",
        "colab_type": "code",
        "colab": {}
      },
      "source": [
        "from sklearn.model_selection import cross_val_score, train_test_split\n",
        "\n",
        "X_train, X_holdout, y_train, y_holdout = train_test_split(X_scaled, Y_train.values, \n",
        "                                                          test_size=0.3, random_state=2)"
      ],
      "execution_count": 41,
      "outputs": []
    },
    {
      "cell_type": "code",
      "metadata": {
        "id": "gft9FPY49N6D",
        "colab_type": "code",
        "colab": {
          "base_uri": "https://localhost:8080/",
          "height": 34
        },
        "outputId": "da0c6c65-fabe-4f59-cb19-0b9768b76c27"
      },
      "source": [
        "(X_train.shape, y_train.shape), \\\n",
        "(X_holdout.shape, y_holdout.shape)"
      ],
      "execution_count": 42,
      "outputs": [
        {
          "output_type": "execute_result",
          "data": {
            "text/plain": [
              "(((20428, 17), (20428, 1)), ((8756, 17), (8756, 1)))"
            ]
          },
          "metadata": {
            "tags": []
          },
          "execution_count": 42
        }
      ]
    },
    {
      "cell_type": "code",
      "metadata": {
        "id": "sjNYEhI69r_z",
        "colab_type": "code",
        "colab": {}
      },
      "source": [
        "from sklearn.linear_model import LinearRegression\n",
        "\n",
        "linreg = LinearRegression()\n",
        "linreg.fit(X_train, y_train)\n",
        "\n",
        "y_pred = linreg.predict(X_holdout)"
      ],
      "execution_count": 45,
      "outputs": []
    },
    {
      "cell_type": "code",
      "metadata": {
        "id": "KsY-oQPf-N8x",
        "colab_type": "code",
        "colab": {
          "base_uri": "https://localhost:8080/",
          "height": 51
        },
        "outputId": "fca11527-c843-400a-b778-3aa6a50e5eb6"
      },
      "source": [
        "from sklearn.metrics.regression import mean_squared_error as mae\n",
        "\n",
        "print(\"Mean absolute  error (train) {:.3f}\".format(mae(y_train, linreg.predict(X_train))))\n",
        "print(\"Mean absolute  error (holdout): {:.3f}\".format(mae(y_holdout, y_pred)))\n"
      ],
      "execution_count": 47,
      "outputs": [
        {
          "output_type": "stream",
          "text": [
            "Mean absolute  error (train) 501.746\n",
            "Mean absolute  error (holdout): 511.866\n"
          ],
          "name": "stdout"
        }
      ]
    },
    {
      "cell_type": "code",
      "metadata": {
        "id": "VY9QV2vA-pzU",
        "colab_type": "code",
        "colab": {}
      },
      "source": [
        ""
      ],
      "execution_count": null,
      "outputs": []
    },
    {
      "cell_type": "code",
      "metadata": {
        "id": "WER5MYTF-1w8",
        "colab_type": "code",
        "colab": {}
      },
      "source": [
        ""
      ],
      "execution_count": null,
      "outputs": []
    },
    {
      "cell_type": "code",
      "metadata": {
        "id": "sSCdv3gP-12y",
        "colab_type": "code",
        "colab": {
          "base_uri": "https://localhost:8080/",
          "height": 68
        },
        "outputId": "da8a6f54-2018-487b-aeee-1b372e466b7a"
      },
      "source": [
        "from sklearn.linear_model import Lasso, LassoCV\n",
        "\n",
        "lasso1 = Lasso(alpha=0.01, random_state=2)\n",
        "lasso1.fit(X_train, y_train)\n"
      ],
      "execution_count": 50,
      "outputs": [
        {
          "output_type": "execute_result",
          "data": {
            "text/plain": [
              "Lasso(alpha=0.01, copy_X=True, fit_intercept=True, max_iter=1000,\n",
              "      normalize=False, positive=False, precompute=False, random_state=2,\n",
              "      selection='cyclic', tol=0.0001, warm_start=False)"
            ]
          },
          "metadata": {
            "tags": []
          },
          "execution_count": 50
        }
      ]
    },
    {
      "cell_type": "code",
      "metadata": {
        "id": "rGj07rgM_RiR",
        "colab_type": "code",
        "colab": {}
      },
      "source": [
        ""
      ],
      "execution_count": null,
      "outputs": []
    },
    {
      "cell_type": "code",
      "metadata": {
        "id": "QZADh32R-10E",
        "colab_type": "code",
        "colab": {
          "base_uri": "https://localhost:8080/",
          "height": 292
        },
        "outputId": "4616ef63-d1ee-47d4-c00f-eb24cae90f73"
      },
      "source": [
        "alphas = np.logspace(-6, 2, 200)\n",
        "lasso_cv = LassoCV(alphas=alphas, cv=5, random_state=2)\n",
        "lasso_cv.fit(X_train, y_train)\n"
      ],
      "execution_count": 51,
      "outputs": [
        {
          "output_type": "stream",
          "text": [
            "/usr/local/lib/python3.6/dist-packages/sklearn/linear_model/_coordinate_descent.py:1088: DataConversionWarning: A column-vector y was passed when a 1d array was expected. Please change the shape of y to (n_samples, ), for example using ravel().\n",
            "  y = column_or_1d(y, warn=True)\n"
          ],
          "name": "stderr"
        },
        {
          "output_type": "execute_result",
          "data": {
            "text/plain": [
              "LassoCV(alphas=array([1.00000000e-06, 1.09698580e-06, 1.20337784e-06, 1.32008840e-06,\n",
              "       1.44811823e-06, 1.58856513e-06, 1.74263339e-06, 1.91164408e-06,\n",
              "       2.09704640e-06, 2.30043012e-06, 2.52353917e-06, 2.76828663e-06,\n",
              "       3.03677112e-06, 3.33129479e-06, 3.65438307e-06, 4.00880633e-06,\n",
              "       4.39760361e-06, 4.82410870e-06, 5.29197874e-06, 5.80522552e-06,\n",
              "       6.36824994e-06, 6.98587975e-0...\n",
              "       3.61234270e+01, 3.96268864e+01, 4.34701316e+01, 4.76861170e+01,\n",
              "       5.23109931e+01, 5.73844165e+01, 6.29498899e+01, 6.90551352e+01,\n",
              "       7.57525026e+01, 8.30994195e+01, 9.11588830e+01, 1.00000000e+02]),\n",
              "        copy_X=True, cv=5, eps=0.001, fit_intercept=True, max_iter=1000,\n",
              "        n_alphas=100, n_jobs=None, normalize=False, positive=False,\n",
              "        precompute='auto', random_state=2, selection='cyclic', tol=0.0001,\n",
              "        verbose=False)"
            ]
          },
          "metadata": {
            "tags": []
          },
          "execution_count": 51
        }
      ]
    },
    {
      "cell_type": "code",
      "metadata": {
        "id": "FYn9ORQb_Xf3",
        "colab_type": "code",
        "colab": {
          "base_uri": "https://localhost:8080/",
          "height": 34
        },
        "outputId": "24e8dcd5-4caf-4353-8add-f66904ea7433"
      },
      "source": [
        "lasso_cv.alpha_"
      ],
      "execution_count": 52,
      "outputs": [
        {
          "output_type": "execute_result",
          "data": {
            "text/plain": [
              "0.002381685551976158"
            ]
          },
          "metadata": {
            "tags": []
          },
          "execution_count": 52
        }
      ]
    },
    {
      "cell_type": "code",
      "metadata": {
        "id": "5yY137vV_YCy",
        "colab_type": "code",
        "colab": {
          "base_uri": "https://localhost:8080/",
          "height": 51
        },
        "outputId": "6ff81410-15d6-4a37-a951-48c351b21820"
      },
      "source": [
        "print(\"Mean absolute error (train) {:.3f}\".format(mae(y_train, lasso_cv.predict(X_train))))\n",
        "print(\"Mean absolute error (holdout) {:.3f}\".format(mae(y_holdout, lasso_cv.predict(X_holdout))))"
      ],
      "execution_count": 53,
      "outputs": [
        {
          "output_type": "stream",
          "text": [
            "Mean absolute error (train) 501.826\n",
            "Mean absolute error (holdout) 511.926\n"
          ],
          "name": "stdout"
        }
      ]
    },
    {
      "cell_type": "code",
      "metadata": {
        "id": "N0wmlS-7_m7w",
        "colab_type": "code",
        "colab": {}
      },
      "source": [
        ""
      ],
      "execution_count": null,
      "outputs": []
    },
    {
      "cell_type": "code",
      "metadata": {
        "id": "7w_rE7Qu_p9p",
        "colab_type": "code",
        "colab": {}
      },
      "source": [
        ""
      ],
      "execution_count": null,
      "outputs": []
    },
    {
      "cell_type": "code",
      "metadata": {
        "id": "FFAwaieq_p6t",
        "colab_type": "code",
        "colab": {}
      },
      "source": [
        ""
      ],
      "execution_count": null,
      "outputs": []
    },
    {
      "cell_type": "code",
      "metadata": {
        "id": "9gPRDyEg_p3O",
        "colab_type": "code",
        "colab": {
          "base_uri": "https://localhost:8080/",
          "height": 190
        },
        "outputId": "e725e3bb-1b34-4a67-fc8d-fdf17c0e7bb3"
      },
      "source": [
        "from sklearn.ensemble import RandomForestRegressor\n",
        "\n",
        "forest = RandomForestRegressor(random_state=2)\n",
        "forest.fit(X_train, y_train)"
      ],
      "execution_count": 55,
      "outputs": [
        {
          "output_type": "stream",
          "text": [
            "/usr/local/lib/python3.6/dist-packages/ipykernel_launcher.py:4: DataConversionWarning: A column-vector y was passed when a 1d array was expected. Please change the shape of y to (n_samples,), for example using ravel().\n",
            "  after removing the cwd from sys.path.\n"
          ],
          "name": "stderr"
        },
        {
          "output_type": "execute_result",
          "data": {
            "text/plain": [
              "RandomForestRegressor(bootstrap=True, ccp_alpha=0.0, criterion='mse',\n",
              "                      max_depth=None, max_features='auto', max_leaf_nodes=None,\n",
              "                      max_samples=None, min_impurity_decrease=0.0,\n",
              "                      min_impurity_split=None, min_samples_leaf=1,\n",
              "                      min_samples_split=2, min_weight_fraction_leaf=0.0,\n",
              "                      n_estimators=100, n_jobs=None, oob_score=False,\n",
              "                      random_state=2, verbose=0, warm_start=False)"
            ]
          },
          "metadata": {
            "tags": []
          },
          "execution_count": 55
        }
      ]
    },
    {
      "cell_type": "code",
      "metadata": {
        "id": "Uhju9ar__uG_",
        "colab_type": "code",
        "colab": {
          "base_uri": "https://localhost:8080/",
          "height": 68
        },
        "outputId": "30482125-950b-4cd2-bee4-132f5f3dca10"
      },
      "source": [
        "import warnings\n",
        "warnings.filterwarnings('ignore')\n",
        "\n",
        "\n",
        "print(\"Mean absolute error (train) {:.2f}\".format(mae(y_train, forest.predict(X_train))))\n",
        "print(\"Mean absolute error (cv): {:.2f}\".format( abs(cross_val_score(\n",
        "    forest, X_holdout, y_holdout, scoring='neg_mean_absolute_error').mean() )))\n",
        "print(\"Mean absolute error (holdout) {:.2f}\".format(mae(y_holdout, forest.predict(X_holdout))))"
      ],
      "execution_count": 69,
      "outputs": [
        {
          "output_type": "stream",
          "text": [
            "Mean absolute error (train) 21.02\n",
            "Mean absolute error (cv): 9.87\n",
            "Mean absolute error (holdout) 151.23\n"
          ],
          "name": "stdout"
        }
      ]
    },
    {
      "cell_type": "code",
      "metadata": {
        "id": "SCT2Hb9gCMtp",
        "colab_type": "code",
        "colab": {
          "base_uri": "https://localhost:8080/",
          "height": 136
        },
        "outputId": "e795463c-9a48-4bde-f64c-f36bf211250e"
      },
      "source": [
        "from sklearn.model_selection import GridSearchCV\n",
        "\n",
        "\n",
        "forest_params = {'max_depth': list(range(10, 25)), \n",
        "                 'min_samples_leaf': list(range(1, 8)),\n",
        "                 'max_features': list(range(6,12))}\n",
        "\n",
        "locally_best_forest = GridSearchCV(RandomForestRegressor(n_jobs=-1, random_state=2),\n",
        "                                   forest_params, \n",
        "                                   scoring='neg_mean_absolute_error',  \n",
        "                                   n_jobs=-1, \n",
        "                                   verbose=True)\n",
        "\n",
        "locally_best_forest.fit(X_train, y_train)"
      ],
      "execution_count": null,
      "outputs": [
        {
          "output_type": "stream",
          "text": [
            "Fitting 5 folds for each of 630 candidates, totalling 3150 fits\n"
          ],
          "name": "stdout"
        },
        {
          "output_type": "stream",
          "text": [
            "[Parallel(n_jobs=-1)]: Using backend LokyBackend with 2 concurrent workers.\n",
            "[Parallel(n_jobs=-1)]: Done  46 tasks      | elapsed:  2.6min\n",
            "[Parallel(n_jobs=-1)]: Done 196 tasks      | elapsed: 14.4min\n",
            "[Parallel(n_jobs=-1)]: Done 446 tasks      | elapsed: 34.0min\n",
            "[Parallel(n_jobs=-1)]: Done 796 tasks      | elapsed: 63.9min\n",
            "[Parallel(n_jobs=-1)]: Done 1246 tasks      | elapsed: 105.1min\n"
          ],
          "name": "stderr"
        }
      ]
    },
    {
      "cell_type": "code",
      "metadata": {
        "id": "CvjhPsHtDcbJ",
        "colab_type": "code",
        "colab": {}
      },
      "source": [
        "locally_best_forest.best_params_, locally_best_forest.best_score_"
      ],
      "execution_count": null,
      "outputs": []
    }
  ]
}