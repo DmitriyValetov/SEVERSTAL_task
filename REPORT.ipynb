{
  "nbformat": 4,
  "nbformat_minor": 0,
  "metadata": {
    "colab": {
      "name": "REPORT.ipynb",
      "provenance": [],
      "toc_visible": true,
      "mount_file_id": "1o2SsSUrJGi5YyIG1_MG0bFiDoSBFY5t8",
      "authorship_tag": "ABX9TyNVu5B5zlYKJQ5xqnFuL77M",
      "include_colab_link": true
    },
    "kernelspec": {
      "name": "python3",
      "display_name": "Python 3"
    }
  },
  "cells": [
    {
      "cell_type": "markdown",
      "metadata": {
        "id": "view-in-github",
        "colab_type": "text"
      },
      "source": [
        "<a href=\"https://colab.research.google.com/github/IamSVP94/SEVERSTAL_task/blob/master/REPORT.ipynb\" target=\"_parent\"><img src=\"https://colab.research.google.com/assets/colab-badge.svg\" alt=\"Open In Colab\"/></a>"
      ]
    },
    {
      "cell_type": "code",
      "metadata": {
        "id": "SEHthfHeffQv",
        "colab_type": "code",
        "colab": {}
      },
      "source": [
        "import pandas as pd\n",
        "from statsmodels.stats.weightstats import _tconfint_generic\n",
        "import numpy as np\n",
        "import matplotlib.pyplot as plt"
      ],
      "execution_count": 176,
      "outputs": []
    },
    {
      "cell_type": "markdown",
      "metadata": {
        "id": "x3ylOOXjfvHf",
        "colab_type": "text"
      },
      "source": [
        "## Задание 1"
      ]
    },
    {
      "cell_type": "code",
      "metadata": {
        "id": "hBXxqsIbrSdP",
        "colab_type": "code",
        "colab": {}
      },
      "source": [
        "path_to_project_directory = '/content/drive/My Drive/Colab Notebooks/SEVERSTAL_task/Data/'"
      ],
      "execution_count": 177,
      "outputs": []
    },
    {
      "cell_type": "code",
      "metadata": {
        "id": "ClXZwqvKhtLu",
        "colab_type": "code",
        "colab": {
          "base_uri": "https://localhost:8080/",
          "height": 419
        },
        "outputId": "1bf2f2ee-cb13-46ec-a997-9eaf1b2492f8"
      },
      "source": [
        "statistics = pd.read_csv(path_to_project_directory+'Статистика за 2018 год.csv', encoding='cp1251')\n",
        "statistics"
      ],
      "execution_count": 178,
      "outputs": [
        {
          "output_type": "execute_result",
          "data": {
            "text/html": [
              "<div>\n",
              "<style scoped>\n",
              "    .dataframe tbody tr th:only-of-type {\n",
              "        vertical-align: middle;\n",
              "    }\n",
              "\n",
              "    .dataframe tbody tr th {\n",
              "        vertical-align: top;\n",
              "    }\n",
              "\n",
              "    .dataframe thead th {\n",
              "        text-align: right;\n",
              "    }\n",
              "</style>\n",
              "<table border=\"1\" class=\"dataframe\">\n",
              "  <thead>\n",
              "    <tr style=\"text-align: right;\">\n",
              "      <th></th>\n",
              "      <th>Число бракованных листов</th>\n",
              "      <th>Скорость прокатки</th>\n",
              "      <th>Марка стали</th>\n",
              "    </tr>\n",
              "  </thead>\n",
              "  <tbody>\n",
              "    <tr>\n",
              "      <th>0</th>\n",
              "      <td>3</td>\n",
              "      <td>3.8</td>\n",
              "      <td>A</td>\n",
              "    </tr>\n",
              "    <tr>\n",
              "      <th>1</th>\n",
              "      <td>3</td>\n",
              "      <td>3.8</td>\n",
              "      <td>B</td>\n",
              "    </tr>\n",
              "    <tr>\n",
              "      <th>2</th>\n",
              "      <td>3</td>\n",
              "      <td>4.8</td>\n",
              "      <td>B</td>\n",
              "    </tr>\n",
              "    <tr>\n",
              "      <th>3</th>\n",
              "      <td>4</td>\n",
              "      <td>4.4</td>\n",
              "      <td>B</td>\n",
              "    </tr>\n",
              "    <tr>\n",
              "      <th>4</th>\n",
              "      <td>6</td>\n",
              "      <td>5.0</td>\n",
              "      <td>B</td>\n",
              "    </tr>\n",
              "    <tr>\n",
              "      <th>...</th>\n",
              "      <td>...</td>\n",
              "      <td>...</td>\n",
              "      <td>...</td>\n",
              "    </tr>\n",
              "    <tr>\n",
              "      <th>232</th>\n",
              "      <td>1</td>\n",
              "      <td>4.7</td>\n",
              "      <td>A</td>\n",
              "    </tr>\n",
              "    <tr>\n",
              "      <th>233</th>\n",
              "      <td>3</td>\n",
              "      <td>3.4</td>\n",
              "      <td>A</td>\n",
              "    </tr>\n",
              "    <tr>\n",
              "      <th>234</th>\n",
              "      <td>2</td>\n",
              "      <td>5.5</td>\n",
              "      <td>A</td>\n",
              "    </tr>\n",
              "    <tr>\n",
              "      <th>235</th>\n",
              "      <td>3</td>\n",
              "      <td>5.0</td>\n",
              "      <td>B</td>\n",
              "    </tr>\n",
              "    <tr>\n",
              "      <th>236</th>\n",
              "      <td>5</td>\n",
              "      <td>4.7</td>\n",
              "      <td>A</td>\n",
              "    </tr>\n",
              "  </tbody>\n",
              "</table>\n",
              "<p>237 rows × 3 columns</p>\n",
              "</div>"
            ],
            "text/plain": [
              "     Число бракованных листов  Скорость прокатки Марка стали\n",
              "0                           3                3.8           A\n",
              "1                           3                3.8           B\n",
              "2                           3                4.8           B\n",
              "3                           4                4.4           B\n",
              "4                           6                5.0           B\n",
              "..                        ...                ...         ...\n",
              "232                         1                4.7           A\n",
              "233                         3                3.4           A\n",
              "234                         2                5.5           A\n",
              "235                         3                5.0           B\n",
              "236                         5                4.7           A\n",
              "\n",
              "[237 rows x 3 columns]"
            ]
          },
          "metadata": {
            "tags": []
          },
          "execution_count": 178
        }
      ]
    },
    {
      "cell_type": "code",
      "metadata": {
        "id": "3Gj4QFCf5-iY",
        "colab_type": "code",
        "colab": {
          "base_uri": "https://localhost:8080/",
          "height": 279
        },
        "outputId": "3a8ac052-049e-48d9-c003-5dfee1d6eaa4"
      },
      "source": [
        "plt.bar(statistics['Скорость прокатки'],\n",
        "        statistics['Число бракованных листов'],\n",
        "        width=0.1)\n",
        "plt.xlabel('Скорость прокатки')\n",
        "plt.ylabel('Число бракованных листов')\n",
        "plt.yticks(statistics['Число бракованных листов'].unique())\n",
        "plt.xticks(np.arange(min(statistics['Скорость прокатки']), \n",
        "                     max(statistics['Скорость прокатки'])+1, \n",
        "                     0.5))\n",
        "\n",
        "plt.grid()"
      ],
      "execution_count": 179,
      "outputs": [
        {
          "output_type": "display_data",
          "data": {
            "image/png": "[encoded data removed]",
            "text/plain": [
              "<Figure size 432x288 with 1 Axes>"
            ]
          },
          "metadata": {
            "tags": [],
            "needs_background": "light"
          }
        }
      ]
    },
    {
      "cell_type": "code",
      "metadata": {
        "id": "FZEGTsCnnpqJ",
        "colab_type": "code",
        "colab": {
          "base_uri": "https://localhost:8080/",
          "height": 34
        },
        "outputId": "f7a51d29-06d6-4033-c53c-6c74438447d0"
      },
      "source": [
        "statistics[statistics['Марка стали']=='A']['Число бракованных листов'].mean(), \\\n",
        "statistics[statistics['Марка стали']=='B']['Число бракованных листов'].mean()"
      ],
      "execution_count": 180,
      "outputs": [
        {
          "output_type": "execute_result",
          "data": {
            "text/plain": [
              "(3.179856115107914, 3.36734693877551)"
            ]
          },
          "metadata": {
            "tags": []
          },
          "execution_count": 180
        }
      ]
    },
    {
      "cell_type": "markdown",
      "metadata": {
        "id": "fW-U-Hw301R3",
        "colab_type": "text"
      },
      "source": [
        "95% доверительные интервалы для средних значений"
      ]
    },
    {
      "cell_type": "code",
      "metadata": {
        "id": "Z41Rt4W3x_DA",
        "colab_type": "code",
        "colab": {
          "base_uri": "https://localhost:8080/",
          "height": 34
        },
        "outputId": "782cee37-68dc-4c8c-c14b-7f96e609473e"
      },
      "source": [
        "_tconfint_generic(statistics[statistics['Марка стали']=='A']['Число бракованных листов'].mean(), \n",
        "                  statistics[statistics['Марка стали']=='A']['Число бракованных листов'].std(ddof=1) / np.sqrt(len(statistics[statistics['Марка стали']=='A']['Число бракованных листов'])),                  \n",
        "                  len(statistics[statistics['Марка стали']=='A']['Число бракованных листов']) - 1, \n",
        "                  0.05, 'two-sided')"
      ],
      "execution_count": 181,
      "outputs": [
        {
          "output_type": "execute_result",
          "data": {
            "text/plain": [
              "(2.8630226081965824, 3.4966896220192454)"
            ]
          },
          "metadata": {
            "tags": []
          },
          "execution_count": 181
        }
      ]
    },
    {
      "cell_type": "code",
      "metadata": {
        "id": "UuEpZoI8yhxb",
        "colab_type": "code",
        "colab": {
          "base_uri": "https://localhost:8080/",
          "height": 34
        },
        "outputId": "86603e1f-08f2-4a3a-d2f8-60ec9b37df44"
      },
      "source": [
        "_tconfint_generic(statistics[statistics['Марка стали']=='B']['Число бракованных листов'].mean(), \n",
        "                  statistics[statistics['Марка стали']=='B']['Число бракованных листов'].std(ddof=1) / np.sqrt(len(statistics[statistics['Марка стали']=='A']['Число бракованных листов'])),                  \n",
        "                  len(statistics[statistics['Марка стали']=='B']['Число бракованных листов']) - 1, \n",
        "                  0.05, 'two-sided')"
      ],
      "execution_count": 182,
      "outputs": [
        {
          "output_type": "execute_result",
          "data": {
            "text/plain": [
              "(3.0829856289671023, 3.651708248583918)"
            ]
          },
          "metadata": {
            "tags": []
          },
          "execution_count": 182
        }
      ]
    },
    {
      "cell_type": "markdown",
      "metadata": {
        "id": "ydMdEvO0od8y",
        "colab_type": "text"
      },
      "source": [
        "Действительно, в среднем брака на нашей выборке марки A больше, чем на B"
      ]
    },
    {
      "cell_type": "code",
      "metadata": {
        "id": "Z0DavhvToK2R",
        "colab_type": "code",
        "colab": {
          "base_uri": "https://localhost:8080/",
          "height": 34
        },
        "outputId": "ee058ae1-b33a-4e0b-da6b-ea517c8b37e3"
      },
      "source": [
        "statistics[statistics['Скорость прокатки']<=4]['Число бракованных листов'].mean(), \\\n",
        "statistics[statistics['Скорость прокатки']>4]['Число бракованных листов'].mean()"
      ],
      "execution_count": 183,
      "outputs": [
        {
          "output_type": "execute_result",
          "data": {
            "text/plain": [
              "(3.0689655172413794, 3.3184357541899443)"
            ]
          },
          "metadata": {
            "tags": []
          },
          "execution_count": 183
        }
      ]
    },
    {
      "cell_type": "markdown",
      "metadata": {
        "id": "e9vnkieSrGAI",
        "colab_type": "text"
      },
      "source": [
        "Действительно, в среднем брака на нашей выборке со скоростью обкатки свыше 4-х м/с становится больше"
      ]
    },
    {
      "cell_type": "markdown",
      "metadata": {
        "id": "ZduVwiaXr2B7",
        "colab_type": "text"
      },
      "source": [
        "<hr>\n",
        "\n",
        "**Гипотеза 1**: Более 3 бракованных листов на партию выходит значимо чаще для стали марки А, чем для стали марки B.\n"
      ]
    },
    {
      "cell_type": "code",
      "metadata": {
        "id": "j4mzqTc0rCb8",
        "colab_type": "code",
        "colab": {
          "base_uri": "https://localhost:8080/",
          "height": 34
        },
        "outputId": "476077b4-aa92-482b-9465-086d9d221183"
      },
      "source": [
        "statistics[(statistics['Марка стали']=='A') & (statistics['Число бракованных листов']>3)]['Число бракованных листов'].mean(), \\\n",
        "statistics[(statistics['Марка стали']=='B') & (statistics['Число бракованных листов']>3)]['Число бракованных листов'].mean()"
      ],
      "execution_count": 184,
      "outputs": [
        {
          "output_type": "execute_result",
          "data": {
            "text/plain": [
              "(5.113207547169812, 4.886363636363637)"
            ]
          },
          "metadata": {
            "tags": []
          },
          "execution_count": 184
        }
      ]
    },
    {
      "cell_type": "markdown",
      "metadata": {
        "id": "sz0X08suXwWK",
        "colab_type": "text"
      },
      "source": [
        "<hr>\n",
        "\n",
        "**Гипотеза 2**: При скоростях прокатки более 4 м/с свыше 3 бракованных листов стали на партию выходит значимо чаще, чем при меньших скоростях прокатки.\n"
      ]
    },
    {
      "cell_type": "code",
      "metadata": {
        "id": "oDEiJGd8V6CQ",
        "colab_type": "code",
        "colab": {
          "base_uri": "https://localhost:8080/",
          "height": 34
        },
        "outputId": "124c1e7c-e03c-4abd-98fb-c7662e07ca04"
      },
      "source": [
        "statistics[(statistics['Скорость прокатки']<=4) & (statistics['Число бракованных листов']>3)]['Число бракованных листов'].mean(), \\\n",
        "statistics[(statistics['Скорость прокатки']>4) & (statistics['Число бракованных листов']>3)]['Число бракованных листов'].mean()"
      ],
      "execution_count": 185,
      "outputs": [
        {
          "output_type": "execute_result",
          "data": {
            "text/plain": [
              "(4.869565217391305, 5.054054054054054)"
            ]
          },
          "metadata": {
            "tags": []
          },
          "execution_count": 185
        }
      ]
    },
    {
      "cell_type": "markdown",
      "metadata": {
        "id": "DUB8nnE4YIw-",
        "colab_type": "text"
      },
      "source": [
        "## Задание 2"
      ]
    },
    {
      "cell_type": "code",
      "metadata": {
        "id": "IlZeowpoX9BO",
        "colab_type": "code",
        "colab": {}
      },
      "source": [
        "X_data = pd.read_csv(path_to_project_directory+'X_data.csv', encoding='cp1251', sep=';')\n",
        "Y_train = pd.read_csv(path_to_project_directory+'Y_train.csv', encoding='cp1251', sep=';', header=None, index_col=0)\n",
        "Y_submit = pd.read_csv(path_to_project_directory+'Y_submit.csv', encoding='cp1251', sep=';', header=None, index_col=0)"
      ],
      "execution_count": 186,
      "outputs": []
    },
    {
      "cell_type": "code",
      "metadata": {
        "id": "vMCYTHYZZs9h",
        "colab_type": "code",
        "colab": {
          "base_uri": "https://localhost:8080/",
          "height": 173
        },
        "outputId": "11d735ce-c0e6-4990-d524-1bbabb37ce95"
      },
      "source": [
        "Y_train.head(3)"
      ],
      "execution_count": 187,
      "outputs": [
        {
          "output_type": "execute_result",
          "data": {
            "text/html": [
              "<div>\n",
              "<style scoped>\n",
              "    .dataframe tbody tr th:only-of-type {\n",
              "        vertical-align: middle;\n",
              "    }\n",
              "\n",
              "    .dataframe tbody tr th {\n",
              "        vertical-align: top;\n",
              "    }\n",
              "\n",
              "    .dataframe thead th {\n",
              "        text-align: right;\n",
              "    }\n",
              "</style>\n",
              "<table border=\"1\" class=\"dataframe\">\n",
              "  <thead>\n",
              "    <tr style=\"text-align: right;\">\n",
              "      <th></th>\n",
              "      <th>1</th>\n",
              "    </tr>\n",
              "    <tr>\n",
              "      <th>0</th>\n",
              "      <th></th>\n",
              "    </tr>\n",
              "  </thead>\n",
              "  <tbody>\n",
              "    <tr>\n",
              "      <th>2015-01-04 00:05:00</th>\n",
              "      <td>392</td>\n",
              "    </tr>\n",
              "    <tr>\n",
              "      <th>2015-01-04 01:05:00</th>\n",
              "      <td>384</td>\n",
              "    </tr>\n",
              "    <tr>\n",
              "      <th>2015-01-04 02:05:00</th>\n",
              "      <td>393</td>\n",
              "    </tr>\n",
              "  </tbody>\n",
              "</table>\n",
              "</div>"
            ],
            "text/plain": [
              "                       1\n",
              "0                       \n",
              "2015-01-04 00:05:00  392\n",
              "2015-01-04 01:05:00  384\n",
              "2015-01-04 02:05:00  393"
            ]
          },
          "metadata": {
            "tags": []
          },
          "execution_count": 187
        }
      ]
    },
    {
      "cell_type": "code",
      "metadata": {
        "id": "lbI9hQ4lYaZh",
        "colab_type": "code",
        "colab": {
          "base_uri": "https://localhost:8080/",
          "height": 173
        },
        "outputId": "06b1fef6-7724-45f8-b1a8-77d8cf872789"
      },
      "source": [
        "Y_submit.head(3)"
      ],
      "execution_count": 188,
      "outputs": [
        {
          "output_type": "execute_result",
          "data": {
            "text/html": [
              "<div>\n",
              "<style scoped>\n",
              "    .dataframe tbody tr th:only-of-type {\n",
              "        vertical-align: middle;\n",
              "    }\n",
              "\n",
              "    .dataframe tbody tr th {\n",
              "        vertical-align: top;\n",
              "    }\n",
              "\n",
              "    .dataframe thead th {\n",
              "        text-align: right;\n",
              "    }\n",
              "</style>\n",
              "<table border=\"1\" class=\"dataframe\">\n",
              "  <thead>\n",
              "    <tr style=\"text-align: right;\">\n",
              "      <th></th>\n",
              "      <th>1</th>\n",
              "    </tr>\n",
              "    <tr>\n",
              "      <th>0</th>\n",
              "      <th></th>\n",
              "    </tr>\n",
              "  </thead>\n",
              "  <tbody>\n",
              "    <tr>\n",
              "      <th>2018-05-04 00:05:00</th>\n",
              "      <td>420</td>\n",
              "    </tr>\n",
              "    <tr>\n",
              "      <th>2018-05-04 01:05:00</th>\n",
              "      <td>420</td>\n",
              "    </tr>\n",
              "    <tr>\n",
              "      <th>2018-05-04 02:05:00</th>\n",
              "      <td>420</td>\n",
              "    </tr>\n",
              "  </tbody>\n",
              "</table>\n",
              "</div>"
            ],
            "text/plain": [
              "                       1\n",
              "0                       \n",
              "2018-05-04 00:05:00  420\n",
              "2018-05-04 01:05:00  420\n",
              "2018-05-04 02:05:00  420"
            ]
          },
          "metadata": {
            "tags": []
          },
          "execution_count": 188
        }
      ]
    },
    {
      "cell_type": "code",
      "metadata": {
        "id": "ONff7I90Yua-",
        "colab_type": "code",
        "colab": {
          "base_uri": "https://localhost:8080/",
          "height": 796
        },
        "outputId": "82fbc525-ca34-481a-9eb9-64ed5eee6645"
      },
      "source": [
        "X_data"
      ],
      "execution_count": 189,
      "outputs": [
        {
          "output_type": "execute_result",
          "data": {
            "text/html": [
              "<div>\n",
              "<style scoped>\n",
              "    .dataframe tbody tr th:only-of-type {\n",
              "        vertical-align: middle;\n",
              "    }\n",
              "\n",
              "    .dataframe tbody tr th {\n",
              "        vertical-align: top;\n",
              "    }\n",
              "\n",
              "    .dataframe thead th {\n",
              "        text-align: right;\n",
              "    }\n",
              "</style>\n",
              "<table border=\"1\" class=\"dataframe\">\n",
              "  <thead>\n",
              "    <tr style=\"text-align: right;\">\n",
              "      <th></th>\n",
              "      <th>Unnamed: 0</th>\n",
              "      <th>T_data_1_1</th>\n",
              "      <th>T_data_1_2</th>\n",
              "      <th>T_data_1_3</th>\n",
              "      <th>T_data_2_1</th>\n",
              "      <th>T_data_2_2</th>\n",
              "      <th>T_data_2_3</th>\n",
              "      <th>T_data_3_1</th>\n",
              "      <th>T_data_3_2</th>\n",
              "      <th>T_data_3_3</th>\n",
              "      <th>T_data_4_1</th>\n",
              "      <th>T_data_4_2</th>\n",
              "      <th>T_data_4_3</th>\n",
              "      <th>T_data_5_1</th>\n",
              "      <th>T_data_5_2</th>\n",
              "      <th>T_data_5_3</th>\n",
              "      <th>H_data</th>\n",
              "      <th>AH_data</th>\n",
              "    </tr>\n",
              "  </thead>\n",
              "  <tbody>\n",
              "    <tr>\n",
              "      <th>0</th>\n",
              "      <td>2015-01-01 00:00:00</td>\n",
              "      <td>212</td>\n",
              "      <td>210</td>\n",
              "      <td>211</td>\n",
              "      <td>347</td>\n",
              "      <td>353</td>\n",
              "      <td>347</td>\n",
              "      <td>474</td>\n",
              "      <td>473</td>\n",
              "      <td>481</td>\n",
              "      <td>346</td>\n",
              "      <td>348</td>\n",
              "      <td>355</td>\n",
              "      <td>241</td>\n",
              "      <td>241</td>\n",
              "      <td>243</td>\n",
              "      <td>167.85</td>\n",
              "      <td>9.22</td>\n",
              "    </tr>\n",
              "    <tr>\n",
              "      <th>1</th>\n",
              "      <td>2015-01-01 00:01:00</td>\n",
              "      <td>212</td>\n",
              "      <td>211</td>\n",
              "      <td>211</td>\n",
              "      <td>346</td>\n",
              "      <td>352</td>\n",
              "      <td>346</td>\n",
              "      <td>475</td>\n",
              "      <td>473</td>\n",
              "      <td>481</td>\n",
              "      <td>349</td>\n",
              "      <td>348</td>\n",
              "      <td>355</td>\n",
              "      <td>241</td>\n",
              "      <td>241</td>\n",
              "      <td>243</td>\n",
              "      <td>162.51</td>\n",
              "      <td>9.22</td>\n",
              "    </tr>\n",
              "    <tr>\n",
              "      <th>2</th>\n",
              "      <td>2015-01-01 00:02:00</td>\n",
              "      <td>212</td>\n",
              "      <td>211</td>\n",
              "      <td>211</td>\n",
              "      <td>345</td>\n",
              "      <td>352</td>\n",
              "      <td>346</td>\n",
              "      <td>476</td>\n",
              "      <td>473</td>\n",
              "      <td>481</td>\n",
              "      <td>352</td>\n",
              "      <td>349</td>\n",
              "      <td>355</td>\n",
              "      <td>242</td>\n",
              "      <td>241</td>\n",
              "      <td>242</td>\n",
              "      <td>164.99</td>\n",
              "      <td>9.22</td>\n",
              "    </tr>\n",
              "    <tr>\n",
              "      <th>3</th>\n",
              "      <td>2015-01-01 00:03:00</td>\n",
              "      <td>213</td>\n",
              "      <td>211</td>\n",
              "      <td>211</td>\n",
              "      <td>344</td>\n",
              "      <td>351</td>\n",
              "      <td>346</td>\n",
              "      <td>477</td>\n",
              "      <td>473</td>\n",
              "      <td>481</td>\n",
              "      <td>355</td>\n",
              "      <td>349</td>\n",
              "      <td>355</td>\n",
              "      <td>242</td>\n",
              "      <td>241</td>\n",
              "      <td>242</td>\n",
              "      <td>167.34</td>\n",
              "      <td>9.22</td>\n",
              "    </tr>\n",
              "    <tr>\n",
              "      <th>4</th>\n",
              "      <td>2015-01-01 00:04:00</td>\n",
              "      <td>213</td>\n",
              "      <td>211</td>\n",
              "      <td>211</td>\n",
              "      <td>343</td>\n",
              "      <td>350</td>\n",
              "      <td>346</td>\n",
              "      <td>478</td>\n",
              "      <td>473</td>\n",
              "      <td>482</td>\n",
              "      <td>358</td>\n",
              "      <td>349</td>\n",
              "      <td>355</td>\n",
              "      <td>243</td>\n",
              "      <td>241</td>\n",
              "      <td>242</td>\n",
              "      <td>163.04</td>\n",
              "      <td>9.22</td>\n",
              "    </tr>\n",
              "    <tr>\n",
              "      <th>...</th>\n",
              "      <td>...</td>\n",
              "      <td>...</td>\n",
              "      <td>...</td>\n",
              "      <td>...</td>\n",
              "      <td>...</td>\n",
              "      <td>...</td>\n",
              "      <td>...</td>\n",
              "      <td>...</td>\n",
              "      <td>...</td>\n",
              "      <td>...</td>\n",
              "      <td>...</td>\n",
              "      <td>...</td>\n",
              "      <td>...</td>\n",
              "      <td>...</td>\n",
              "      <td>...</td>\n",
              "      <td>...</td>\n",
              "      <td>...</td>\n",
              "      <td>...</td>\n",
              "    </tr>\n",
              "    <tr>\n",
              "      <th>2103836</th>\n",
              "      <td>2018-12-31 23:56:00</td>\n",
              "      <td>271</td>\n",
              "      <td>261</td>\n",
              "      <td>265</td>\n",
              "      <td>353</td>\n",
              "      <td>359</td>\n",
              "      <td>353</td>\n",
              "      <td>481</td>\n",
              "      <td>449</td>\n",
              "      <td>491</td>\n",
              "      <td>325</td>\n",
              "      <td>328</td>\n",
              "      <td>328</td>\n",
              "      <td>277</td>\n",
              "      <td>276</td>\n",
              "      <td>280</td>\n",
              "      <td>157.20</td>\n",
              "      <td>8.44</td>\n",
              "    </tr>\n",
              "    <tr>\n",
              "      <th>2103837</th>\n",
              "      <td>2018-12-31 23:57:00</td>\n",
              "      <td>271</td>\n",
              "      <td>261</td>\n",
              "      <td>265</td>\n",
              "      <td>353</td>\n",
              "      <td>359</td>\n",
              "      <td>353</td>\n",
              "      <td>481</td>\n",
              "      <td>449</td>\n",
              "      <td>491</td>\n",
              "      <td>325</td>\n",
              "      <td>328</td>\n",
              "      <td>328</td>\n",
              "      <td>277</td>\n",
              "      <td>276</td>\n",
              "      <td>280</td>\n",
              "      <td>160.40</td>\n",
              "      <td>8.44</td>\n",
              "    </tr>\n",
              "    <tr>\n",
              "      <th>2103838</th>\n",
              "      <td>2018-12-31 23:58:00</td>\n",
              "      <td>271</td>\n",
              "      <td>261</td>\n",
              "      <td>265</td>\n",
              "      <td>353</td>\n",
              "      <td>359</td>\n",
              "      <td>353</td>\n",
              "      <td>481</td>\n",
              "      <td>449</td>\n",
              "      <td>491</td>\n",
              "      <td>325</td>\n",
              "      <td>328</td>\n",
              "      <td>328</td>\n",
              "      <td>277</td>\n",
              "      <td>276</td>\n",
              "      <td>280</td>\n",
              "      <td>160.14</td>\n",
              "      <td>8.44</td>\n",
              "    </tr>\n",
              "    <tr>\n",
              "      <th>2103839</th>\n",
              "      <td>2018-12-31 23:59:00</td>\n",
              "      <td>271</td>\n",
              "      <td>261</td>\n",
              "      <td>265</td>\n",
              "      <td>353</td>\n",
              "      <td>359</td>\n",
              "      <td>353</td>\n",
              "      <td>481</td>\n",
              "      <td>449</td>\n",
              "      <td>491</td>\n",
              "      <td>325</td>\n",
              "      <td>328</td>\n",
              "      <td>328</td>\n",
              "      <td>277</td>\n",
              "      <td>276</td>\n",
              "      <td>280</td>\n",
              "      <td>162.96</td>\n",
              "      <td>8.44</td>\n",
              "    </tr>\n",
              "    <tr>\n",
              "      <th>2103840</th>\n",
              "      <td>2019-01-01 00:00:00</td>\n",
              "      <td>271</td>\n",
              "      <td>261</td>\n",
              "      <td>265</td>\n",
              "      <td>353</td>\n",
              "      <td>359</td>\n",
              "      <td>353</td>\n",
              "      <td>481</td>\n",
              "      <td>449</td>\n",
              "      <td>491</td>\n",
              "      <td>325</td>\n",
              "      <td>328</td>\n",
              "      <td>328</td>\n",
              "      <td>277</td>\n",
              "      <td>276</td>\n",
              "      <td>280</td>\n",
              "      <td>159.73</td>\n",
              "      <td>7.35</td>\n",
              "    </tr>\n",
              "  </tbody>\n",
              "</table>\n",
              "<p>2103841 rows × 18 columns</p>\n",
              "</div>"
            ],
            "text/plain": [
              "                  Unnamed: 0  T_data_1_1  ...  H_data  AH_data\n",
              "0        2015-01-01 00:00:00         212  ...  167.85     9.22\n",
              "1        2015-01-01 00:01:00         212  ...  162.51     9.22\n",
              "2        2015-01-01 00:02:00         212  ...  164.99     9.22\n",
              "3        2015-01-01 00:03:00         213  ...  167.34     9.22\n",
              "4        2015-01-01 00:04:00         213  ...  163.04     9.22\n",
              "...                      ...         ...  ...     ...      ...\n",
              "2103836  2018-12-31 23:56:00         271  ...  157.20     8.44\n",
              "2103837  2018-12-31 23:57:00         271  ...  160.40     8.44\n",
              "2103838  2018-12-31 23:58:00         271  ...  160.14     8.44\n",
              "2103839  2018-12-31 23:59:00         271  ...  162.96     8.44\n",
              "2103840  2019-01-01 00:00:00         271  ...  159.73     7.35\n",
              "\n",
              "[2103841 rows x 18 columns]"
            ]
          },
          "metadata": {
            "tags": []
          },
          "execution_count": 189
        }
      ]
    },
    {
      "cell_type": "code",
      "metadata": {
        "id": "rxWisKltPLug",
        "colab_type": "code",
        "colab": {
          "base_uri": "https://localhost:8080/",
          "height": 442
        },
        "outputId": "0e366fba-220f-4dbd-8b2b-4437821e3d6c"
      },
      "source": [
        "X_data.info(verbose=True, null_counts=True)"
      ],
      "execution_count": 190,
      "outputs": [
        {
          "output_type": "stream",
          "text": [
            "<class 'pandas.core.frame.DataFrame'>\n",
            "RangeIndex: 2103841 entries, 0 to 2103840\n",
            "Data columns (total 18 columns):\n",
            " #   Column      Non-Null Count    Dtype  \n",
            "---  ------      --------------    -----  \n",
            " 0   Unnamed: 0  2103841 non-null  object \n",
            " 1   T_data_1_1  2103841 non-null  int64  \n",
            " 2   T_data_1_2  2103841 non-null  int64  \n",
            " 3   T_data_1_3  2103841 non-null  int64  \n",
            " 4   T_data_2_1  2103841 non-null  int64  \n",
            " 5   T_data_2_2  2103841 non-null  int64  \n",
            " 6   T_data_2_3  2103841 non-null  int64  \n",
            " 7   T_data_3_1  2103841 non-null  int64  \n",
            " 8   T_data_3_2  2103841 non-null  int64  \n",
            " 9   T_data_3_3  2103841 non-null  int64  \n",
            " 10  T_data_4_1  2103841 non-null  int64  \n",
            " 11  T_data_4_2  2103841 non-null  int64  \n",
            " 12  T_data_4_3  2103841 non-null  int64  \n",
            " 13  T_data_5_1  2103841 non-null  int64  \n",
            " 14  T_data_5_2  2103841 non-null  int64  \n",
            " 15  T_data_5_3  2103841 non-null  int64  \n",
            " 16  H_data      2103841 non-null  float64\n",
            " 17  AH_data     2103841 non-null  float64\n",
            "dtypes: float64(2), int64(15), object(1)\n",
            "memory usage: 288.9+ MB\n"
          ],
          "name": "stdout"
        }
      ]
    },
    {
      "cell_type": "markdown",
      "metadata": {
        "id": "FhzUFvhbs1jA",
        "colab_type": "text"
      },
      "source": [
        "Пропущенных значений нет. Все столбцы содержат 2103841 значений, что равняется длине всего датафрейма<br>\n",
        "Так как значения _H_data_ и _AH_data_ фиксируются на **входе**, то приходим к мнению, что в _1 колонке X_data_ записано *время начала проката*. Чтобы сопоставить данные с детекторов и данные из Y_train к каждому значению X_data['Unnamed: 0'] прибавим время 1 полного прохода обжига, то есть 1 час."
      ]
    },
    {
      "cell_type": "code",
      "metadata": {
        "id": "butV8CdZR1Hj",
        "colab_type": "code",
        "colab": {
          "base_uri": "https://localhost:8080/",
          "height": 51
        },
        "outputId": "26b0bd42-cfb3-4a0a-8f76-843e1dc31dba"
      },
      "source": [
        "from datetime import datetime, timedelta\n",
        "\n",
        "print(X_data['Unnamed: 0'].dtype)\n",
        "X_data['Unnamed: 0'] = pd.to_datetime(X_data['Unnamed: 0']) + timedelta(hours=1)\n",
        "print(X_data['Unnamed: 0'].dtype)"
      ],
      "execution_count": 191,
      "outputs": [
        {
          "output_type": "stream",
          "text": [
            "object\n",
            "datetime64[ns]\n"
          ],
          "name": "stdout"
        }
      ]
    },
    {
      "cell_type": "code",
      "metadata": {
        "id": "_BZwLAC9vC44",
        "colab_type": "code",
        "colab": {
          "base_uri": "https://localhost:8080/",
          "height": 827
        },
        "outputId": "b2a13285-f0a0-417c-9d26-5967b5b5631b"
      },
      "source": [
        "X_data = X_data.set_index(['Unnamed: 0'])\n",
        "X_data"
      ],
      "execution_count": 192,
      "outputs": [
        {
          "output_type": "execute_result",
          "data": {
            "text/html": [
              "<div>\n",
              "<style scoped>\n",
              "    .dataframe tbody tr th:only-of-type {\n",
              "        vertical-align: middle;\n",
              "    }\n",
              "\n",
              "    .dataframe tbody tr th {\n",
              "        vertical-align: top;\n",
              "    }\n",
              "\n",
              "    .dataframe thead th {\n",
              "        text-align: right;\n",
              "    }\n",
              "</style>\n",
              "<table border=\"1\" class=\"dataframe\">\n",
              "  <thead>\n",
              "    <tr style=\"text-align: right;\">\n",
              "      <th></th>\n",
              "      <th>T_data_1_1</th>\n",
              "      <th>T_data_1_2</th>\n",
              "      <th>T_data_1_3</th>\n",
              "      <th>T_data_2_1</th>\n",
              "      <th>T_data_2_2</th>\n",
              "      <th>T_data_2_3</th>\n",
              "      <th>T_data_3_1</th>\n",
              "      <th>T_data_3_2</th>\n",
              "      <th>T_data_3_3</th>\n",
              "      <th>T_data_4_1</th>\n",
              "      <th>T_data_4_2</th>\n",
              "      <th>T_data_4_3</th>\n",
              "      <th>T_data_5_1</th>\n",
              "      <th>T_data_5_2</th>\n",
              "      <th>T_data_5_3</th>\n",
              "      <th>H_data</th>\n",
              "      <th>AH_data</th>\n",
              "    </tr>\n",
              "    <tr>\n",
              "      <th>Unnamed: 0</th>\n",
              "      <th></th>\n",
              "      <th></th>\n",
              "      <th></th>\n",
              "      <th></th>\n",
              "      <th></th>\n",
              "      <th></th>\n",
              "      <th></th>\n",
              "      <th></th>\n",
              "      <th></th>\n",
              "      <th></th>\n",
              "      <th></th>\n",
              "      <th></th>\n",
              "      <th></th>\n",
              "      <th></th>\n",
              "      <th></th>\n",
              "      <th></th>\n",
              "      <th></th>\n",
              "    </tr>\n",
              "  </thead>\n",
              "  <tbody>\n",
              "    <tr>\n",
              "      <th>2015-01-01 01:00:00</th>\n",
              "      <td>212</td>\n",
              "      <td>210</td>\n",
              "      <td>211</td>\n",
              "      <td>347</td>\n",
              "      <td>353</td>\n",
              "      <td>347</td>\n",
              "      <td>474</td>\n",
              "      <td>473</td>\n",
              "      <td>481</td>\n",
              "      <td>346</td>\n",
              "      <td>348</td>\n",
              "      <td>355</td>\n",
              "      <td>241</td>\n",
              "      <td>241</td>\n",
              "      <td>243</td>\n",
              "      <td>167.85</td>\n",
              "      <td>9.22</td>\n",
              "    </tr>\n",
              "    <tr>\n",
              "      <th>2015-01-01 01:01:00</th>\n",
              "      <td>212</td>\n",
              "      <td>211</td>\n",
              "      <td>211</td>\n",
              "      <td>346</td>\n",
              "      <td>352</td>\n",
              "      <td>346</td>\n",
              "      <td>475</td>\n",
              "      <td>473</td>\n",
              "      <td>481</td>\n",
              "      <td>349</td>\n",
              "      <td>348</td>\n",
              "      <td>355</td>\n",
              "      <td>241</td>\n",
              "      <td>241</td>\n",
              "      <td>243</td>\n",
              "      <td>162.51</td>\n",
              "      <td>9.22</td>\n",
              "    </tr>\n",
              "    <tr>\n",
              "      <th>2015-01-01 01:02:00</th>\n",
              "      <td>212</td>\n",
              "      <td>211</td>\n",
              "      <td>211</td>\n",
              "      <td>345</td>\n",
              "      <td>352</td>\n",
              "      <td>346</td>\n",
              "      <td>476</td>\n",
              "      <td>473</td>\n",
              "      <td>481</td>\n",
              "      <td>352</td>\n",
              "      <td>349</td>\n",
              "      <td>355</td>\n",
              "      <td>242</td>\n",
              "      <td>241</td>\n",
              "      <td>242</td>\n",
              "      <td>164.99</td>\n",
              "      <td>9.22</td>\n",
              "    </tr>\n",
              "    <tr>\n",
              "      <th>2015-01-01 01:03:00</th>\n",
              "      <td>213</td>\n",
              "      <td>211</td>\n",
              "      <td>211</td>\n",
              "      <td>344</td>\n",
              "      <td>351</td>\n",
              "      <td>346</td>\n",
              "      <td>477</td>\n",
              "      <td>473</td>\n",
              "      <td>481</td>\n",
              "      <td>355</td>\n",
              "      <td>349</td>\n",
              "      <td>355</td>\n",
              "      <td>242</td>\n",
              "      <td>241</td>\n",
              "      <td>242</td>\n",
              "      <td>167.34</td>\n",
              "      <td>9.22</td>\n",
              "    </tr>\n",
              "    <tr>\n",
              "      <th>2015-01-01 01:04:00</th>\n",
              "      <td>213</td>\n",
              "      <td>211</td>\n",
              "      <td>211</td>\n",
              "      <td>343</td>\n",
              "      <td>350</td>\n",
              "      <td>346</td>\n",
              "      <td>478</td>\n",
              "      <td>473</td>\n",
              "      <td>482</td>\n",
              "      <td>358</td>\n",
              "      <td>349</td>\n",
              "      <td>355</td>\n",
              "      <td>243</td>\n",
              "      <td>241</td>\n",
              "      <td>242</td>\n",
              "      <td>163.04</td>\n",
              "      <td>9.22</td>\n",
              "    </tr>\n",
              "    <tr>\n",
              "      <th>...</th>\n",
              "      <td>...</td>\n",
              "      <td>...</td>\n",
              "      <td>...</td>\n",
              "      <td>...</td>\n",
              "      <td>...</td>\n",
              "      <td>...</td>\n",
              "      <td>...</td>\n",
              "      <td>...</td>\n",
              "      <td>...</td>\n",
              "      <td>...</td>\n",
              "      <td>...</td>\n",
              "      <td>...</td>\n",
              "      <td>...</td>\n",
              "      <td>...</td>\n",
              "      <td>...</td>\n",
              "      <td>...</td>\n",
              "      <td>...</td>\n",
              "    </tr>\n",
              "    <tr>\n",
              "      <th>2019-01-01 00:56:00</th>\n",
              "      <td>271</td>\n",
              "      <td>261</td>\n",
              "      <td>265</td>\n",
              "      <td>353</td>\n",
              "      <td>359</td>\n",
              "      <td>353</td>\n",
              "      <td>481</td>\n",
              "      <td>449</td>\n",
              "      <td>491</td>\n",
              "      <td>325</td>\n",
              "      <td>328</td>\n",
              "      <td>328</td>\n",
              "      <td>277</td>\n",
              "      <td>276</td>\n",
              "      <td>280</td>\n",
              "      <td>157.20</td>\n",
              "      <td>8.44</td>\n",
              "    </tr>\n",
              "    <tr>\n",
              "      <th>2019-01-01 00:57:00</th>\n",
              "      <td>271</td>\n",
              "      <td>261</td>\n",
              "      <td>265</td>\n",
              "      <td>353</td>\n",
              "      <td>359</td>\n",
              "      <td>353</td>\n",
              "      <td>481</td>\n",
              "      <td>449</td>\n",
              "      <td>491</td>\n",
              "      <td>325</td>\n",
              "      <td>328</td>\n",
              "      <td>328</td>\n",
              "      <td>277</td>\n",
              "      <td>276</td>\n",
              "      <td>280</td>\n",
              "      <td>160.40</td>\n",
              "      <td>8.44</td>\n",
              "    </tr>\n",
              "    <tr>\n",
              "      <th>2019-01-01 00:58:00</th>\n",
              "      <td>271</td>\n",
              "      <td>261</td>\n",
              "      <td>265</td>\n",
              "      <td>353</td>\n",
              "      <td>359</td>\n",
              "      <td>353</td>\n",
              "      <td>481</td>\n",
              "      <td>449</td>\n",
              "      <td>491</td>\n",
              "      <td>325</td>\n",
              "      <td>328</td>\n",
              "      <td>328</td>\n",
              "      <td>277</td>\n",
              "      <td>276</td>\n",
              "      <td>280</td>\n",
              "      <td>160.14</td>\n",
              "      <td>8.44</td>\n",
              "    </tr>\n",
              "    <tr>\n",
              "      <th>2019-01-01 00:59:00</th>\n",
              "      <td>271</td>\n",
              "      <td>261</td>\n",
              "      <td>265</td>\n",
              "      <td>353</td>\n",
              "      <td>359</td>\n",
              "      <td>353</td>\n",
              "      <td>481</td>\n",
              "      <td>449</td>\n",
              "      <td>491</td>\n",
              "      <td>325</td>\n",
              "      <td>328</td>\n",
              "      <td>328</td>\n",
              "      <td>277</td>\n",
              "      <td>276</td>\n",
              "      <td>280</td>\n",
              "      <td>162.96</td>\n",
              "      <td>8.44</td>\n",
              "    </tr>\n",
              "    <tr>\n",
              "      <th>2019-01-01 01:00:00</th>\n",
              "      <td>271</td>\n",
              "      <td>261</td>\n",
              "      <td>265</td>\n",
              "      <td>353</td>\n",
              "      <td>359</td>\n",
              "      <td>353</td>\n",
              "      <td>481</td>\n",
              "      <td>449</td>\n",
              "      <td>491</td>\n",
              "      <td>325</td>\n",
              "      <td>328</td>\n",
              "      <td>328</td>\n",
              "      <td>277</td>\n",
              "      <td>276</td>\n",
              "      <td>280</td>\n",
              "      <td>159.73</td>\n",
              "      <td>7.35</td>\n",
              "    </tr>\n",
              "  </tbody>\n",
              "</table>\n",
              "<p>2103841 rows × 17 columns</p>\n",
              "</div>"
            ],
            "text/plain": [
              "                     T_data_1_1  T_data_1_2  ...  H_data  AH_data\n",
              "Unnamed: 0                                   ...                 \n",
              "2015-01-01 01:00:00         212         210  ...  167.85     9.22\n",
              "2015-01-01 01:01:00         212         211  ...  162.51     9.22\n",
              "2015-01-01 01:02:00         212         211  ...  164.99     9.22\n",
              "2015-01-01 01:03:00         213         211  ...  167.34     9.22\n",
              "2015-01-01 01:04:00         213         211  ...  163.04     9.22\n",
              "...                         ...         ...  ...     ...      ...\n",
              "2019-01-01 00:56:00         271         261  ...  157.20     8.44\n",
              "2019-01-01 00:57:00         271         261  ...  160.40     8.44\n",
              "2019-01-01 00:58:00         271         261  ...  160.14     8.44\n",
              "2019-01-01 00:59:00         271         261  ...  162.96     8.44\n",
              "2019-01-01 01:00:00         271         261  ...  159.73     7.35\n",
              "\n",
              "[2103841 rows x 17 columns]"
            ]
          },
          "metadata": {
            "tags": []
          },
          "execution_count": 192
        }
      ]
    },
    {
      "cell_type": "code",
      "metadata": {
        "id": "HE180f4PS2IH",
        "colab_type": "code",
        "colab": {}
      },
      "source": [
        "q = pd.DataFrame(columns = X_data.columns)\n",
        "q.loc[Y_train.index[0]] = (X_data.loc[Y_train.index[0]]).T\n",
        "q.loc[Y_train.index[-1]] = (X_data.loc[Y_train.index[-1]]).T"
      ],
      "execution_count": 193,
      "outputs": []
    },
    {
      "cell_type": "code",
      "metadata": {
        "id": "ZmRPdh3pw1kJ",
        "colab_type": "code",
        "colab": {
          "base_uri": "https://localhost:8080/",
          "height": 199
        },
        "outputId": "1ed24f9e-b7c9-4dc1-decb-f760c3a47190"
      },
      "source": [
        "q"
      ],
      "execution_count": 196,
      "outputs": [
        {
          "output_type": "execute_result",
          "data": {
            "text/html": [
              "<div>\n",
              "<style scoped>\n",
              "    .dataframe tbody tr th:only-of-type {\n",
              "        vertical-align: middle;\n",
              "    }\n",
              "\n",
              "    .dataframe tbody tr th {\n",
              "        vertical-align: top;\n",
              "    }\n",
              "\n",
              "    .dataframe thead th {\n",
              "        text-align: right;\n",
              "    }\n",
              "</style>\n",
              "<table border=\"1\" class=\"dataframe\">\n",
              "  <thead>\n",
              "    <tr style=\"text-align: right;\">\n",
              "      <th></th>\n",
              "      <th>T_data_1_1</th>\n",
              "      <th>T_data_1_2</th>\n",
              "      <th>T_data_1_3</th>\n",
              "      <th>T_data_2_1</th>\n",
              "      <th>T_data_2_2</th>\n",
              "      <th>T_data_2_3</th>\n",
              "      <th>T_data_3_1</th>\n",
              "      <th>T_data_3_2</th>\n",
              "      <th>T_data_3_3</th>\n",
              "      <th>T_data_4_1</th>\n",
              "      <th>T_data_4_2</th>\n",
              "      <th>T_data_4_3</th>\n",
              "      <th>T_data_5_1</th>\n",
              "      <th>T_data_5_2</th>\n",
              "      <th>T_data_5_3</th>\n",
              "      <th>H_data</th>\n",
              "      <th>AH_data</th>\n",
              "    </tr>\n",
              "  </thead>\n",
              "  <tbody>\n",
              "    <tr>\n",
              "      <th>2015-01-04 00:05:00</th>\n",
              "      <td>266.0</td>\n",
              "      <td>339.0</td>\n",
              "      <td>263.0</td>\n",
              "      <td>335.0</td>\n",
              "      <td>326.0</td>\n",
              "      <td>341.0</td>\n",
              "      <td>495.0</td>\n",
              "      <td>497.0</td>\n",
              "      <td>535.0</td>\n",
              "      <td>316.0</td>\n",
              "      <td>346.0</td>\n",
              "      <td>336.0</td>\n",
              "      <td>234.0</td>\n",
              "      <td>238.0</td>\n",
              "      <td>239.0</td>\n",
              "      <td>154.87</td>\n",
              "      <td>4.73</td>\n",
              "    </tr>\n",
              "    <tr>\n",
              "      <th>2018-05-03 23:05:00</th>\n",
              "      <td>255.0</td>\n",
              "      <td>255.0</td>\n",
              "      <td>260.0</td>\n",
              "      <td>356.0</td>\n",
              "      <td>352.0</td>\n",
              "      <td>354.0</td>\n",
              "      <td>438.0</td>\n",
              "      <td>468.0</td>\n",
              "      <td>441.0</td>\n",
              "      <td>347.0</td>\n",
              "      <td>357.0</td>\n",
              "      <td>344.0</td>\n",
              "      <td>254.0</td>\n",
              "      <td>265.0</td>\n",
              "      <td>248.0</td>\n",
              "      <td>153.89</td>\n",
              "      <td>8.90</td>\n",
              "    </tr>\n",
              "  </tbody>\n",
              "</table>\n",
              "</div>"
            ],
            "text/plain": [
              "                     T_data_1_1  T_data_1_2  ...  H_data  AH_data\n",
              "2015-01-04 00:05:00       266.0       339.0  ...  154.87     4.73\n",
              "2018-05-03 23:05:00       255.0       255.0  ...  153.89     8.90\n",
              "\n",
              "[2 rows x 17 columns]"
            ]
          },
          "metadata": {
            "tags": []
          },
          "execution_count": 196
        }
      ]
    },
    {
      "cell_type": "code",
      "metadata": {
        "id": "eS03J0BBxM6K",
        "colab_type": "code",
        "colab": {}
      },
      "source": [
        ""
      ],
      "execution_count": null,
      "outputs": []
    }
  ]
}