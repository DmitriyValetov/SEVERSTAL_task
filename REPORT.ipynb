{
  "nbformat": 4,
  "nbformat_minor": 0,
  "metadata": {
    "colab": {
      "name": "REPORT.ipynb",
      "provenance": [],
      "toc_visible": true,
      "mount_file_id": "https://github.com/IamSVP94/SEVERSTAL_task/blob/master/REPORT_SEVERSTAL.ipynb",
      "authorship_tag": "ABX9TyMOux2eLYfrMAX05D4/14Jo"
    },
    "kernelspec": {
      "name": "python3",
      "display_name": "Python 3"
    }
  },
  "cells": [
    {
      "cell_type": "code",
      "metadata": {
        "id": "SEHthfHeffQv",
        "colab_type": "code",
        "colab": {}
      },
      "source": [
        "import pandas as pd\n",
        "from statsmodels.stats.weightstats import _tconfint_generic\n",
        "import numpy as np\n",
        "import matplotlib.pyplot as plt"
      ],
      "execution_count": 22,
      "outputs": []
    },
    {
      "cell_type": "markdown",
      "metadata": {
        "id": "x3ylOOXjfvHf",
        "colab_type": "text"
      },
      "source": [
        "## Задание 1"
      ]
    },
    {
      "cell_type": "code",
      "metadata": {
        "id": "hBXxqsIbrSdP",
        "colab_type": "code",
        "colab": {}
      },
      "source": [
        "path_to_project_directory = '/content/drive/My Drive/Colab Notebooks/SEVERSTAL_task/Data/' # путь к папке с файлами, данными по условию\n",
        "assert path_to_project_directory, 'Add your path to files in variable \"path_to_project_directory\"!'"
      ],
      "execution_count": 23,
      "outputs": []
    },
    {
      "cell_type": "code",
      "metadata": {
        "id": "ClXZwqvKhtLu",
        "colab_type": "code",
        "colab": {
          "base_uri": "https://localhost:8080/",
          "height": 419
        },
        "outputId": "f20e20b7-c1f9-4cda-c333-c61c6f2b5019"
      },
      "source": [
        "statistics = pd.read_csv(path_to_project_directory+'Статистика за 2018 год.csv', encoding='cp1251')\n",
        "statistics"
      ],
      "execution_count": 24,
      "outputs": [
        {
          "output_type": "execute_result",
          "data": {
            "text/html": [
              "<div>\n",
              "<style scoped>\n",
              "    .dataframe tbody tr th:only-of-type {\n",
              "        vertical-align: middle;\n",
              "    }\n",
              "\n",
              "    .dataframe tbody tr th {\n",
              "        vertical-align: top;\n",
              "    }\n",
              "\n",
              "    .dataframe thead th {\n",
              "        text-align: right;\n",
              "    }\n",
              "</style>\n",
              "<table border=\"1\" class=\"dataframe\">\n",
              "  <thead>\n",
              "    <tr style=\"text-align: right;\">\n",
              "      <th></th>\n",
              "      <th>Число бракованных листов</th>\n",
              "      <th>Скорость прокатки</th>\n",
              "      <th>Марка стали</th>\n",
              "    </tr>\n",
              "  </thead>\n",
              "  <tbody>\n",
              "    <tr>\n",
              "      <th>0</th>\n",
              "      <td>3</td>\n",
              "      <td>3.8</td>\n",
              "      <td>A</td>\n",
              "    </tr>\n",
              "    <tr>\n",
              "      <th>1</th>\n",
              "      <td>3</td>\n",
              "      <td>3.8</td>\n",
              "      <td>B</td>\n",
              "    </tr>\n",
              "    <tr>\n",
              "      <th>2</th>\n",
              "      <td>3</td>\n",
              "      <td>4.8</td>\n",
              "      <td>B</td>\n",
              "    </tr>\n",
              "    <tr>\n",
              "      <th>3</th>\n",
              "      <td>4</td>\n",
              "      <td>4.4</td>\n",
              "      <td>B</td>\n",
              "    </tr>\n",
              "    <tr>\n",
              "      <th>4</th>\n",
              "      <td>6</td>\n",
              "      <td>5.0</td>\n",
              "      <td>B</td>\n",
              "    </tr>\n",
              "    <tr>\n",
              "      <th>...</th>\n",
              "      <td>...</td>\n",
              "      <td>...</td>\n",
              "      <td>...</td>\n",
              "    </tr>\n",
              "    <tr>\n",
              "      <th>232</th>\n",
              "      <td>1</td>\n",
              "      <td>4.7</td>\n",
              "      <td>A</td>\n",
              "    </tr>\n",
              "    <tr>\n",
              "      <th>233</th>\n",
              "      <td>3</td>\n",
              "      <td>3.4</td>\n",
              "      <td>A</td>\n",
              "    </tr>\n",
              "    <tr>\n",
              "      <th>234</th>\n",
              "      <td>2</td>\n",
              "      <td>5.5</td>\n",
              "      <td>A</td>\n",
              "    </tr>\n",
              "    <tr>\n",
              "      <th>235</th>\n",
              "      <td>3</td>\n",
              "      <td>5.0</td>\n",
              "      <td>B</td>\n",
              "    </tr>\n",
              "    <tr>\n",
              "      <th>236</th>\n",
              "      <td>5</td>\n",
              "      <td>4.7</td>\n",
              "      <td>A</td>\n",
              "    </tr>\n",
              "  </tbody>\n",
              "</table>\n",
              "<p>237 rows × 3 columns</p>\n",
              "</div>"
            ],
            "text/plain": [
              "     Число бракованных листов  Скорость прокатки Марка стали\n",
              "0                           3                3.8           A\n",
              "1                           3                3.8           B\n",
              "2                           3                4.8           B\n",
              "3                           4                4.4           B\n",
              "4                           6                5.0           B\n",
              "..                        ...                ...         ...\n",
              "232                         1                4.7           A\n",
              "233                         3                3.4           A\n",
              "234                         2                5.5           A\n",
              "235                         3                5.0           B\n",
              "236                         5                4.7           A\n",
              "\n",
              "[237 rows x 3 columns]"
            ]
          },
          "metadata": {
            "tags": []
          },
          "execution_count": 24
        }
      ]
    },
    {
      "cell_type": "code",
      "metadata": {
        "id": "3Gj4QFCf5-iY",
        "colab_type": "code",
        "colab": {
          "base_uri": "https://localhost:8080/",
          "height": 279
        },
        "outputId": "c428bfc5-feff-4eb1-b86f-0b04d0cbcb65"
      },
      "source": [
        "plt.bar(statistics['Скорость прокатки'],\n",
        "        statistics['Число бракованных листов'],\n",
        "        width=0.1)\n",
        "plt.xlabel('Скорость прокатки')\n",
        "plt.ylabel('Число бракованных листов')\n",
        "plt.yticks(statistics['Число бракованных листов'].unique())\n",
        "plt.xticks(np.arange(min(statistics['Скорость прокатки']), \n",
        "                     max(statistics['Скорость прокатки'])+1, \n",
        "                     0.5))\n",
        "\n",
        "plt.grid()"
      ],
      "execution_count": 25,
      "outputs": [
        {
          "output_type": "display_data",
          "data": {
            "image/png": "[encoded data removed]",
            "text/plain": [
              "<Figure size 432x288 with 1 Axes>"
            ]
          },
          "metadata": {
            "tags": [],
            "needs_background": "light"
          }
        }
      ]
    },
    {
      "cell_type": "code",
      "metadata": {
        "id": "BpyJCwisSBrt",
        "colab_type": "code",
        "colab": {}
      },
      "source": [
        "# функция считает среднее значение и его 95% и 90% довер. интервал\n",
        "def mean_confidence_interval(df): \n",
        "  interval_95 = _tconfint_generic(df.mean(), df.std(ddof=1)/np.sqrt(len(df)), \n",
        "                                  len(df)-1, 0.05, 'two-sided') \n",
        "  interval_90 = _tconfint_generic(df.mean(), df.std(ddof=1)/np.sqrt(len(df)), \n",
        "                                  len(df)-1, 0.1, 'two-sided')\n",
        "  return {'interval_95': interval_95, 'interval_90': interval_90, 'mean': df.mean()}"
      ],
      "execution_count": 26,
      "outputs": []
    },
    {
      "cell_type": "markdown",
      "metadata": {
        "id": "ZduVwiaXr2B7",
        "colab_type": "text"
      },
      "source": [
        "<hr>\n",
        "\n",
        "### Гипотеза 1\n",
        "Более 3 бракованных листов на партию выходит значимо чаще для стали марки А, чем для стали марки B.\n"
      ]
    },
    {
      "cell_type": "code",
      "metadata": {
        "id": "j4mzqTc0rCb8",
        "colab_type": "code",
        "colab": {}
      },
      "source": [
        "mark_A = statistics[(statistics['Марка стали']=='A') & (statistics['Число бракованных листов']>3)]['Число бракованных листов']\n",
        "mark_B = statistics[(statistics['Марка стали']=='B') & (statistics['Число бракованных листов']>3)]['Число бракованных листов']"
      ],
      "execution_count": 27,
      "outputs": []
    },
    {
      "cell_type": "code",
      "metadata": {
        "id": "b_9i7BXLTDBd",
        "colab_type": "code",
        "colab": {
          "base_uri": "https://localhost:8080/",
          "height": 68
        },
        "outputId": "52e1373c-9b39-4fac-a3dd-84953c7b391f"
      },
      "source": [
        "mean_confidence_interval(mark_A)"
      ],
      "execution_count": 28,
      "outputs": [
        {
          "output_type": "execute_result",
          "data": {
            "text/plain": [
              "{'interval_90': (4.805042256187025, 5.421372838152599),\n",
              " 'interval_95': (4.743957591263485, 5.482457503076138),\n",
              " 'mean': 5.113207547169812}"
            ]
          },
          "metadata": {
            "tags": []
          },
          "execution_count": 28
        }
      ]
    },
    {
      "cell_type": "code",
      "metadata": {
        "id": "Gzn-cuW-TGHh",
        "colab_type": "code",
        "colab": {
          "base_uri": "https://localhost:8080/",
          "height": 68
        },
        "outputId": "644193de-43e2-4a7e-d1af-e8833bada828"
      },
      "source": [
        "mean_confidence_interval(mark_B)"
      ],
      "execution_count": 29,
      "outputs": [
        {
          "output_type": "execute_result",
          "data": {
            "text/plain": [
              "{'interval_90': (4.606515208023005, 5.166212064704268),\n",
              " 'interval_95': (4.550644180687348, 5.2220830920399255),\n",
              " 'mean': 4.886363636363637}"
            ]
          },
          "metadata": {
            "tags": []
          },
          "execution_count": 29
        }
      ]
    },
    {
      "cell_type": "markdown",
      "metadata": {
        "id": "gOjxE2H0TZ7d",
        "colab_type": "text"
      },
      "source": [
        "Действительно, более 3 бракованных листов на партию выходит чаще для стали марки А, чем для стали марки B. Хотя статистически значимого различия в полученных оценках параметра нет, вследствие пересечения интервалов."
      ]
    },
    {
      "cell_type": "markdown",
      "metadata": {
        "id": "sz0X08suXwWK",
        "colab_type": "text"
      },
      "source": [
        "<hr>\n",
        "\n",
        "### Гипотеза 2\n",
        "При скоростях прокатки более 4 м/с свыше 3 бракованных листов стали на партию выходит значимо чаще, чем при меньших скоростях прокатки.\n"
      ]
    },
    {
      "cell_type": "code",
      "metadata": {
        "id": "oDEiJGd8V6CQ",
        "colab_type": "code",
        "colab": {}
      },
      "source": [
        "less_4 = statistics[(statistics['Скорость прокатки']<=4) & (statistics['Число бракованных листов']>3)]['Число бракованных листов']\n",
        "greater_4 = statistics[(statistics['Скорость прокатки']>4) & (statistics['Число бракованных листов']>3)]['Число бракованных листов']"
      ],
      "execution_count": 30,
      "outputs": []
    },
    {
      "cell_type": "code",
      "metadata": {
        "id": "E9eq5KSATzDI",
        "colab_type": "code",
        "colab": {
          "base_uri": "https://localhost:8080/",
          "height": 68
        },
        "outputId": "5a81237b-76f9-4faa-f2db-4ffcd8c027ab"
      },
      "source": [
        "mean_confidence_interval(less_4)"
      ],
      "execution_count": 31,
      "outputs": [
        {
          "output_type": "execute_result",
          "data": {
            "text/plain": [
              "{'interval_90': (4.383112007929223, 5.356018426853386),\n",
              " 'interval_95': (4.282053634235697, 5.457076800546912),\n",
              " 'mean': 4.869565217391305}"
            ]
          },
          "metadata": {
            "tags": []
          },
          "execution_count": 31
        }
      ]
    },
    {
      "cell_type": "code",
      "metadata": {
        "id": "d6sbmLShT3aE",
        "colab_type": "code",
        "colab": {
          "base_uri": "https://localhost:8080/",
          "height": 68
        },
        "outputId": "9e79879f-2083-47b8-a2c1-e46a6abe58e6"
      },
      "source": [
        "mean_confidence_interval(greater_4)"
      ],
      "execution_count": 32,
      "outputs": [
        {
          "output_type": "execute_result",
          "data": {
            "text/plain": [
              "{'interval_90': (4.820919701799496, 5.287188406308613),\n",
              " 'interval_95': (4.775160208256021, 5.332947899852088),\n",
              " 'mean': 5.054054054054054}"
            ]
          },
          "metadata": {
            "tags": []
          },
          "execution_count": 32
        }
      ]
    },
    {
      "cell_type": "markdown",
      "metadata": {
        "id": "C-iDybU2T2wG",
        "colab_type": "text"
      },
      "source": [
        "Один интервал находится внутри другого, значит ответ не так однозначен. Нельзя утверждать, что гипотеза верна, по крайней мере на данной выборке и при определенном уровне достоверности."
      ]
    },
    {
      "cell_type": "markdown",
      "metadata": {
        "id": "DUB8nnE4YIw-",
        "colab_type": "text"
      },
      "source": [
        "<hr>\n",
        "\n",
        "## Задание 2"
      ]
    },
    {
      "cell_type": "code",
      "metadata": {
        "id": "IlZeowpoX9BO",
        "colab_type": "code",
        "colab": {}
      },
      "source": [
        "X_data = pd.read_csv(path_to_project_directory+'X_data.csv', encoding='cp1251', sep=';')\n",
        "Y_train = pd.read_csv(path_to_project_directory+'Y_train.csv', encoding='cp1251', sep=';', header=None, index_col=0)\n",
        "Y_submit = pd.read_csv(path_to_project_directory+'Y_submit.csv', encoding='cp1251', sep=';', header=None, index_col=0)"
      ],
      "execution_count": 33,
      "outputs": []
    },
    {
      "cell_type": "code",
      "metadata": {
        "id": "vMCYTHYZZs9h",
        "colab_type": "code",
        "colab": {
          "base_uri": "https://localhost:8080/",
          "height": 173
        },
        "outputId": "ce54e19e-34cb-43fc-9cc7-03d1ea84a30c"
      },
      "source": [
        "Y_train.head(3)"
      ],
      "execution_count": 34,
      "outputs": [
        {
          "output_type": "execute_result",
          "data": {
            "text/html": [
              "<div>\n",
              "<style scoped>\n",
              "    .dataframe tbody tr th:only-of-type {\n",
              "        vertical-align: middle;\n",
              "    }\n",
              "\n",
              "    .dataframe tbody tr th {\n",
              "        vertical-align: top;\n",
              "    }\n",
              "\n",
              "    .dataframe thead th {\n",
              "        text-align: right;\n",
              "    }\n",
              "</style>\n",
              "<table border=\"1\" class=\"dataframe\">\n",
              "  <thead>\n",
              "    <tr style=\"text-align: right;\">\n",
              "      <th></th>\n",
              "      <th>1</th>\n",
              "    </tr>\n",
              "    <tr>\n",
              "      <th>0</th>\n",
              "      <th></th>\n",
              "    </tr>\n",
              "  </thead>\n",
              "  <tbody>\n",
              "    <tr>\n",
              "      <th>2015-01-04 00:05:00</th>\n",
              "      <td>392</td>\n",
              "    </tr>\n",
              "    <tr>\n",
              "      <th>2015-01-04 01:05:00</th>\n",
              "      <td>384</td>\n",
              "    </tr>\n",
              "    <tr>\n",
              "      <th>2015-01-04 02:05:00</th>\n",
              "      <td>393</td>\n",
              "    </tr>\n",
              "  </tbody>\n",
              "</table>\n",
              "</div>"
            ],
            "text/plain": [
              "                       1\n",
              "0                       \n",
              "2015-01-04 00:05:00  392\n",
              "2015-01-04 01:05:00  384\n",
              "2015-01-04 02:05:00  393"
            ]
          },
          "metadata": {
            "tags": []
          },
          "execution_count": 34
        }
      ]
    },
    {
      "cell_type": "code",
      "metadata": {
        "id": "lbI9hQ4lYaZh",
        "colab_type": "code",
        "colab": {
          "base_uri": "https://localhost:8080/",
          "height": 173
        },
        "outputId": "47415d09-21f5-4297-b9ef-a31040c9c9d3"
      },
      "source": [
        "Y_submit.head(3)"
      ],
      "execution_count": 35,
      "outputs": [
        {
          "output_type": "execute_result",
          "data": {
            "text/html": [
              "<div>\n",
              "<style scoped>\n",
              "    .dataframe tbody tr th:only-of-type {\n",
              "        vertical-align: middle;\n",
              "    }\n",
              "\n",
              "    .dataframe tbody tr th {\n",
              "        vertical-align: top;\n",
              "    }\n",
              "\n",
              "    .dataframe thead th {\n",
              "        text-align: right;\n",
              "    }\n",
              "</style>\n",
              "<table border=\"1\" class=\"dataframe\">\n",
              "  <thead>\n",
              "    <tr style=\"text-align: right;\">\n",
              "      <th></th>\n",
              "      <th>1</th>\n",
              "    </tr>\n",
              "    <tr>\n",
              "      <th>0</th>\n",
              "      <th></th>\n",
              "    </tr>\n",
              "  </thead>\n",
              "  <tbody>\n",
              "    <tr>\n",
              "      <th>2018-05-04 00:05:00</th>\n",
              "      <td>420</td>\n",
              "    </tr>\n",
              "    <tr>\n",
              "      <th>2018-05-04 01:05:00</th>\n",
              "      <td>420</td>\n",
              "    </tr>\n",
              "    <tr>\n",
              "      <th>2018-05-04 02:05:00</th>\n",
              "      <td>420</td>\n",
              "    </tr>\n",
              "  </tbody>\n",
              "</table>\n",
              "</div>"
            ],
            "text/plain": [
              "                       1\n",
              "0                       \n",
              "2018-05-04 00:05:00  420\n",
              "2018-05-04 01:05:00  420\n",
              "2018-05-04 02:05:00  420"
            ]
          },
          "metadata": {
            "tags": []
          },
          "execution_count": 35
        }
      ]
    },
    {
      "cell_type": "code",
      "metadata": {
        "id": "ONff7I90Yua-",
        "colab_type": "code",
        "colab": {
          "base_uri": "https://localhost:8080/",
          "height": 281
        },
        "outputId": "c1817d0a-3c5f-4cd7-82d8-0a334bb47cdc"
      },
      "source": [
        "X_data.head(3)"
      ],
      "execution_count": 36,
      "outputs": [
        {
          "output_type": "execute_result",
          "data": {
            "text/html": [
              "<div>\n",
              "<style scoped>\n",
              "    .dataframe tbody tr th:only-of-type {\n",
              "        vertical-align: middle;\n",
              "    }\n",
              "\n",
              "    .dataframe tbody tr th {\n",
              "        vertical-align: top;\n",
              "    }\n",
              "\n",
              "    .dataframe thead th {\n",
              "        text-align: right;\n",
              "    }\n",
              "</style>\n",
              "<table border=\"1\" class=\"dataframe\">\n",
              "  <thead>\n",
              "    <tr style=\"text-align: right;\">\n",
              "      <th></th>\n",
              "      <th>Unnamed: 0</th>\n",
              "      <th>T_data_1_1</th>\n",
              "      <th>T_data_1_2</th>\n",
              "      <th>T_data_1_3</th>\n",
              "      <th>T_data_2_1</th>\n",
              "      <th>T_data_2_2</th>\n",
              "      <th>T_data_2_3</th>\n",
              "      <th>T_data_3_1</th>\n",
              "      <th>T_data_3_2</th>\n",
              "      <th>T_data_3_3</th>\n",
              "      <th>T_data_4_1</th>\n",
              "      <th>T_data_4_2</th>\n",
              "      <th>T_data_4_3</th>\n",
              "      <th>T_data_5_1</th>\n",
              "      <th>T_data_5_2</th>\n",
              "      <th>T_data_5_3</th>\n",
              "      <th>H_data</th>\n",
              "      <th>AH_data</th>\n",
              "    </tr>\n",
              "  </thead>\n",
              "  <tbody>\n",
              "    <tr>\n",
              "      <th>0</th>\n",
              "      <td>2015-01-01 00:00:00</td>\n",
              "      <td>212</td>\n",
              "      <td>210</td>\n",
              "      <td>211</td>\n",
              "      <td>347</td>\n",
              "      <td>353</td>\n",
              "      <td>347</td>\n",
              "      <td>474</td>\n",
              "      <td>473</td>\n",
              "      <td>481</td>\n",
              "      <td>346</td>\n",
              "      <td>348</td>\n",
              "      <td>355</td>\n",
              "      <td>241</td>\n",
              "      <td>241</td>\n",
              "      <td>243</td>\n",
              "      <td>167.85</td>\n",
              "      <td>9.22</td>\n",
              "    </tr>\n",
              "    <tr>\n",
              "      <th>1</th>\n",
              "      <td>2015-01-01 00:01:00</td>\n",
              "      <td>212</td>\n",
              "      <td>211</td>\n",
              "      <td>211</td>\n",
              "      <td>346</td>\n",
              "      <td>352</td>\n",
              "      <td>346</td>\n",
              "      <td>475</td>\n",
              "      <td>473</td>\n",
              "      <td>481</td>\n",
              "      <td>349</td>\n",
              "      <td>348</td>\n",
              "      <td>355</td>\n",
              "      <td>241</td>\n",
              "      <td>241</td>\n",
              "      <td>243</td>\n",
              "      <td>162.51</td>\n",
              "      <td>9.22</td>\n",
              "    </tr>\n",
              "    <tr>\n",
              "      <th>2</th>\n",
              "      <td>2015-01-01 00:02:00</td>\n",
              "      <td>212</td>\n",
              "      <td>211</td>\n",
              "      <td>211</td>\n",
              "      <td>345</td>\n",
              "      <td>352</td>\n",
              "      <td>346</td>\n",
              "      <td>476</td>\n",
              "      <td>473</td>\n",
              "      <td>481</td>\n",
              "      <td>352</td>\n",
              "      <td>349</td>\n",
              "      <td>355</td>\n",
              "      <td>242</td>\n",
              "      <td>241</td>\n",
              "      <td>242</td>\n",
              "      <td>164.99</td>\n",
              "      <td>9.22</td>\n",
              "    </tr>\n",
              "  </tbody>\n",
              "</table>\n",
              "</div>"
            ],
            "text/plain": [
              "            Unnamed: 0  T_data_1_1  T_data_1_2  ...  T_data_5_3  H_data  AH_data\n",
              "0  2015-01-01 00:00:00         212         210  ...         243  167.85     9.22\n",
              "1  2015-01-01 00:01:00         212         211  ...         243  162.51     9.22\n",
              "2  2015-01-01 00:02:00         212         211  ...         242  164.99     9.22\n",
              "\n",
              "[3 rows x 18 columns]"
            ]
          },
          "metadata": {
            "tags": []
          },
          "execution_count": 36
        }
      ]
    },
    {
      "cell_type": "code",
      "metadata": {
        "id": "rxWisKltPLug",
        "colab_type": "code",
        "colab": {
          "base_uri": "https://localhost:8080/",
          "height": 442
        },
        "outputId": "da43e6f5-2781-4aa3-c097-06c5430eea26"
      },
      "source": [
        "X_data.info(verbose=True, null_counts=True)"
      ],
      "execution_count": 37,
      "outputs": [
        {
          "output_type": "stream",
          "text": [
            "<class 'pandas.core.frame.DataFrame'>\n",
            "RangeIndex: 2103841 entries, 0 to 2103840\n",
            "Data columns (total 18 columns):\n",
            " #   Column      Non-Null Count    Dtype  \n",
            "---  ------      --------------    -----  \n",
            " 0   Unnamed: 0  2103841 non-null  object \n",
            " 1   T_data_1_1  2103841 non-null  int64  \n",
            " 2   T_data_1_2  2103841 non-null  int64  \n",
            " 3   T_data_1_3  2103841 non-null  int64  \n",
            " 4   T_data_2_1  2103841 non-null  int64  \n",
            " 5   T_data_2_2  2103841 non-null  int64  \n",
            " 6   T_data_2_3  2103841 non-null  int64  \n",
            " 7   T_data_3_1  2103841 non-null  int64  \n",
            " 8   T_data_3_2  2103841 non-null  int64  \n",
            " 9   T_data_3_3  2103841 non-null  int64  \n",
            " 10  T_data_4_1  2103841 non-null  int64  \n",
            " 11  T_data_4_2  2103841 non-null  int64  \n",
            " 12  T_data_4_3  2103841 non-null  int64  \n",
            " 13  T_data_5_1  2103841 non-null  int64  \n",
            " 14  T_data_5_2  2103841 non-null  int64  \n",
            " 15  T_data_5_3  2103841 non-null  int64  \n",
            " 16  H_data      2103841 non-null  float64\n",
            " 17  AH_data     2103841 non-null  float64\n",
            "dtypes: float64(2), int64(15), object(1)\n",
            "memory usage: 288.9+ MB\n"
          ],
          "name": "stdout"
        }
      ]
    },
    {
      "cell_type": "markdown",
      "metadata": {
        "id": "FhzUFvhbs1jA",
        "colab_type": "text"
      },
      "source": [
        "Пропущенных значений нет. Все столбцы содержат 2103841 значений, что равняется длине всего датафрейма<hr>\n",
        "Так как значения *H_data* и *AH_data* фиксируются на **входе**, то приходим к мнению, что в *1 колонке X_data* записано **время начала проката**. Чтобы сопоставить *данные с детекторов* и *данные о качестве*, которые составляются **на выходе обжиговой машины** к каждому значению X_data['Unnamed: 0'] прибавим время 1 полного прохода обжига, то есть 1 час."
      ]
    },
    {
      "cell_type": "code",
      "metadata": {
        "id": "butV8CdZR1Hj",
        "colab_type": "code",
        "colab": {
          "base_uri": "https://localhost:8080/",
          "height": 51
        },
        "outputId": "bb449c06-372b-4696-aa97-655860fed4d1"
      },
      "source": [
        "from datetime import datetime, timedelta\n",
        "\n",
        "print(X_data['Unnamed: 0'].dtype)\n",
        "X_data['Unnamed: 0'] = pd.to_datetime(X_data['Unnamed: 0']) + timedelta(hours=1)\n",
        "print(X_data['Unnamed: 0'].dtype)"
      ],
      "execution_count": 38,
      "outputs": [
        {
          "output_type": "stream",
          "text": [
            "object\n",
            "datetime64[ns]\n"
          ],
          "name": "stdout"
        }
      ]
    },
    {
      "cell_type": "code",
      "metadata": {
        "id": "_BZwLAC9vC44",
        "colab_type": "code",
        "colab": {
          "base_uri": "https://localhost:8080/",
          "height": 827
        },
        "outputId": "35316f00-dc02-4c86-91e9-6d984041a34f"
      },
      "source": [
        "X_data = X_data.set_index(['Unnamed: 0'])\n",
        "X_data"
      ],
      "execution_count": 39,
      "outputs": [
        {
          "output_type": "execute_result",
          "data": {
            "text/html": [
              "<div>\n",
              "<style scoped>\n",
              "    .dataframe tbody tr th:only-of-type {\n",
              "        vertical-align: middle;\n",
              "    }\n",
              "\n",
              "    .dataframe tbody tr th {\n",
              "        vertical-align: top;\n",
              "    }\n",
              "\n",
              "    .dataframe thead th {\n",
              "        text-align: right;\n",
              "    }\n",
              "</style>\n",
              "<table border=\"1\" class=\"dataframe\">\n",
              "  <thead>\n",
              "    <tr style=\"text-align: right;\">\n",
              "      <th></th>\n",
              "      <th>T_data_1_1</th>\n",
              "      <th>T_data_1_2</th>\n",
              "      <th>T_data_1_3</th>\n",
              "      <th>T_data_2_1</th>\n",
              "      <th>T_data_2_2</th>\n",
              "      <th>T_data_2_3</th>\n",
              "      <th>T_data_3_1</th>\n",
              "      <th>T_data_3_2</th>\n",
              "      <th>T_data_3_3</th>\n",
              "      <th>T_data_4_1</th>\n",
              "      <th>T_data_4_2</th>\n",
              "      <th>T_data_4_3</th>\n",
              "      <th>T_data_5_1</th>\n",
              "      <th>T_data_5_2</th>\n",
              "      <th>T_data_5_3</th>\n",
              "      <th>H_data</th>\n",
              "      <th>AH_data</th>\n",
              "    </tr>\n",
              "    <tr>\n",
              "      <th>Unnamed: 0</th>\n",
              "      <th></th>\n",
              "      <th></th>\n",
              "      <th></th>\n",
              "      <th></th>\n",
              "      <th></th>\n",
              "      <th></th>\n",
              "      <th></th>\n",
              "      <th></th>\n",
              "      <th></th>\n",
              "      <th></th>\n",
              "      <th></th>\n",
              "      <th></th>\n",
              "      <th></th>\n",
              "      <th></th>\n",
              "      <th></th>\n",
              "      <th></th>\n",
              "      <th></th>\n",
              "    </tr>\n",
              "  </thead>\n",
              "  <tbody>\n",
              "    <tr>\n",
              "      <th>2015-01-01 01:00:00</th>\n",
              "      <td>212</td>\n",
              "      <td>210</td>\n",
              "      <td>211</td>\n",
              "      <td>347</td>\n",
              "      <td>353</td>\n",
              "      <td>347</td>\n",
              "      <td>474</td>\n",
              "      <td>473</td>\n",
              "      <td>481</td>\n",
              "      <td>346</td>\n",
              "      <td>348</td>\n",
              "      <td>355</td>\n",
              "      <td>241</td>\n",
              "      <td>241</td>\n",
              "      <td>243</td>\n",
              "      <td>167.85</td>\n",
              "      <td>9.22</td>\n",
              "    </tr>\n",
              "    <tr>\n",
              "      <th>2015-01-01 01:01:00</th>\n",
              "      <td>212</td>\n",
              "      <td>211</td>\n",
              "      <td>211</td>\n",
              "      <td>346</td>\n",
              "      <td>352</td>\n",
              "      <td>346</td>\n",
              "      <td>475</td>\n",
              "      <td>473</td>\n",
              "      <td>481</td>\n",
              "      <td>349</td>\n",
              "      <td>348</td>\n",
              "      <td>355</td>\n",
              "      <td>241</td>\n",
              "      <td>241</td>\n",
              "      <td>243</td>\n",
              "      <td>162.51</td>\n",
              "      <td>9.22</td>\n",
              "    </tr>\n",
              "    <tr>\n",
              "      <th>2015-01-01 01:02:00</th>\n",
              "      <td>212</td>\n",
              "      <td>211</td>\n",
              "      <td>211</td>\n",
              "      <td>345</td>\n",
              "      <td>352</td>\n",
              "      <td>346</td>\n",
              "      <td>476</td>\n",
              "      <td>473</td>\n",
              "      <td>481</td>\n",
              "      <td>352</td>\n",
              "      <td>349</td>\n",
              "      <td>355</td>\n",
              "      <td>242</td>\n",
              "      <td>241</td>\n",
              "      <td>242</td>\n",
              "      <td>164.99</td>\n",
              "      <td>9.22</td>\n",
              "    </tr>\n",
              "    <tr>\n",
              "      <th>2015-01-01 01:03:00</th>\n",
              "      <td>213</td>\n",
              "      <td>211</td>\n",
              "      <td>211</td>\n",
              "      <td>344</td>\n",
              "      <td>351</td>\n",
              "      <td>346</td>\n",
              "      <td>477</td>\n",
              "      <td>473</td>\n",
              "      <td>481</td>\n",
              "      <td>355</td>\n",
              "      <td>349</td>\n",
              "      <td>355</td>\n",
              "      <td>242</td>\n",
              "      <td>241</td>\n",
              "      <td>242</td>\n",
              "      <td>167.34</td>\n",
              "      <td>9.22</td>\n",
              "    </tr>\n",
              "    <tr>\n",
              "      <th>2015-01-01 01:04:00</th>\n",
              "      <td>213</td>\n",
              "      <td>211</td>\n",
              "      <td>211</td>\n",
              "      <td>343</td>\n",
              "      <td>350</td>\n",
              "      <td>346</td>\n",
              "      <td>478</td>\n",
              "      <td>473</td>\n",
              "      <td>482</td>\n",
              "      <td>358</td>\n",
              "      <td>349</td>\n",
              "      <td>355</td>\n",
              "      <td>243</td>\n",
              "      <td>241</td>\n",
              "      <td>242</td>\n",
              "      <td>163.04</td>\n",
              "      <td>9.22</td>\n",
              "    </tr>\n",
              "    <tr>\n",
              "      <th>...</th>\n",
              "      <td>...</td>\n",
              "      <td>...</td>\n",
              "      <td>...</td>\n",
              "      <td>...</td>\n",
              "      <td>...</td>\n",
              "      <td>...</td>\n",
              "      <td>...</td>\n",
              "      <td>...</td>\n",
              "      <td>...</td>\n",
              "      <td>...</td>\n",
              "      <td>...</td>\n",
              "      <td>...</td>\n",
              "      <td>...</td>\n",
              "      <td>...</td>\n",
              "      <td>...</td>\n",
              "      <td>...</td>\n",
              "      <td>...</td>\n",
              "    </tr>\n",
              "    <tr>\n",
              "      <th>2019-01-01 00:56:00</th>\n",
              "      <td>271</td>\n",
              "      <td>261</td>\n",
              "      <td>265</td>\n",
              "      <td>353</td>\n",
              "      <td>359</td>\n",
              "      <td>353</td>\n",
              "      <td>481</td>\n",
              "      <td>449</td>\n",
              "      <td>491</td>\n",
              "      <td>325</td>\n",
              "      <td>328</td>\n",
              "      <td>328</td>\n",
              "      <td>277</td>\n",
              "      <td>276</td>\n",
              "      <td>280</td>\n",
              "      <td>157.20</td>\n",
              "      <td>8.44</td>\n",
              "    </tr>\n",
              "    <tr>\n",
              "      <th>2019-01-01 00:57:00</th>\n",
              "      <td>271</td>\n",
              "      <td>261</td>\n",
              "      <td>265</td>\n",
              "      <td>353</td>\n",
              "      <td>359</td>\n",
              "      <td>353</td>\n",
              "      <td>481</td>\n",
              "      <td>449</td>\n",
              "      <td>491</td>\n",
              "      <td>325</td>\n",
              "      <td>328</td>\n",
              "      <td>328</td>\n",
              "      <td>277</td>\n",
              "      <td>276</td>\n",
              "      <td>280</td>\n",
              "      <td>160.40</td>\n",
              "      <td>8.44</td>\n",
              "    </tr>\n",
              "    <tr>\n",
              "      <th>2019-01-01 00:58:00</th>\n",
              "      <td>271</td>\n",
              "      <td>261</td>\n",
              "      <td>265</td>\n",
              "      <td>353</td>\n",
              "      <td>359</td>\n",
              "      <td>353</td>\n",
              "      <td>481</td>\n",
              "      <td>449</td>\n",
              "      <td>491</td>\n",
              "      <td>325</td>\n",
              "      <td>328</td>\n",
              "      <td>328</td>\n",
              "      <td>277</td>\n",
              "      <td>276</td>\n",
              "      <td>280</td>\n",
              "      <td>160.14</td>\n",
              "      <td>8.44</td>\n",
              "    </tr>\n",
              "    <tr>\n",
              "      <th>2019-01-01 00:59:00</th>\n",
              "      <td>271</td>\n",
              "      <td>261</td>\n",
              "      <td>265</td>\n",
              "      <td>353</td>\n",
              "      <td>359</td>\n",
              "      <td>353</td>\n",
              "      <td>481</td>\n",
              "      <td>449</td>\n",
              "      <td>491</td>\n",
              "      <td>325</td>\n",
              "      <td>328</td>\n",
              "      <td>328</td>\n",
              "      <td>277</td>\n",
              "      <td>276</td>\n",
              "      <td>280</td>\n",
              "      <td>162.96</td>\n",
              "      <td>8.44</td>\n",
              "    </tr>\n",
              "    <tr>\n",
              "      <th>2019-01-01 01:00:00</th>\n",
              "      <td>271</td>\n",
              "      <td>261</td>\n",
              "      <td>265</td>\n",
              "      <td>353</td>\n",
              "      <td>359</td>\n",
              "      <td>353</td>\n",
              "      <td>481</td>\n",
              "      <td>449</td>\n",
              "      <td>491</td>\n",
              "      <td>325</td>\n",
              "      <td>328</td>\n",
              "      <td>328</td>\n",
              "      <td>277</td>\n",
              "      <td>276</td>\n",
              "      <td>280</td>\n",
              "      <td>159.73</td>\n",
              "      <td>7.35</td>\n",
              "    </tr>\n",
              "  </tbody>\n",
              "</table>\n",
              "<p>2103841 rows × 17 columns</p>\n",
              "</div>"
            ],
            "text/plain": [
              "                     T_data_1_1  T_data_1_2  ...  H_data  AH_data\n",
              "Unnamed: 0                                   ...                 \n",
              "2015-01-01 01:00:00         212         210  ...  167.85     9.22\n",
              "2015-01-01 01:01:00         212         211  ...  162.51     9.22\n",
              "2015-01-01 01:02:00         212         211  ...  164.99     9.22\n",
              "2015-01-01 01:03:00         213         211  ...  167.34     9.22\n",
              "2015-01-01 01:04:00         213         211  ...  163.04     9.22\n",
              "...                         ...         ...  ...     ...      ...\n",
              "2019-01-01 00:56:00         271         261  ...  157.20     8.44\n",
              "2019-01-01 00:57:00         271         261  ...  160.40     8.44\n",
              "2019-01-01 00:58:00         271         261  ...  160.14     8.44\n",
              "2019-01-01 00:59:00         271         261  ...  162.96     8.44\n",
              "2019-01-01 01:00:00         271         261  ...  159.73     7.35\n",
              "\n",
              "[2103841 rows x 17 columns]"
            ]
          },
          "metadata": {
            "tags": []
          },
          "execution_count": 39
        }
      ]
    },
    {
      "cell_type": "markdown",
      "metadata": {
        "id": "MYW8PGRSyakA",
        "colab_type": "text"
      },
      "source": [
        "Составим датафрейм, состоящий только из данных, метрики качества которых нам известны:"
      ]
    },
    {
      "cell_type": "code",
      "metadata": {
        "id": "_gehZuFkyybQ",
        "colab_type": "code",
        "colab": {
          "base_uri": "https://localhost:8080/",
          "height": 34
        },
        "outputId": "a132dccf-638d-4fe6-88eb-f3e9a1554a04"
      },
      "source": [
        "X = X_data.loc[X_data.index.isin(Y_train.index)]\n",
        "X.shape, Y_train.shape"
      ],
      "execution_count": 42,
      "outputs": [
        {
          "output_type": "execute_result",
          "data": {
            "text/plain": [
              "((29184, 17), (29184, 1))"
            ]
          },
          "metadata": {
            "tags": []
          },
          "execution_count": 42
        }
      ]
    },
    {
      "cell_type": "code",
      "metadata": {
        "id": "s7WxHQaw60yj",
        "colab_type": "code",
        "colab": {}
      },
      "source": [
        "from sklearn.model_selection import cross_val_score, train_test_split\n",
        "\n",
        "X_train, X_holdout, y_train, y_holdout = train_test_split(X, Y_train.values, \n",
        "                                                          test_size=0.3, random_state=2)"
      ],
      "execution_count": 43,
      "outputs": []
    },
    {
      "cell_type": "code",
      "metadata": {
        "id": "gft9FPY49N6D",
        "colab_type": "code",
        "colab": {
          "base_uri": "https://localhost:8080/",
          "height": 34
        },
        "outputId": "93ac9b18-302e-4e5a-bd83-ca5e28f27bed"
      },
      "source": [
        "(X_train.shape, y_train.shape), \\\n",
        "(X_holdout.shape, y_holdout.shape)"
      ],
      "execution_count": 44,
      "outputs": [
        {
          "output_type": "execute_result",
          "data": {
            "text/plain": [
              "(((20428, 17), (20428, 1)), ((8756, 17), (8756, 1)))"
            ]
          },
          "metadata": {
            "tags": []
          },
          "execution_count": 44
        }
      ]
    },
    {
      "cell_type": "markdown",
      "metadata": {
        "id": "tkGyAhLt9x39",
        "colab_type": "text"
      },
      "source": [
        "### Модель на основе случайного леса"
      ]
    },
    {
      "cell_type": "code",
      "metadata": {
        "id": "Uhju9ar__uG_",
        "colab_type": "code",
        "colab": {}
      },
      "source": [
        "from sklearn.ensemble import RandomForestRegressor\n",
        "from sklearn.model_selection import GridSearchCV\n",
        "import warnings\n",
        "warnings.filterwarnings('ignore')"
      ],
      "execution_count": 45,
      "outputs": []
    },
    {
      "cell_type": "code",
      "metadata": {
        "id": "SCT2Hb9gCMtp",
        "colab_type": "code",
        "colab": {}
      },
      "source": [
        "forest_params = {\n",
        "    'max_depth': list(range(22, 26)), \n",
        "    'min_samples_leaf': list(range(1, 3)),\n",
        "    'max_features': list(range(10,14)),\n",
        "    'n_estimators': list(range(1000,2000, 100)),\n",
        "    }\n",
        "\n",
        "locally_best_forest = GridSearchCV(RandomForestRegressor(n_jobs=-1, random_state=2,),\n",
        "                                   forest_params, \n",
        "                                   scoring='neg_mean_absolute_error',  \n",
        "                                   n_jobs=-1, \n",
        "                                   verbose=True)\n",
        "\n",
        "# locally_best_forest.fit(X_train, y_train)\n",
        "# locally_best_forest.best_params_, locally_best_forest.best_score_\n",
        "# mae(y_holdout, locally_best_forest.predict(X_holdout))"
      ],
      "execution_count": 48,
      "outputs": []
    },
    {
      "cell_type": "code",
      "metadata": {
        "id": "VYl1aeOfNYq2",
        "colab_type": "code",
        "colab": {
          "base_uri": "https://localhost:8080/",
          "height": 136
        },
        "outputId": "dcbd8854-e485-46ed-9162-4867799bd9ff"
      },
      "source": [
        "model_rf = RandomForestRegressor(max_depth=24, max_features=10, \n",
        "                                 min_samples_leaf=1, n_estimators=1900, \n",
        "                                 random_state=2)\n",
        "model_rf.fit(X_train, y_train)"
      ],
      "execution_count": 49,
      "outputs": [
        {
          "output_type": "execute_result",
          "data": {
            "text/plain": [
              "RandomForestRegressor(bootstrap=True, ccp_alpha=0.0, criterion='mse',\n",
              "                      max_depth=24, max_features=10, max_leaf_nodes=None,\n",
              "                      max_samples=None, min_impurity_decrease=0.0,\n",
              "                      min_impurity_split=None, min_samples_leaf=1,\n",
              "                      min_samples_split=2, min_weight_fraction_leaf=0.0,\n",
              "                      n_estimators=1900, n_jobs=None, oob_score=False,\n",
              "                      random_state=2, verbose=0, warm_start=False)"
            ]
          },
          "metadata": {
            "tags": []
          },
          "execution_count": 49
        }
      ]
    },
    {
      "cell_type": "code",
      "metadata": {
        "id": "W8uNXI4kN6LG",
        "colab_type": "code",
        "colab": {}
      },
      "source": [
        "y_pred_RF = model_rf.predict(X_holdout)"
      ],
      "execution_count": 50,
      "outputs": []
    },
    {
      "cell_type": "markdown",
      "metadata": {
        "id": "LkXmr3dg96JE",
        "colab_type": "text"
      },
      "source": [
        "### Модель на основе нейронной сети"
      ]
    },
    {
      "cell_type": "code",
      "metadata": {
        "id": "UmV7Ti6e9kYA",
        "colab_type": "code",
        "colab": {
          "base_uri": "https://localhost:8080/",
          "height": 51
        },
        "outputId": "8df1ed69-7b50-4f19-be09-2ef905769253"
      },
      "source": [
        "import tensorflow as tf\n",
        "from tensorflow.keras.models import Sequential\n",
        "from tensorflow.keras import layers as l\n",
        "from tensorboard import notebook\n",
        "%load_ext tensorboard"
      ],
      "execution_count": null,
      "outputs": [
        {
          "output_type": "stream",
          "text": [
            "The tensorboard extension is already loaded. To reload it, use:\n",
            "  %reload_ext tensorboard\n"
          ],
          "name": "stdout"
        }
      ]
    },
    {
      "cell_type": "code",
      "metadata": {
        "id": "RjJDLeN5-Ucn",
        "colab_type": "code",
        "colab": {}
      },
      "source": [
        "NN_model = Sequential([\n",
        "                       l.Dense(200, kernel_initializer='normal', activation='relu', input_shape=(len(X_train.columns),)), \n",
        "                       l.BatchNormalization(),\n",
        "                       l.Dropout(0.2), \n",
        "                       l.Dense(100, kernel_initializer='normal', activation='relu',), \n",
        "                       l.Dropout(0.2), \n",
        "                       l.Dense(50, kernel_initializer='normal', activation='relu',), \n",
        "                       l.BatchNormalization(),\n",
        "                       l.Dropout(0.2), \n",
        "                       l.Dense(25, kernel_initializer='normal', activation='relu',), \n",
        "                       l.Dropout(0.2), \n",
        "                       l.Dense(1, kernel_initializer='normal'),\n",
        "                       ])\n",
        "path_to_log = path_to_project_directory+'/logs/'\n",
        "\n",
        "NN_model.compile(loss='mean_absolute_error', optimizer='adam', \n",
        "                 metrics=['mean_absolute_error'],)\n",
        "\n",
        "logger = [tf.keras.callbacks.TensorBoard(\n",
        "    log_dir=path_to_log, \n",
        "    write_graph=True,\n",
        "    histogram_freq=5, \n",
        "    profile_batch=100000000,\n",
        "    )]"
      ],
      "execution_count": null,
      "outputs": []
    },
    {
      "cell_type": "code",
      "metadata": {
        "id": "RKzHc2Tg-_nB",
        "colab_type": "code",
        "colab": {
          "base_uri": "https://localhost:8080/",
          "height": 1000
        },
        "outputId": "a54e9e74-1481-4bde-cf8d-1ac949890710"
      },
      "source": [
        "NN_history = NN_model.fit(X_train, y_train,\n",
        "                          validation_data=(X_holdout, y_holdout), \n",
        "                          epochs=50, batch_size=10, \n",
        "                          callbacks = logger, \n",
        "                          use_multiprocessing=True,)"
      ],
      "execution_count": null,
      "outputs": [
        {
          "output_type": "stream",
          "text": [
            "Epoch 1/50\n",
            "2043/2043 [==============================] - 6s 3ms/step - loss: 127.5531 - mean_absolute_error: 127.5531 - val_loss: 84.2676 - val_mean_absolute_error: 84.2676\n",
            "Epoch 2/50\n",
            "2043/2043 [==============================] - 6s 3ms/step - loss: 67.8230 - mean_absolute_error: 67.8230 - val_loss: 29.0465 - val_mean_absolute_error: 29.0465\n",
            "Epoch 3/50\n",
            "2043/2043 [==============================] - 6s 3ms/step - loss: 57.0734 - mean_absolute_error: 57.0734 - val_loss: 29.1874 - val_mean_absolute_error: 29.1874\n",
            "Epoch 4/50\n",
            "2043/2043 [==============================] - 6s 3ms/step - loss: 51.8936 - mean_absolute_error: 51.8936 - val_loss: 19.7618 - val_mean_absolute_error: 19.7618\n",
            "Epoch 5/50\n",
            "2043/2043 [==============================] - 6s 3ms/step - loss: 48.8280 - mean_absolute_error: 48.8280 - val_loss: 44.2154 - val_mean_absolute_error: 44.2154\n",
            "Epoch 6/50\n",
            "2043/2043 [==============================] - 6s 3ms/step - loss: 45.6307 - mean_absolute_error: 45.6307 - val_loss: 15.9840 - val_mean_absolute_error: 15.9840\n",
            "Epoch 7/50\n",
            "2043/2043 [==============================] - 6s 3ms/step - loss: 44.3820 - mean_absolute_error: 44.3820 - val_loss: 15.7058 - val_mean_absolute_error: 15.7058\n",
            "Epoch 8/50\n",
            "2043/2043 [==============================] - 6s 3ms/step - loss: 43.9530 - mean_absolute_error: 43.9530 - val_loss: 29.4744 - val_mean_absolute_error: 29.4744\n",
            "Epoch 9/50\n",
            "2043/2043 [==============================] - 6s 3ms/step - loss: 43.5679 - mean_absolute_error: 43.5679 - val_loss: 18.7320 - val_mean_absolute_error: 18.7320\n",
            "Epoch 10/50\n",
            "2043/2043 [==============================] - 6s 3ms/step - loss: 43.5114 - mean_absolute_error: 43.5114 - val_loss: 14.2660 - val_mean_absolute_error: 14.2660\n",
            "Epoch 11/50\n",
            "2043/2043 [==============================] - 6s 3ms/step - loss: 43.0498 - mean_absolute_error: 43.0498 - val_loss: 21.1163 - val_mean_absolute_error: 21.1163\n",
            "Epoch 12/50\n",
            "2043/2043 [==============================] - 6s 3ms/step - loss: 42.6944 - mean_absolute_error: 42.6944 - val_loss: 13.9773 - val_mean_absolute_error: 13.9773\n",
            "Epoch 13/50\n",
            "2043/2043 [==============================] - 6s 3ms/step - loss: 42.2976 - mean_absolute_error: 42.2976 - val_loss: 21.8591 - val_mean_absolute_error: 21.8591\n",
            "Epoch 14/50\n",
            "2043/2043 [==============================] - 6s 3ms/step - loss: 42.7247 - mean_absolute_error: 42.7247 - val_loss: 15.9026 - val_mean_absolute_error: 15.9026\n",
            "Epoch 15/50\n",
            "2043/2043 [==============================] - 6s 3ms/step - loss: 42.2816 - mean_absolute_error: 42.2816 - val_loss: 32.5096 - val_mean_absolute_error: 32.5096\n",
            "Epoch 16/50\n",
            "2043/2043 [==============================] - 6s 3ms/step - loss: 42.1458 - mean_absolute_error: 42.1458 - val_loss: 13.3994 - val_mean_absolute_error: 13.3994\n",
            "Epoch 17/50\n",
            "2043/2043 [==============================] - 6s 3ms/step - loss: 42.2496 - mean_absolute_error: 42.2496 - val_loss: 14.3797 - val_mean_absolute_error: 14.3797\n",
            "Epoch 18/50\n",
            "2043/2043 [==============================] - 6s 3ms/step - loss: 41.6431 - mean_absolute_error: 41.6431 - val_loss: 19.7190 - val_mean_absolute_error: 19.7190\n",
            "Epoch 19/50\n",
            "2043/2043 [==============================] - 6s 3ms/step - loss: 41.3472 - mean_absolute_error: 41.3472 - val_loss: 21.4898 - val_mean_absolute_error: 21.4898\n",
            "Epoch 20/50\n",
            "2043/2043 [==============================] - 6s 3ms/step - loss: 41.4964 - mean_absolute_error: 41.4964 - val_loss: 16.0681 - val_mean_absolute_error: 16.0681\n",
            "Epoch 21/50\n",
            "2043/2043 [==============================] - 6s 3ms/step - loss: 41.3001 - mean_absolute_error: 41.3001 - val_loss: 39.1784 - val_mean_absolute_error: 39.1784\n",
            "Epoch 22/50\n",
            "2043/2043 [==============================] - 6s 3ms/step - loss: 41.1648 - mean_absolute_error: 41.1648 - val_loss: 36.6809 - val_mean_absolute_error: 36.6809\n",
            "Epoch 23/50\n",
            "2043/2043 [==============================] - 6s 3ms/step - loss: 40.9855 - mean_absolute_error: 40.9855 - val_loss: 14.2542 - val_mean_absolute_error: 14.2542\n",
            "Epoch 24/50\n",
            "2043/2043 [==============================] - 6s 3ms/step - loss: 40.8719 - mean_absolute_error: 40.8719 - val_loss: 23.7345 - val_mean_absolute_error: 23.7345\n",
            "Epoch 25/50\n",
            "2043/2043 [==============================] - 6s 3ms/step - loss: 39.9784 - mean_absolute_error: 39.9784 - val_loss: 20.5375 - val_mean_absolute_error: 20.5375\n",
            "Epoch 26/50\n",
            "2043/2043 [==============================] - 6s 3ms/step - loss: 40.3816 - mean_absolute_error: 40.3816 - val_loss: 18.0540 - val_mean_absolute_error: 18.0540\n",
            "Epoch 27/50\n",
            "2043/2043 [==============================] - 6s 3ms/step - loss: 40.3002 - mean_absolute_error: 40.3001 - val_loss: 16.7912 - val_mean_absolute_error: 16.7912\n",
            "Epoch 28/50\n",
            "2043/2043 [==============================] - 6s 3ms/step - loss: 40.0096 - mean_absolute_error: 40.0096 - val_loss: 12.9254 - val_mean_absolute_error: 12.9254\n",
            "Epoch 29/50\n",
            "2043/2043 [==============================] - 6s 3ms/step - loss: 39.6406 - mean_absolute_error: 39.6406 - val_loss: 15.3091 - val_mean_absolute_error: 15.3091\n",
            "Epoch 30/50\n",
            "2043/2043 [==============================] - 6s 3ms/step - loss: 40.0355 - mean_absolute_error: 40.0355 - val_loss: 24.4850 - val_mean_absolute_error: 24.4850\n",
            "Epoch 31/50\n",
            "2043/2043 [==============================] - 6s 3ms/step - loss: 40.1395 - mean_absolute_error: 40.1395 - val_loss: 46.6103 - val_mean_absolute_error: 46.6103\n",
            "Epoch 32/50\n",
            "2043/2043 [==============================] - 6s 3ms/step - loss: 40.0078 - mean_absolute_error: 40.0078 - val_loss: 16.3935 - val_mean_absolute_error: 16.3935\n",
            "Epoch 33/50\n",
            "2043/2043 [==============================] - 6s 3ms/step - loss: 40.1209 - mean_absolute_error: 40.1209 - val_loss: 17.5622 - val_mean_absolute_error: 17.5622\n",
            "Epoch 34/50\n",
            "2043/2043 [==============================] - 6s 3ms/step - loss: 39.7760 - mean_absolute_error: 39.7760 - val_loss: 25.1576 - val_mean_absolute_error: 25.1576\n",
            "Epoch 35/50\n",
            "2043/2043 [==============================] - 6s 3ms/step - loss: 39.5833 - mean_absolute_error: 39.5833 - val_loss: 14.3963 - val_mean_absolute_error: 14.3963\n",
            "Epoch 36/50\n",
            "2043/2043 [==============================] - 6s 3ms/step - loss: 39.5024 - mean_absolute_error: 39.5024 - val_loss: 16.5088 - val_mean_absolute_error: 16.5088\n",
            "Epoch 37/50\n",
            "2043/2043 [==============================] - 6s 3ms/step - loss: 39.4595 - mean_absolute_error: 39.4595 - val_loss: 17.9863 - val_mean_absolute_error: 17.9863\n",
            "Epoch 38/50\n",
            "2043/2043 [==============================] - 6s 3ms/step - loss: 39.6797 - mean_absolute_error: 39.6797 - val_loss: 16.8547 - val_mean_absolute_error: 16.8547\n",
            "Epoch 39/50\n",
            "2043/2043 [==============================] - 6s 3ms/step - loss: 39.1695 - mean_absolute_error: 39.1695 - val_loss: 15.2877 - val_mean_absolute_error: 15.2877\n",
            "Epoch 40/50\n",
            "2043/2043 [==============================] - 6s 3ms/step - loss: 39.2764 - mean_absolute_error: 39.2764 - val_loss: 17.0855 - val_mean_absolute_error: 17.0855\n",
            "Epoch 41/50\n",
            "2043/2043 [==============================] - 6s 3ms/step - loss: 38.6576 - mean_absolute_error: 38.6576 - val_loss: 19.0238 - val_mean_absolute_error: 19.0238\n",
            "Epoch 42/50\n",
            "2043/2043 [==============================] - 6s 3ms/step - loss: 38.7310 - mean_absolute_error: 38.7310 - val_loss: 14.6867 - val_mean_absolute_error: 14.6867\n",
            "Epoch 43/50\n",
            "2043/2043 [==============================] - 6s 3ms/step - loss: 38.7117 - mean_absolute_error: 38.7117 - val_loss: 25.7843 - val_mean_absolute_error: 25.7843\n",
            "Epoch 44/50\n",
            "2043/2043 [==============================] - 6s 3ms/step - loss: 38.3481 - mean_absolute_error: 38.3481 - val_loss: 22.9140 - val_mean_absolute_error: 22.9140\n",
            "Epoch 45/50\n",
            "2043/2043 [==============================] - 6s 3ms/step - loss: 38.1627 - mean_absolute_error: 38.1627 - val_loss: 14.5413 - val_mean_absolute_error: 14.5413\n",
            "Epoch 46/50\n",
            "2043/2043 [==============================] - 6s 3ms/step - loss: 38.6698 - mean_absolute_error: 38.6698 - val_loss: 19.9150 - val_mean_absolute_error: 19.9150\n",
            "Epoch 47/50\n",
            "2043/2043 [==============================] - 6s 3ms/step - loss: 38.0602 - mean_absolute_error: 38.0602 - val_loss: 21.2372 - val_mean_absolute_error: 21.2372\n",
            "Epoch 48/50\n",
            "2043/2043 [==============================] - 6s 3ms/step - loss: 38.2950 - mean_absolute_error: 38.2950 - val_loss: 14.6420 - val_mean_absolute_error: 14.6420\n",
            "Epoch 49/50\n",
            "2043/2043 [==============================] - 6s 3ms/step - loss: 38.5000 - mean_absolute_error: 38.5000 - val_loss: 14.9269 - val_mean_absolute_error: 14.9269\n",
            "Epoch 50/50\n",
            "2043/2043 [==============================] - 6s 3ms/step - loss: 37.8416 - mean_absolute_error: 37.8416 - val_loss: 17.1266 - val_mean_absolute_error: 17.1266\n"
          ],
          "name": "stdout"
        }
      ]
    },
    {
      "cell_type": "code",
      "metadata": {
        "id": "DF-l3eZ-_OYG",
        "colab_type": "code",
        "colab": {}
      },
      "source": [
        "# %tensorboard --logdir=$path_to_log --host localhost --port=6007"
      ],
      "execution_count": null,
      "outputs": []
    },
    {
      "cell_type": "code",
      "metadata": {
        "id": "DfdZhSgTHJoj",
        "colab_type": "code",
        "colab": {
          "base_uri": "https://localhost:8080/",
          "height": 282
        },
        "outputId": "5ba1857d-100d-4bc5-8533-7d1f51519433"
      },
      "source": [
        "plt.plot(NN_history.history['mean_absolute_error'])\n",
        "plt.plot(NN_history.history['val_mean_absolute_error'])"
      ],
      "execution_count": null,
      "outputs": [
        {
          "output_type": "execute_result",
          "data": {
            "text/plain": [
              "[<matplotlib.lines.Line2D at 0x7fa4a7dce160>]"
            ]
          },
          "metadata": {
            "tags": []
          },
          "execution_count": 221
        },
        {
          "output_type": "display_data",
          "data": {
            "image/png": "[encoded data removed]",
            "text/plain": [
              "<Figure size 432x288 with 1 Axes>"
            ]
          },
          "metadata": {
            "tags": [],
            "needs_background": "light"
          }
        }
      ]
    },
    {
      "cell_type": "code",
      "metadata": {
        "id": "XJcQKj5GHdL5",
        "colab_type": "code",
        "colab": {}
      },
      "source": [
        "y_pred_NN = NN_model.predict(X_holdout)"
      ],
      "execution_count": null,
      "outputs": []
    },
    {
      "cell_type": "code",
      "metadata": {
        "id": "wpg4pt13upNX",
        "colab_type": "code",
        "colab": {
          "base_uri": "https://localhost:8080/",
          "height": 34
        },
        "outputId": "c003e05f-10c0-4413-9e8b-53a136c20f74"
      },
      "source": [
        "mae(y_holdout, y_pred_RF), \\\n",
        "mae(y_holdout, y_pred_NN)"
      ],
      "execution_count": null,
      "outputs": [
        {
          "output_type": "execute_result",
          "data": {
            "text/plain": [
              "(150.2587944974562, 499.7802927156932)"
            ]
          },
          "metadata": {
            "tags": []
          },
          "execution_count": 224
        }
      ]
    },
    {
      "cell_type": "markdown",
      "metadata": {
        "id": "m1q-rpV4PTIQ",
        "colab_type": "text"
      },
      "source": [
        "<hr>\n",
        "\n",
        "Модель случайного леса показала лучший результат на отложенной выборке. Значит в итоге будем использовать ее."
      ]
    },
    {
      "cell_type": "markdown",
      "metadata": {
        "id": "V-YquZXvQtaP",
        "colab_type": "text"
      },
      "source": [
        "### Итоговое вычисление качества продукции"
      ]
    },
    {
      "cell_type": "code",
      "metadata": {
        "id": "YPusCuw3-zgD",
        "colab_type": "code",
        "colab": {}
      },
      "source": [
        "X_submit = X_data.loc[X_data.index.isin(Y_submit.index)]"
      ],
      "execution_count": 51,
      "outputs": []
    },
    {
      "cell_type": "code",
      "metadata": {
        "id": "_JtecsitPpD1",
        "colab_type": "code",
        "colab": {}
      },
      "source": [
        "Y_pred = pd.DataFrame(model_rf.predict(X_submit), index=Y_submit.index)"
      ],
      "execution_count": 52,
      "outputs": []
    },
    {
      "cell_type": "code",
      "metadata": {
        "id": "RM1eNeF3P1HL",
        "colab_type": "code",
        "colab": {
          "base_uri": "https://localhost:8080/",
          "height": 450
        },
        "outputId": "6df1123a-e2f5-4d82-f35e-181c9cb7d740"
      },
      "source": [
        "Y_pred"
      ],
      "execution_count": 53,
      "outputs": [
        {
          "output_type": "execute_result",
          "data": {
            "text/html": [
              "<div>\n",
              "<style scoped>\n",
              "    .dataframe tbody tr th:only-of-type {\n",
              "        vertical-align: middle;\n",
              "    }\n",
              "\n",
              "    .dataframe tbody tr th {\n",
              "        vertical-align: top;\n",
              "    }\n",
              "\n",
              "    .dataframe thead th {\n",
              "        text-align: right;\n",
              "    }\n",
              "</style>\n",
              "<table border=\"1\" class=\"dataframe\">\n",
              "  <thead>\n",
              "    <tr style=\"text-align: right;\">\n",
              "      <th></th>\n",
              "      <th>0</th>\n",
              "    </tr>\n",
              "    <tr>\n",
              "      <th>0</th>\n",
              "      <th></th>\n",
              "    </tr>\n",
              "  </thead>\n",
              "  <tbody>\n",
              "    <tr>\n",
              "      <th>2018-05-04 00:05:00</th>\n",
              "      <td>451.952014</td>\n",
              "    </tr>\n",
              "    <tr>\n",
              "      <th>2018-05-04 01:05:00</th>\n",
              "      <td>442.242281</td>\n",
              "    </tr>\n",
              "    <tr>\n",
              "      <th>2018-05-04 02:05:00</th>\n",
              "      <td>440.351316</td>\n",
              "    </tr>\n",
              "    <tr>\n",
              "      <th>2018-05-04 03:05:00</th>\n",
              "      <td>422.918459</td>\n",
              "    </tr>\n",
              "    <tr>\n",
              "      <th>2018-05-04 04:05:00</th>\n",
              "      <td>401.660053</td>\n",
              "    </tr>\n",
              "    <tr>\n",
              "      <th>...</th>\n",
              "      <td>...</td>\n",
              "    </tr>\n",
              "    <tr>\n",
              "      <th>2018-12-31 19:05:00</th>\n",
              "      <td>462.677945</td>\n",
              "    </tr>\n",
              "    <tr>\n",
              "      <th>2018-12-31 20:05:00</th>\n",
              "      <td>477.960434</td>\n",
              "    </tr>\n",
              "    <tr>\n",
              "      <th>2018-12-31 21:05:00</th>\n",
              "      <td>462.886253</td>\n",
              "    </tr>\n",
              "    <tr>\n",
              "      <th>2018-12-31 22:05:00</th>\n",
              "      <td>448.326142</td>\n",
              "    </tr>\n",
              "    <tr>\n",
              "      <th>2018-12-31 23:05:00</th>\n",
              "      <td>437.778596</td>\n",
              "    </tr>\n",
              "  </tbody>\n",
              "</table>\n",
              "<p>5808 rows × 1 columns</p>\n",
              "</div>"
            ],
            "text/plain": [
              "                              0\n",
              "0                              \n",
              "2018-05-04 00:05:00  451.952014\n",
              "2018-05-04 01:05:00  442.242281\n",
              "2018-05-04 02:05:00  440.351316\n",
              "2018-05-04 03:05:00  422.918459\n",
              "2018-05-04 04:05:00  401.660053\n",
              "...                         ...\n",
              "2018-12-31 19:05:00  462.677945\n",
              "2018-12-31 20:05:00  477.960434\n",
              "2018-12-31 21:05:00  462.886253\n",
              "2018-12-31 22:05:00  448.326142\n",
              "2018-12-31 23:05:00  437.778596\n",
              "\n",
              "[5808 rows x 1 columns]"
            ]
          },
          "metadata": {
            "tags": []
          },
          "execution_count": 53
        }
      ]
    },
    {
      "cell_type": "code",
      "metadata": {
        "id": "LutA-Lv8P5Km",
        "colab_type": "code",
        "colab": {}
      },
      "source": [
        "Y_pred.to_csv(path_to_project_directory+'Y_pred.csv', header=None)"
      ],
      "execution_count": 56,
      "outputs": []
    }
  ]
}