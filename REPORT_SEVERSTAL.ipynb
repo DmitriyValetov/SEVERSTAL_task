{
<<<<<<< HEAD
 "cells": [
  {
   "cell_type": "code",
   "execution_count": 1,
   "metadata": {
    "ExecuteTime": {
     "end_time": "2020-07-01T14:54:24.186277Z",
     "start_time": "2020-07-01T14:54:22.322962Z"
=======
  "nbformat": 4,
  "nbformat_minor": 0,
  "metadata": {
    "colab": {
      "name": "REPORT.ipynb",
      "provenance": [],
      "toc_visible": true,
      "mount_file_id": "https://github.com/IamSVP94/SEVERSTAL_task/blob/master/REPORT.ipynb",
      "authorship_tag": "ABX9TyP9FQlmhcL9ajHHexixdJiw"
>>>>>>> c17f3d77cbac930e9808840ace483000b0126f99
    },
    "colab": {},
    "colab_type": "code",
    "id": "SEHthfHeffQv"
   },
   "outputs": [],
   "source": [
    "import pandas as pd\n",
    "from statsmodels.stats.weightstats import _tconfint_generic\n",
    "import numpy as np\n",
    "import matplotlib.pyplot as plt"
   ]
  },
<<<<<<< HEAD
  {
   "cell_type": "markdown",
   "metadata": {
    "colab_type": "text",
    "id": "x3ylOOXjfvHf"
   },
   "source": [
    "## Задание 1"
   ]
  },
  {
   "cell_type": "code",
   "execution_count": 2,
   "metadata": {
    "ExecuteTime": {
     "end_time": "2020-07-01T14:54:24.194270Z",
     "start_time": "2020-07-01T14:54:24.190272Z"
    },
    "colab": {},
    "colab_type": "code",
    "id": "hBXxqsIbrSdP"
   },
   "outputs": [],
   "source": [
    "path_to_project_directory = 'Data/'"
   ]
  },
  {
   "cell_type": "code",
   "execution_count": 3,
   "metadata": {
    "ExecuteTime": {
     "end_time": "2020-07-01T14:54:24.398220Z",
     "start_time": "2020-07-01T14:54:24.199267Z"
=======
  "cells": [
    {
      "cell_type": "code",
      "metadata": {
        "id": "SEHthfHeffQv",
        "colab_type": "code",
        "colab": {}
      },
      "source": [
        "import pandas as pd\n",
        "from statsmodels.stats.weightstats import _tconfint_generic\n",
        "import numpy as np\n",
        "import matplotlib.pyplot as plt"
      ],
      "execution_count": 38,
      "outputs": []
    },
    {
      "cell_type": "markdown",
      "metadata": {
        "id": "x3ylOOXjfvHf",
        "colab_type": "text"
      },
      "source": [
        "## Задание 1"
      ]
    },
    {
      "cell_type": "code",
      "metadata": {
        "id": "hBXxqsIbrSdP",
        "colab_type": "code",
        "colab": {}
      },
      "source": [
        "path_to_project_directory = '/content/drive/My Drive/Colab Notebooks/SEVERSTAL_task/Data/'"
      ],
      "execution_count": 39,
      "outputs": []
    },
    {
      "cell_type": "code",
      "metadata": {
        "id": "ClXZwqvKhtLu",
        "colab_type": "code",
        "colab": {
          "base_uri": "https://localhost:8080/",
          "height": 419
        },
        "outputId": "fc8a977e-9640-4d39-ce2c-27173d970e59"
      },
      "source": [
        "statistics = pd.read_csv(path_to_project_directory+'Статистика за 2018 год.csv', encoding='cp1251')\n",
        "statistics"
      ],
      "execution_count": 40,
      "outputs": [
        {
          "output_type": "execute_result",
          "data": {
            "text/html": [
              "<div>\n",
              "<style scoped>\n",
              "    .dataframe tbody tr th:only-of-type {\n",
              "        vertical-align: middle;\n",
              "    }\n",
              "\n",
              "    .dataframe tbody tr th {\n",
              "        vertical-align: top;\n",
              "    }\n",
              "\n",
              "    .dataframe thead th {\n",
              "        text-align: right;\n",
              "    }\n",
              "</style>\n",
              "<table border=\"1\" class=\"dataframe\">\n",
              "  <thead>\n",
              "    <tr style=\"text-align: right;\">\n",
              "      <th></th>\n",
              "      <th>Число бракованных листов</th>\n",
              "      <th>Скорость прокатки</th>\n",
              "      <th>Марка стали</th>\n",
              "    </tr>\n",
              "  </thead>\n",
              "  <tbody>\n",
              "    <tr>\n",
              "      <th>0</th>\n",
              "      <td>3</td>\n",
              "      <td>3.8</td>\n",
              "      <td>A</td>\n",
              "    </tr>\n",
              "    <tr>\n",
              "      <th>1</th>\n",
              "      <td>3</td>\n",
              "      <td>3.8</td>\n",
              "      <td>B</td>\n",
              "    </tr>\n",
              "    <tr>\n",
              "      <th>2</th>\n",
              "      <td>3</td>\n",
              "      <td>4.8</td>\n",
              "      <td>B</td>\n",
              "    </tr>\n",
              "    <tr>\n",
              "      <th>3</th>\n",
              "      <td>4</td>\n",
              "      <td>4.4</td>\n",
              "      <td>B</td>\n",
              "    </tr>\n",
              "    <tr>\n",
              "      <th>4</th>\n",
              "      <td>6</td>\n",
              "      <td>5.0</td>\n",
              "      <td>B</td>\n",
              "    </tr>\n",
              "    <tr>\n",
              "      <th>...</th>\n",
              "      <td>...</td>\n",
              "      <td>...</td>\n",
              "      <td>...</td>\n",
              "    </tr>\n",
              "    <tr>\n",
              "      <th>232</th>\n",
              "      <td>1</td>\n",
              "      <td>4.7</td>\n",
              "      <td>A</td>\n",
              "    </tr>\n",
              "    <tr>\n",
              "      <th>233</th>\n",
              "      <td>3</td>\n",
              "      <td>3.4</td>\n",
              "      <td>A</td>\n",
              "    </tr>\n",
              "    <tr>\n",
              "      <th>234</th>\n",
              "      <td>2</td>\n",
              "      <td>5.5</td>\n",
              "      <td>A</td>\n",
              "    </tr>\n",
              "    <tr>\n",
              "      <th>235</th>\n",
              "      <td>3</td>\n",
              "      <td>5.0</td>\n",
              "      <td>B</td>\n",
              "    </tr>\n",
              "    <tr>\n",
              "      <th>236</th>\n",
              "      <td>5</td>\n",
              "      <td>4.7</td>\n",
              "      <td>A</td>\n",
              "    </tr>\n",
              "  </tbody>\n",
              "</table>\n",
              "<p>237 rows × 3 columns</p>\n",
              "</div>"
            ],
            "text/plain": [
              "     Число бракованных листов  Скорость прокатки Марка стали\n",
              "0                           3                3.8           A\n",
              "1                           3                3.8           B\n",
              "2                           3                4.8           B\n",
              "3                           4                4.4           B\n",
              "4                           6                5.0           B\n",
              "..                        ...                ...         ...\n",
              "232                         1                4.7           A\n",
              "233                         3                3.4           A\n",
              "234                         2                5.5           A\n",
              "235                         3                5.0           B\n",
              "236                         5                4.7           A\n",
              "\n",
              "[237 rows x 3 columns]"
            ]
          },
          "metadata": {
            "tags": []
          },
          "execution_count": 40
        }
      ]
    },
    {
      "cell_type": "code",
      "metadata": {
        "id": "3Gj4QFCf5-iY",
        "colab_type": "code",
        "colab": {
          "base_uri": "https://localhost:8080/",
          "height": 279
        },
        "outputId": "fcdf3cd2-dd4c-4a5f-adc7-ae2665e7a798"
      },
      "source": [
        "plt.bar(statistics['Скорость прокатки'],\n",
        "        statistics['Число бракованных листов'],\n",
        "        width=0.1)\n",
        "plt.xlabel('Скорость прокатки')\n",
        "plt.ylabel('Число бракованных листов')\n",
        "plt.yticks(statistics['Число бракованных листов'].unique())\n",
        "plt.xticks(np.arange(min(statistics['Скорость прокатки']), \n",
        "                     max(statistics['Скорость прокатки'])+1, \n",
        "                     0.5))\n",
        "\n",
        "plt.grid()"
      ],
      "execution_count": 41,
      "outputs": [
        {
          "output_type": "display_data",
          "data": {
            "image/png": "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\n",
            "text/plain": [
              "<Figure size 432x288 with 1 Axes>"
            ]
          },
          "metadata": {
            "tags": [],
            "needs_background": "light"
          }
        }
      ]
    },
    {
      "cell_type": "code",
      "metadata": {
        "id": "FZEGTsCnnpqJ",
        "colab_type": "code",
        "colab": {
          "base_uri": "https://localhost:8080/",
          "height": 34
        },
        "outputId": "a8f967fb-ced3-445d-e3b4-427f84295181"
      },
      "source": [
        "statistics[statistics['Марка стали']=='A']['Число бракованных листов'].mean(), \\\n",
        "statistics[statistics['Марка стали']=='B']['Число бракованных листов'].mean()"
      ],
      "execution_count": 42,
      "outputs": [
        {
          "output_type": "execute_result",
          "data": {
            "text/plain": [
              "(3.179856115107914, 3.36734693877551)"
            ]
          },
          "metadata": {
            "tags": []
          },
          "execution_count": 42
        }
      ]
    },
    {
      "cell_type": "markdown",
      "metadata": {
        "id": "fW-U-Hw301R3",
        "colab_type": "text"
      },
      "source": [
        "95% доверительные интервалы для средних значений"
      ]
    },
    {
      "cell_type": "code",
      "metadata": {
        "id": "Z41Rt4W3x_DA",
        "colab_type": "code",
        "colab": {
          "base_uri": "https://localhost:8080/",
          "height": 34
        },
        "outputId": "23517237-7d60-4ff6-c54b-c57bd48d9d01"
      },
      "source": [
        "_tconfint_generic(statistics[statistics['Марка стали']=='A']['Число бракованных листов'].mean(), \n",
        "                  statistics[statistics['Марка стали']=='A']['Число бракованных листов'].std(ddof=1) / np.sqrt(len(statistics[statistics['Марка стали']=='A']['Число бракованных листов'])),                  \n",
        "                  len(statistics[statistics['Марка стали']=='A']['Число бракованных листов']) - 1, \n",
        "                  0.05, 'two-sided')"
      ],
      "execution_count": 43,
      "outputs": [
        {
          "output_type": "execute_result",
          "data": {
            "text/plain": [
              "(2.8630226081965824, 3.4966896220192454)"
            ]
          },
          "metadata": {
            "tags": []
          },
          "execution_count": 43
        }
      ]
    },
    {
      "cell_type": "code",
      "metadata": {
        "id": "UuEpZoI8yhxb",
        "colab_type": "code",
        "colab": {
          "base_uri": "https://localhost:8080/",
          "height": 34
        },
        "outputId": "740b7bb5-c61f-49e1-f14d-bb3d190fb2ff"
      },
      "source": [
        "_tconfint_generic(statistics[statistics['Марка стали']=='B']['Число бракованных листов'].mean(), \n",
        "                  statistics[statistics['Марка стали']=='B']['Число бракованных листов'].std(ddof=1) / np.sqrt(len(statistics[statistics['Марка стали']=='A']['Число бракованных листов'])),                  \n",
        "                  len(statistics[statistics['Марка стали']=='B']['Число бракованных листов']) - 1, \n",
        "                  0.05, 'two-sided')"
      ],
      "execution_count": 44,
      "outputs": [
        {
          "output_type": "execute_result",
          "data": {
            "text/plain": [
              "(3.0829856289671023, 3.651708248583918)"
            ]
          },
          "metadata": {
            "tags": []
          },
          "execution_count": 44
        }
      ]
>>>>>>> c17f3d77cbac930e9808840ace483000b0126f99
    },
    "colab": {
     "base_uri": "https://localhost:8080/",
     "height": 419
    },
    "colab_type": "code",
    "id": "ClXZwqvKhtLu",
    "outputId": "924dbbe4-b25f-4737-e1ef-e02157eb54e1"
   },
   "outputs": [
    {
<<<<<<< HEAD
     "data": {
      "text/html": [
       "<div>\n",
       "<style scoped>\n",
       "    .dataframe tbody tr th:only-of-type {\n",
       "        vertical-align: middle;\n",
       "    }\n",
       "\n",
       "    .dataframe tbody tr th {\n",
       "        vertical-align: top;\n",
       "    }\n",
       "\n",
       "    .dataframe thead th {\n",
       "        text-align: right;\n",
       "    }\n",
       "</style>\n",
       "<table border=\"1\" class=\"dataframe\">\n",
       "  <thead>\n",
       "    <tr style=\"text-align: right;\">\n",
       "      <th></th>\n",
       "      <th>Число бракованных листов</th>\n",
       "      <th>Скорость прокатки</th>\n",
       "      <th>Марка стали</th>\n",
       "    </tr>\n",
       "  </thead>\n",
       "  <tbody>\n",
       "    <tr>\n",
       "      <th>0</th>\n",
       "      <td>3</td>\n",
       "      <td>3.8</td>\n",
       "      <td>A</td>\n",
       "    </tr>\n",
       "    <tr>\n",
       "      <th>1</th>\n",
       "      <td>3</td>\n",
       "      <td>3.8</td>\n",
       "      <td>B</td>\n",
       "    </tr>\n",
       "    <tr>\n",
       "      <th>2</th>\n",
       "      <td>3</td>\n",
       "      <td>4.8</td>\n",
       "      <td>B</td>\n",
       "    </tr>\n",
       "    <tr>\n",
       "      <th>3</th>\n",
       "      <td>4</td>\n",
       "      <td>4.4</td>\n",
       "      <td>B</td>\n",
       "    </tr>\n",
       "    <tr>\n",
       "      <th>4</th>\n",
       "      <td>6</td>\n",
       "      <td>5.0</td>\n",
       "      <td>B</td>\n",
       "    </tr>\n",
       "    <tr>\n",
       "      <th>...</th>\n",
       "      <td>...</td>\n",
       "      <td>...</td>\n",
       "      <td>...</td>\n",
       "    </tr>\n",
       "    <tr>\n",
       "      <th>232</th>\n",
       "      <td>1</td>\n",
       "      <td>4.7</td>\n",
       "      <td>A</td>\n",
       "    </tr>\n",
       "    <tr>\n",
       "      <th>233</th>\n",
       "      <td>3</td>\n",
       "      <td>3.4</td>\n",
       "      <td>A</td>\n",
       "    </tr>\n",
       "    <tr>\n",
       "      <th>234</th>\n",
       "      <td>2</td>\n",
       "      <td>5.5</td>\n",
       "      <td>A</td>\n",
       "    </tr>\n",
       "    <tr>\n",
       "      <th>235</th>\n",
       "      <td>3</td>\n",
       "      <td>5.0</td>\n",
       "      <td>B</td>\n",
       "    </tr>\n",
       "    <tr>\n",
       "      <th>236</th>\n",
       "      <td>5</td>\n",
       "      <td>4.7</td>\n",
       "      <td>A</td>\n",
       "    </tr>\n",
       "  </tbody>\n",
       "</table>\n",
       "<p>237 rows × 3 columns</p>\n",
       "</div>"
      ],
      "text/plain": [
       "     Число бракованных листов  Скорость прокатки Марка стали\n",
       "0                           3                3.8           A\n",
       "1                           3                3.8           B\n",
       "2                           3                4.8           B\n",
       "3                           4                4.4           B\n",
       "4                           6                5.0           B\n",
       "..                        ...                ...         ...\n",
       "232                         1                4.7           A\n",
       "233                         3                3.4           A\n",
       "234                         2                5.5           A\n",
       "235                         3                5.0           B\n",
       "236                         5                4.7           A\n",
       "\n",
       "[237 rows x 3 columns]"
=======
      "cell_type": "code",
      "metadata": {
        "id": "Z0DavhvToK2R",
        "colab_type": "code",
        "colab": {
          "base_uri": "https://localhost:8080/",
          "height": 34
        },
        "outputId": "7ebf3889-355c-4624-e3e1-8cef599e6600"
      },
      "source": [
        "statistics[statistics['Скорость прокатки']<=4]['Число бракованных листов'].mean(), \\\n",
        "statistics[statistics['Скорость прокатки']>4]['Число бракованных листов'].mean()"
      ],
      "execution_count": 45,
      "outputs": [
        {
          "output_type": "execute_result",
          "data": {
            "text/plain": [
              "(3.0689655172413794, 3.3184357541899443)"
            ]
          },
          "metadata": {
            "tags": []
          },
          "execution_count": 45
        }
>>>>>>> c17f3d77cbac930e9808840ace483000b0126f99
      ]
     },
     "execution_count": 3,
     "metadata": {},
     "output_type": "execute_result"
    }
   ],
   "source": [
    "statistics = pd.read_csv(path_to_project_directory+'Статистика за 2018 год.csv', encoding='cp1251')\n",
    "statistics"
   ]
  },
  {
   "cell_type": "code",
   "execution_count": 4,
   "metadata": {
    "ExecuteTime": {
     "end_time": "2020-07-01T14:54:25.245760Z",
     "start_time": "2020-07-01T14:54:24.402217Z"
    },
    "colab": {
     "base_uri": "https://localhost:8080/",
     "height": 279
    },
    "colab_type": "code",
    "id": "3Gj4QFCf5-iY",
    "outputId": "e18dc859-7375-4753-e765-525ee620a812"
   },
   "outputs": [
    {
     "data": {
      "image/png": "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\n",
      "text/plain": [
       "<Figure size 432x288 with 1 Axes>"
      ]
     },
     "metadata": {
      "needs_background": "light"
     },
     "output_type": "display_data"
    }
   ],
   "source": [
    "plt.bar(statistics['Скорость прокатки'],\n",
    "        statistics['Число бракованных листов'],\n",
    "        width=0.1)\n",
    "plt.xlabel('Скорость прокатки')\n",
    "plt.ylabel('Число бракованных листов')\n",
    "plt.yticks(statistics['Число бракованных листов'].unique())\n",
    "plt.xticks(np.arange(min(statistics['Скорость прокатки']), \n",
    "                     max(statistics['Скорость прокатки'])+1, \n",
    "                     0.5))\n",
    "\n",
    "plt.grid()"
   ]
  },
  {
   "cell_type": "code",
   "execution_count": 5,
   "metadata": {
    "ExecuteTime": {
     "end_time": "2020-07-01T14:54:25.260751Z",
     "start_time": "2020-07-01T14:54:25.248760Z"
    }
   },
   "outputs": [],
   "source": [
    "def mean_confidence_interval(df): # функция считает среднее значение и его 95% и 90% довер. интервал\n",
    "    interval_95 = _tconfint_generic(df.mean(), \n",
    "                          df.std(ddof=1)/np.sqrt(len(df)), \n",
    "                          len(df)-1, \n",
    "                          0.05, 'two-sided'\n",
    "                         )\n",
    "    interval_90 = _tconfint_generic(df.mean(), \n",
    "                          df.std(ddof=1)/np.sqrt(len(df)), \n",
    "                          len(df)-1, \n",
    "                          0.1, 'two-sided'\n",
    "                         )\n",
    "    return {'interval_95': interval_95, 'interval_90': interval_90, 'mean': df.mean()}"
   ]
  },
  {
   "cell_type": "markdown",
   "metadata": {
    "colab_type": "text",
    "id": "ZduVwiaXr2B7"
   },
   "source": [
    "<hr>\n",
    "\n",
    "### Гипотеза 1\n",
    "Более 3 бракованных листов на партию выходит значимо чаще для стали марки А, чем для стали марки B.\n"
   ]
  },
  {
   "cell_type": "code",
   "execution_count": 6,
   "metadata": {
    "ExecuteTime": {
     "end_time": "2020-07-01T14:54:25.463733Z",
     "start_time": "2020-07-01T14:54:25.266748Z"
    }
   },
   "outputs": [
    {
<<<<<<< HEAD
     "data": {
      "text/plain": [
       "{'interval_95': (4.743957591263485, 5.482457503076138),\n",
       " 'interval_90': (4.805042256187025, 5.421372838152599),\n",
       " 'mean': 5.113207547169812}"
=======
      "cell_type": "code",
      "metadata": {
        "id": "j4mzqTc0rCb8",
        "colab_type": "code",
        "colab": {
          "base_uri": "https://localhost:8080/",
          "height": 34
        },
        "outputId": "668786f9-27b6-43f6-e935-cbce949cfb48"
      },
      "source": [
        "statistics[(statistics['Марка стали']=='A') & (statistics['Число бракованных листов']>3)]['Число бракованных листов'].mean(), \\\n",
        "statistics[(statistics['Марка стали']=='B') & (statistics['Число бракованных листов']>3)]['Число бракованных листов'].mean()"
      ],
      "execution_count": 46,
      "outputs": [
        {
          "output_type": "execute_result",
          "data": {
            "text/plain": [
              "(5.113207547169812, 4.886363636363637)"
            ]
          },
          "metadata": {
            "tags": []
          },
          "execution_count": 46
        }
>>>>>>> c17f3d77cbac930e9808840ace483000b0126f99
      ]
     },
     "execution_count": 6,
     "metadata": {},
     "output_type": "execute_result"
    }
   ],
   "source": [
    "mean_confidence_interval(statistics[(statistics['Марка стали'] == 'A') & (\n",
    "    statistics['Число бракованных листов'] > 3)]['Число бракованных листов'])"
   ]
  },
  {
   "cell_type": "code",
   "execution_count": 7,
   "metadata": {
    "ExecuteTime": {
     "end_time": "2020-07-01T14:54:25.662625Z",
     "start_time": "2020-07-01T14:54:25.469728Z"
    }
   },
   "outputs": [
    {
     "data": {
      "text/plain": [
       "{'interval_95': (4.550644180687348, 5.2220830920399255),\n",
       " 'interval_90': (4.606515208023004, 5.166212064704269),\n",
       " 'mean': 4.886363636363637}"
      ]
     },
     "execution_count": 7,
     "metadata": {},
     "output_type": "execute_result"
    }
   ],
   "source": [
    "mean_confidence_interval(statistics[(statistics['Марка стали'] == 'B') & (\n",
    "    statistics['Число бракованных листов'] > 3)]['Число бракованных листов'])"
   ]
  },
  {
   "cell_type": "markdown",
   "metadata": {},
   "source": [
    "Действительно, более 3 бракованных листов на партию выходит чаще для стали марки А, чем для стали марки B. Хотя статистически значимого различия в полученных оценках параметра нет, вследствие пересечения интервалов."
   ]
  },
  {
   "cell_type": "markdown",
   "metadata": {
    "colab_type": "text",
    "id": "sz0X08suXwWK"
   },
   "source": [
    "<hr>\n",
    "\n",
    "### Гипотеза 2\n",
    "При скоростях прокатки более 4 м/с свыше 3 бракованных листов стали на партию выходит значимо чаще, чем при меньших скоростях прокатки.\n"
   ]
  },
  {
   "cell_type": "code",
   "execution_count": 8,
   "metadata": {
    "ExecuteTime": {
     "end_time": "2020-07-01T14:54:25.809620Z",
     "start_time": "2020-07-01T14:54:25.665625Z"
    }
   },
   "outputs": [
    {
<<<<<<< HEAD
     "data": {
      "text/plain": [
       "{'interval_95': (4.282053634235697, 5.457076800546912),\n",
       " 'interval_90': (4.383112007929223, 5.356018426853386),\n",
       " 'mean': 4.869565217391305}"
=======
      "cell_type": "code",
      "metadata": {
        "id": "oDEiJGd8V6CQ",
        "colab_type": "code",
        "colab": {
          "base_uri": "https://localhost:8080/",
          "height": 34
        },
        "outputId": "8d2dde25-2aec-4aaa-c1eb-1c9616b13c4a"
      },
      "source": [
        "statistics[(statistics['Скорость прокатки']<=4) & (statistics['Число бракованных листов']>3)]['Число бракованных листов'].mean(), \\\n",
        "statistics[(statistics['Скорость прокатки']>4) & (statistics['Число бракованных листов']>3)]['Число бракованных листов'].mean()"
      ],
      "execution_count": 47,
      "outputs": [
        {
          "output_type": "execute_result",
          "data": {
            "text/plain": [
              "(4.869565217391305, 5.054054054054054)"
            ]
          },
          "metadata": {
            "tags": []
          },
          "execution_count": 47
        }
>>>>>>> c17f3d77cbac930e9808840ace483000b0126f99
      ]
     },
     "execution_count": 8,
     "metadata": {},
     "output_type": "execute_result"
    }
   ],
   "source": [
    "less_4 = statistics[(statistics['Скорость прокатки'] <= 4) & (\n",
    "    statistics['Число бракованных листов'] > 3)]['Число бракованных листов']\n",
    "\n",
    "mean_confidence_interval(less_4)"
   ]
  },
  {
   "cell_type": "code",
   "execution_count": 9,
   "metadata": {
    "ExecuteTime": {
     "end_time": "2020-07-01T14:54:25.972636Z",
     "start_time": "2020-07-01T14:54:25.812617Z"
    }
   },
   "outputs": [
    {
     "data": {
      "text/plain": [
       "{'interval_95': (4.77516020825602, 5.332947899852089),\n",
       " 'interval_90': (4.820919701799496, 5.287188406308613),\n",
       " 'mean': 5.054054054054054}"
      ]
     },
     "execution_count": 9,
     "metadata": {},
     "output_type": "execute_result"
    }
   ],
   "source": [
    "greater_4 = statistics[(statistics['Скорость прокатки'] > 4) & (\n",
    "    statistics['Число бракованных листов'] > 3)]['Число бракованных листов']\n",
    "\n",
    "mean_confidence_interval(greater_4)"
   ]
  },
  {
   "cell_type": "markdown",
   "metadata": {},
   "source": [
    "Один интервал находится внутри другого, значит ответ не так однозначен. Нельзя утверждать, что гипотеза верна, по крайней мере на данной выборке и при определенном уровне достоверности."
   ]
  },
  {
   "cell_type": "markdown",
   "metadata": {
    "colab_type": "text",
    "id": "DUB8nnE4YIw-"
   },
   "source": [
    "<hr style=\"height:3px;border:none;color:#333;background-color:#333;\" />\n",
    "\n",
    "## Задание 2"
   ]
  },
  {
   "cell_type": "code",
   "execution_count": 10,
   "metadata": {
    "ExecuteTime": {
     "end_time": "2020-07-01T14:54:32.014317Z",
     "start_time": "2020-07-01T14:54:25.975631Z"
    },
<<<<<<< HEAD
    "colab": {},
    "colab_type": "code",
    "id": "IlZeowpoX9BO"
   },
   "outputs": [],
   "source": [
    "X_data = pd.read_csv(path_to_project_directory+'X_data.csv', encoding='cp1251', sep=';')\n",
    "Y_train = pd.read_csv(path_to_project_directory+'Y_train.csv', encoding='cp1251', sep=';', header=None, index_col=0)\n",
    "Y_submit = pd.read_csv(path_to_project_directory+'Y_submit.csv', encoding='cp1251', sep=';', header=None, index_col=0)"
   ]
  },
  {
   "cell_type": "code",
   "execution_count": 11,
   "metadata": {
    "ExecuteTime": {
     "end_time": "2020-07-01T14:54:32.029308Z",
     "start_time": "2020-07-01T14:54:32.017315Z"
    },
    "colab": {
     "base_uri": "https://localhost:8080/",
     "height": 173
=======
    {
      "cell_type": "code",
      "metadata": {
        "id": "IlZeowpoX9BO",
        "colab_type": "code",
        "colab": {}
      },
      "source": [
        "X_data = pd.read_csv(path_to_project_directory+'X_data.csv', encoding='cp1251', sep=';')\n",
        "Y_train = pd.read_csv(path_to_project_directory+'Y_train.csv', encoding='cp1251', sep=';', header=None, index_col=0)\n",
        "Y_submit = pd.read_csv(path_to_project_directory+'Y_submit.csv', encoding='cp1251', sep=';', header=None, index_col=0)"
      ],
      "execution_count": 48,
      "outputs": []
    },
    {
      "cell_type": "code",
      "metadata": {
        "id": "vMCYTHYZZs9h",
        "colab_type": "code",
        "colab": {
          "base_uri": "https://localhost:8080/",
          "height": 173
        },
        "outputId": "4af3e10b-0402-4643-8f58-ee283300bf19"
      },
      "source": [
        "Y_train.head(3)"
      ],
      "execution_count": 49,
      "outputs": [
        {
          "output_type": "execute_result",
          "data": {
            "text/html": [
              "<div>\n",
              "<style scoped>\n",
              "    .dataframe tbody tr th:only-of-type {\n",
              "        vertical-align: middle;\n",
              "    }\n",
              "\n",
              "    .dataframe tbody tr th {\n",
              "        vertical-align: top;\n",
              "    }\n",
              "\n",
              "    .dataframe thead th {\n",
              "        text-align: right;\n",
              "    }\n",
              "</style>\n",
              "<table border=\"1\" class=\"dataframe\">\n",
              "  <thead>\n",
              "    <tr style=\"text-align: right;\">\n",
              "      <th></th>\n",
              "      <th>1</th>\n",
              "    </tr>\n",
              "    <tr>\n",
              "      <th>0</th>\n",
              "      <th></th>\n",
              "    </tr>\n",
              "  </thead>\n",
              "  <tbody>\n",
              "    <tr>\n",
              "      <th>2015-01-04 00:05:00</th>\n",
              "      <td>392</td>\n",
              "    </tr>\n",
              "    <tr>\n",
              "      <th>2015-01-04 01:05:00</th>\n",
              "      <td>384</td>\n",
              "    </tr>\n",
              "    <tr>\n",
              "      <th>2015-01-04 02:05:00</th>\n",
              "      <td>393</td>\n",
              "    </tr>\n",
              "  </tbody>\n",
              "</table>\n",
              "</div>"
            ],
            "text/plain": [
              "                       1\n",
              "0                       \n",
              "2015-01-04 00:05:00  392\n",
              "2015-01-04 01:05:00  384\n",
              "2015-01-04 02:05:00  393"
            ]
          },
          "metadata": {
            "tags": []
          },
          "execution_count": 49
        }
      ]
>>>>>>> c17f3d77cbac930e9808840ace483000b0126f99
    },
    "colab_type": "code",
    "id": "vMCYTHYZZs9h",
    "outputId": "2742fed3-32e8-4179-cfe2-70d886d7e2a6"
   },
   "outputs": [
    {
<<<<<<< HEAD
     "data": {
      "text/html": [
       "<div>\n",
       "<style scoped>\n",
       "    .dataframe tbody tr th:only-of-type {\n",
       "        vertical-align: middle;\n",
       "    }\n",
       "\n",
       "    .dataframe tbody tr th {\n",
       "        vertical-align: top;\n",
       "    }\n",
       "\n",
       "    .dataframe thead th {\n",
       "        text-align: right;\n",
       "    }\n",
       "</style>\n",
       "<table border=\"1\" class=\"dataframe\">\n",
       "  <thead>\n",
       "    <tr style=\"text-align: right;\">\n",
       "      <th></th>\n",
       "      <th>1</th>\n",
       "    </tr>\n",
       "    <tr>\n",
       "      <th>0</th>\n",
       "      <th></th>\n",
       "    </tr>\n",
       "  </thead>\n",
       "  <tbody>\n",
       "    <tr>\n",
       "      <th>2015-01-04 00:05:00</th>\n",
       "      <td>392</td>\n",
       "    </tr>\n",
       "    <tr>\n",
       "      <th>2015-01-04 01:05:00</th>\n",
       "      <td>384</td>\n",
       "    </tr>\n",
       "    <tr>\n",
       "      <th>2015-01-04 02:05:00</th>\n",
       "      <td>393</td>\n",
       "    </tr>\n",
       "  </tbody>\n",
       "</table>\n",
       "</div>"
      ],
      "text/plain": [
       "                       1\n",
       "0                       \n",
       "2015-01-04 00:05:00  392\n",
       "2015-01-04 01:05:00  384\n",
       "2015-01-04 02:05:00  393"
=======
      "cell_type": "code",
      "metadata": {
        "id": "lbI9hQ4lYaZh",
        "colab_type": "code",
        "colab": {
          "base_uri": "https://localhost:8080/",
          "height": 173
        },
        "outputId": "aec9b237-50a1-4873-a0ea-127d636147a9"
      },
      "source": [
        "Y_submit.head(3)"
      ],
      "execution_count": 50,
      "outputs": [
        {
          "output_type": "execute_result",
          "data": {
            "text/html": [
              "<div>\n",
              "<style scoped>\n",
              "    .dataframe tbody tr th:only-of-type {\n",
              "        vertical-align: middle;\n",
              "    }\n",
              "\n",
              "    .dataframe tbody tr th {\n",
              "        vertical-align: top;\n",
              "    }\n",
              "\n",
              "    .dataframe thead th {\n",
              "        text-align: right;\n",
              "    }\n",
              "</style>\n",
              "<table border=\"1\" class=\"dataframe\">\n",
              "  <thead>\n",
              "    <tr style=\"text-align: right;\">\n",
              "      <th></th>\n",
              "      <th>1</th>\n",
              "    </tr>\n",
              "    <tr>\n",
              "      <th>0</th>\n",
              "      <th></th>\n",
              "    </tr>\n",
              "  </thead>\n",
              "  <tbody>\n",
              "    <tr>\n",
              "      <th>2018-05-04 00:05:00</th>\n",
              "      <td>420</td>\n",
              "    </tr>\n",
              "    <tr>\n",
              "      <th>2018-05-04 01:05:00</th>\n",
              "      <td>420</td>\n",
              "    </tr>\n",
              "    <tr>\n",
              "      <th>2018-05-04 02:05:00</th>\n",
              "      <td>420</td>\n",
              "    </tr>\n",
              "  </tbody>\n",
              "</table>\n",
              "</div>"
            ],
            "text/plain": [
              "                       1\n",
              "0                       \n",
              "2018-05-04 00:05:00  420\n",
              "2018-05-04 01:05:00  420\n",
              "2018-05-04 02:05:00  420"
            ]
          },
          "metadata": {
            "tags": []
          },
          "execution_count": 50
        }
>>>>>>> c17f3d77cbac930e9808840ace483000b0126f99
      ]
     },
     "execution_count": 11,
     "metadata": {},
     "output_type": "execute_result"
    }
   ],
   "source": [
    "Y_train.head(3)"
   ]
  },
  {
   "cell_type": "code",
   "execution_count": 12,
   "metadata": {
    "ExecuteTime": {
     "end_time": "2020-07-01T14:54:32.184250Z",
     "start_time": "2020-07-01T14:54:32.044300Z"
    },
<<<<<<< HEAD
    "colab": {
     "base_uri": "https://localhost:8080/",
     "height": 173
=======
    {
      "cell_type": "code",
      "metadata": {
        "id": "ONff7I90Yua-",
        "colab_type": "code",
        "colab": {
          "base_uri": "https://localhost:8080/",
          "height": 281
        },
        "outputId": "6979ea85-c88a-435d-cbba-67f27dbffafd"
      },
      "source": [
        "X_data.head(3)"
      ],
      "execution_count": 51,
      "outputs": [
        {
          "output_type": "execute_result",
          "data": {
            "text/html": [
              "<div>\n",
              "<style scoped>\n",
              "    .dataframe tbody tr th:only-of-type {\n",
              "        vertical-align: middle;\n",
              "    }\n",
              "\n",
              "    .dataframe tbody tr th {\n",
              "        vertical-align: top;\n",
              "    }\n",
              "\n",
              "    .dataframe thead th {\n",
              "        text-align: right;\n",
              "    }\n",
              "</style>\n",
              "<table border=\"1\" class=\"dataframe\">\n",
              "  <thead>\n",
              "    <tr style=\"text-align: right;\">\n",
              "      <th></th>\n",
              "      <th>Unnamed: 0</th>\n",
              "      <th>T_data_1_1</th>\n",
              "      <th>T_data_1_2</th>\n",
              "      <th>T_data_1_3</th>\n",
              "      <th>T_data_2_1</th>\n",
              "      <th>T_data_2_2</th>\n",
              "      <th>T_data_2_3</th>\n",
              "      <th>T_data_3_1</th>\n",
              "      <th>T_data_3_2</th>\n",
              "      <th>T_data_3_3</th>\n",
              "      <th>T_data_4_1</th>\n",
              "      <th>T_data_4_2</th>\n",
              "      <th>T_data_4_3</th>\n",
              "      <th>T_data_5_1</th>\n",
              "      <th>T_data_5_2</th>\n",
              "      <th>T_data_5_3</th>\n",
              "      <th>H_data</th>\n",
              "      <th>AH_data</th>\n",
              "    </tr>\n",
              "  </thead>\n",
              "  <tbody>\n",
              "    <tr>\n",
              "      <th>0</th>\n",
              "      <td>2015-01-01 00:00:00</td>\n",
              "      <td>212</td>\n",
              "      <td>210</td>\n",
              "      <td>211</td>\n",
              "      <td>347</td>\n",
              "      <td>353</td>\n",
              "      <td>347</td>\n",
              "      <td>474</td>\n",
              "      <td>473</td>\n",
              "      <td>481</td>\n",
              "      <td>346</td>\n",
              "      <td>348</td>\n",
              "      <td>355</td>\n",
              "      <td>241</td>\n",
              "      <td>241</td>\n",
              "      <td>243</td>\n",
              "      <td>167.85</td>\n",
              "      <td>9.22</td>\n",
              "    </tr>\n",
              "    <tr>\n",
              "      <th>1</th>\n",
              "      <td>2015-01-01 00:01:00</td>\n",
              "      <td>212</td>\n",
              "      <td>211</td>\n",
              "      <td>211</td>\n",
              "      <td>346</td>\n",
              "      <td>352</td>\n",
              "      <td>346</td>\n",
              "      <td>475</td>\n",
              "      <td>473</td>\n",
              "      <td>481</td>\n",
              "      <td>349</td>\n",
              "      <td>348</td>\n",
              "      <td>355</td>\n",
              "      <td>241</td>\n",
              "      <td>241</td>\n",
              "      <td>243</td>\n",
              "      <td>162.51</td>\n",
              "      <td>9.22</td>\n",
              "    </tr>\n",
              "    <tr>\n",
              "      <th>2</th>\n",
              "      <td>2015-01-01 00:02:00</td>\n",
              "      <td>212</td>\n",
              "      <td>211</td>\n",
              "      <td>211</td>\n",
              "      <td>345</td>\n",
              "      <td>352</td>\n",
              "      <td>346</td>\n",
              "      <td>476</td>\n",
              "      <td>473</td>\n",
              "      <td>481</td>\n",
              "      <td>352</td>\n",
              "      <td>349</td>\n",
              "      <td>355</td>\n",
              "      <td>242</td>\n",
              "      <td>241</td>\n",
              "      <td>242</td>\n",
              "      <td>164.99</td>\n",
              "      <td>9.22</td>\n",
              "    </tr>\n",
              "  </tbody>\n",
              "</table>\n",
              "</div>"
            ],
            "text/plain": [
              "            Unnamed: 0  T_data_1_1  T_data_1_2  ...  T_data_5_3  H_data  AH_data\n",
              "0  2015-01-01 00:00:00         212         210  ...         243  167.85     9.22\n",
              "1  2015-01-01 00:01:00         212         211  ...         243  162.51     9.22\n",
              "2  2015-01-01 00:02:00         212         211  ...         242  164.99     9.22\n",
              "\n",
              "[3 rows x 18 columns]"
            ]
          },
          "metadata": {
            "tags": []
          },
          "execution_count": 51
        }
      ]
>>>>>>> c17f3d77cbac930e9808840ace483000b0126f99
    },
    "colab_type": "code",
    "id": "lbI9hQ4lYaZh",
    "outputId": "d42b9fba-a513-46ea-e599-73e014e94e5e"
   },
   "outputs": [
    {
<<<<<<< HEAD
     "data": {
      "text/html": [
       "<div>\n",
       "<style scoped>\n",
       "    .dataframe tbody tr th:only-of-type {\n",
       "        vertical-align: middle;\n",
       "    }\n",
       "\n",
       "    .dataframe tbody tr th {\n",
       "        vertical-align: top;\n",
       "    }\n",
       "\n",
       "    .dataframe thead th {\n",
       "        text-align: right;\n",
       "    }\n",
       "</style>\n",
       "<table border=\"1\" class=\"dataframe\">\n",
       "  <thead>\n",
       "    <tr style=\"text-align: right;\">\n",
       "      <th></th>\n",
       "      <th>1</th>\n",
       "    </tr>\n",
       "    <tr>\n",
       "      <th>0</th>\n",
       "      <th></th>\n",
       "    </tr>\n",
       "  </thead>\n",
       "  <tbody>\n",
       "    <tr>\n",
       "      <th>2018-05-04 00:05:00</th>\n",
       "      <td>420</td>\n",
       "    </tr>\n",
       "    <tr>\n",
       "      <th>2018-05-04 01:05:00</th>\n",
       "      <td>420</td>\n",
       "    </tr>\n",
       "    <tr>\n",
       "      <th>2018-05-04 02:05:00</th>\n",
       "      <td>420</td>\n",
       "    </tr>\n",
       "  </tbody>\n",
       "</table>\n",
       "</div>"
      ],
      "text/plain": [
       "                       1\n",
       "0                       \n",
       "2018-05-04 00:05:00  420\n",
       "2018-05-04 01:05:00  420\n",
       "2018-05-04 02:05:00  420"
=======
      "cell_type": "code",
      "metadata": {
        "id": "rxWisKltPLug",
        "colab_type": "code",
        "colab": {
          "base_uri": "https://localhost:8080/",
          "height": 442
        },
        "outputId": "cd58083e-e38c-4fde-b648-32f9f6e03fc6"
      },
      "source": [
        "X_data.info(verbose=True, null_counts=True)"
      ],
      "execution_count": 52,
      "outputs": [
        {
          "output_type": "stream",
          "text": [
            "<class 'pandas.core.frame.DataFrame'>\n",
            "RangeIndex: 2103841 entries, 0 to 2103840\n",
            "Data columns (total 18 columns):\n",
            " #   Column      Non-Null Count    Dtype  \n",
            "---  ------      --------------    -----  \n",
            " 0   Unnamed: 0  2103841 non-null  object \n",
            " 1   T_data_1_1  2103841 non-null  int64  \n",
            " 2   T_data_1_2  2103841 non-null  int64  \n",
            " 3   T_data_1_3  2103841 non-null  int64  \n",
            " 4   T_data_2_1  2103841 non-null  int64  \n",
            " 5   T_data_2_2  2103841 non-null  int64  \n",
            " 6   T_data_2_3  2103841 non-null  int64  \n",
            " 7   T_data_3_1  2103841 non-null  int64  \n",
            " 8   T_data_3_2  2103841 non-null  int64  \n",
            " 9   T_data_3_3  2103841 non-null  int64  \n",
            " 10  T_data_4_1  2103841 non-null  int64  \n",
            " 11  T_data_4_2  2103841 non-null  int64  \n",
            " 12  T_data_4_3  2103841 non-null  int64  \n",
            " 13  T_data_5_1  2103841 non-null  int64  \n",
            " 14  T_data_5_2  2103841 non-null  int64  \n",
            " 15  T_data_5_3  2103841 non-null  int64  \n",
            " 16  H_data      2103841 non-null  float64\n",
            " 17  AH_data     2103841 non-null  float64\n",
            "dtypes: float64(2), int64(15), object(1)\n",
            "memory usage: 288.9+ MB\n"
          ],
          "name": "stdout"
        }
>>>>>>> c17f3d77cbac930e9808840ace483000b0126f99
      ]
     },
     "execution_count": 12,
     "metadata": {},
     "output_type": "execute_result"
    }
   ],
   "source": [
    "Y_submit.head(3)"
   ]
  },
  {
   "cell_type": "code",
   "execution_count": 13,
   "metadata": {
    "ExecuteTime": {
     "end_time": "2020-07-01T14:54:32.303231Z",
     "start_time": "2020-07-01T14:54:32.187247Z"
    },
    "colab": {
     "base_uri": "https://localhost:8080/",
     "height": 281
    },
    "colab_type": "code",
    "id": "ONff7I90Yua-",
    "outputId": "03ff1a1e-03bd-4596-a9da-178981e434a0"
   },
   "outputs": [
    {
<<<<<<< HEAD
     "data": {
      "text/html": [
       "<div>\n",
       "<style scoped>\n",
       "    .dataframe tbody tr th:only-of-type {\n",
       "        vertical-align: middle;\n",
       "    }\n",
       "\n",
       "    .dataframe tbody tr th {\n",
       "        vertical-align: top;\n",
       "    }\n",
       "\n",
       "    .dataframe thead th {\n",
       "        text-align: right;\n",
       "    }\n",
       "</style>\n",
       "<table border=\"1\" class=\"dataframe\">\n",
       "  <thead>\n",
       "    <tr style=\"text-align: right;\">\n",
       "      <th></th>\n",
       "      <th>Unnamed: 0</th>\n",
       "      <th>T_data_1_1</th>\n",
       "      <th>T_data_1_2</th>\n",
       "      <th>T_data_1_3</th>\n",
       "      <th>T_data_2_1</th>\n",
       "      <th>T_data_2_2</th>\n",
       "      <th>T_data_2_3</th>\n",
       "      <th>T_data_3_1</th>\n",
       "      <th>T_data_3_2</th>\n",
       "      <th>T_data_3_3</th>\n",
       "      <th>T_data_4_1</th>\n",
       "      <th>T_data_4_2</th>\n",
       "      <th>T_data_4_3</th>\n",
       "      <th>T_data_5_1</th>\n",
       "      <th>T_data_5_2</th>\n",
       "      <th>T_data_5_3</th>\n",
       "      <th>H_data</th>\n",
       "      <th>AH_data</th>\n",
       "    </tr>\n",
       "  </thead>\n",
       "  <tbody>\n",
       "    <tr>\n",
       "      <th>0</th>\n",
       "      <td>2015-01-01 00:00:00</td>\n",
       "      <td>212</td>\n",
       "      <td>210</td>\n",
       "      <td>211</td>\n",
       "      <td>347</td>\n",
       "      <td>353</td>\n",
       "      <td>347</td>\n",
       "      <td>474</td>\n",
       "      <td>473</td>\n",
       "      <td>481</td>\n",
       "      <td>346</td>\n",
       "      <td>348</td>\n",
       "      <td>355</td>\n",
       "      <td>241</td>\n",
       "      <td>241</td>\n",
       "      <td>243</td>\n",
       "      <td>167.85</td>\n",
       "      <td>9.22</td>\n",
       "    </tr>\n",
       "    <tr>\n",
       "      <th>1</th>\n",
       "      <td>2015-01-01 00:01:00</td>\n",
       "      <td>212</td>\n",
       "      <td>211</td>\n",
       "      <td>211</td>\n",
       "      <td>346</td>\n",
       "      <td>352</td>\n",
       "      <td>346</td>\n",
       "      <td>475</td>\n",
       "      <td>473</td>\n",
       "      <td>481</td>\n",
       "      <td>349</td>\n",
       "      <td>348</td>\n",
       "      <td>355</td>\n",
       "      <td>241</td>\n",
       "      <td>241</td>\n",
       "      <td>243</td>\n",
       "      <td>162.51</td>\n",
       "      <td>9.22</td>\n",
       "    </tr>\n",
       "    <tr>\n",
       "      <th>2</th>\n",
       "      <td>2015-01-01 00:02:00</td>\n",
       "      <td>212</td>\n",
       "      <td>211</td>\n",
       "      <td>211</td>\n",
       "      <td>345</td>\n",
       "      <td>352</td>\n",
       "      <td>346</td>\n",
       "      <td>476</td>\n",
       "      <td>473</td>\n",
       "      <td>481</td>\n",
       "      <td>352</td>\n",
       "      <td>349</td>\n",
       "      <td>355</td>\n",
       "      <td>242</td>\n",
       "      <td>241</td>\n",
       "      <td>242</td>\n",
       "      <td>164.99</td>\n",
       "      <td>9.22</td>\n",
       "    </tr>\n",
       "  </tbody>\n",
       "</table>\n",
       "</div>"
      ],
      "text/plain": [
       "            Unnamed: 0  T_data_1_1  T_data_1_2  T_data_1_3  T_data_2_1  \\\n",
       "0  2015-01-01 00:00:00         212         210         211         347   \n",
       "1  2015-01-01 00:01:00         212         211         211         346   \n",
       "2  2015-01-01 00:02:00         212         211         211         345   \n",
       "\n",
       "   T_data_2_2  T_data_2_3  T_data_3_1  T_data_3_2  T_data_3_3  T_data_4_1  \\\n",
       "0         353         347         474         473         481         346   \n",
       "1         352         346         475         473         481         349   \n",
       "2         352         346         476         473         481         352   \n",
       "\n",
       "   T_data_4_2  T_data_4_3  T_data_5_1  T_data_5_2  T_data_5_3  H_data  AH_data  \n",
       "0         348         355         241         241         243  167.85     9.22  \n",
       "1         348         355         241         241         243  162.51     9.22  \n",
       "2         349         355         242         241         242  164.99     9.22  "
=======
      "cell_type": "code",
      "metadata": {
        "id": "butV8CdZR1Hj",
        "colab_type": "code",
        "colab": {
          "base_uri": "https://localhost:8080/",
          "height": 51
        },
        "outputId": "8ce510ab-2a21-47e7-b6d0-ebfeaab62ff9"
      },
      "source": [
        "from datetime import datetime, timedelta\n",
        "\n",
        "print(X_data['Unnamed: 0'].dtype)\n",
        "X_data['Unnamed: 0'] = pd.to_datetime(X_data['Unnamed: 0']) + timedelta(hours=1)\n",
        "print(X_data['Unnamed: 0'].dtype)"
      ],
      "execution_count": 53,
      "outputs": [
        {
          "output_type": "stream",
          "text": [
            "object\n",
            "datetime64[ns]\n"
          ],
          "name": "stdout"
        }
>>>>>>> c17f3d77cbac930e9808840ace483000b0126f99
      ]
     },
     "execution_count": 13,
     "metadata": {},
     "output_type": "execute_result"
    }
   ],
   "source": [
    "X_data.head(3)"
   ]
  },
  {
   "cell_type": "code",
   "execution_count": 14,
   "metadata": {
    "ExecuteTime": {
     "end_time": "2020-07-01T14:54:32.748124Z",
     "start_time": "2020-07-01T14:54:32.305227Z"
    },
<<<<<<< HEAD
    "colab": {
     "base_uri": "https://localhost:8080/",
     "height": 442
=======
    {
      "cell_type": "code",
      "metadata": {
        "id": "_BZwLAC9vC44",
        "colab_type": "code",
        "colab": {
          "base_uri": "https://localhost:8080/",
          "height": 827
        },
        "outputId": "b1d24581-7954-4b1c-c713-18f5b1bfa723"
      },
      "source": [
        "X_data = X_data.set_index(['Unnamed: 0'])\n",
        "X_data"
      ],
      "execution_count": 54,
      "outputs": [
        {
          "output_type": "execute_result",
          "data": {
            "text/html": [
              "<div>\n",
              "<style scoped>\n",
              "    .dataframe tbody tr th:only-of-type {\n",
              "        vertical-align: middle;\n",
              "    }\n",
              "\n",
              "    .dataframe tbody tr th {\n",
              "        vertical-align: top;\n",
              "    }\n",
              "\n",
              "    .dataframe thead th {\n",
              "        text-align: right;\n",
              "    }\n",
              "</style>\n",
              "<table border=\"1\" class=\"dataframe\">\n",
              "  <thead>\n",
              "    <tr style=\"text-align: right;\">\n",
              "      <th></th>\n",
              "      <th>T_data_1_1</th>\n",
              "      <th>T_data_1_2</th>\n",
              "      <th>T_data_1_3</th>\n",
              "      <th>T_data_2_1</th>\n",
              "      <th>T_data_2_2</th>\n",
              "      <th>T_data_2_3</th>\n",
              "      <th>T_data_3_1</th>\n",
              "      <th>T_data_3_2</th>\n",
              "      <th>T_data_3_3</th>\n",
              "      <th>T_data_4_1</th>\n",
              "      <th>T_data_4_2</th>\n",
              "      <th>T_data_4_3</th>\n",
              "      <th>T_data_5_1</th>\n",
              "      <th>T_data_5_2</th>\n",
              "      <th>T_data_5_3</th>\n",
              "      <th>H_data</th>\n",
              "      <th>AH_data</th>\n",
              "    </tr>\n",
              "    <tr>\n",
              "      <th>Unnamed: 0</th>\n",
              "      <th></th>\n",
              "      <th></th>\n",
              "      <th></th>\n",
              "      <th></th>\n",
              "      <th></th>\n",
              "      <th></th>\n",
              "      <th></th>\n",
              "      <th></th>\n",
              "      <th></th>\n",
              "      <th></th>\n",
              "      <th></th>\n",
              "      <th></th>\n",
              "      <th></th>\n",
              "      <th></th>\n",
              "      <th></th>\n",
              "      <th></th>\n",
              "      <th></th>\n",
              "    </tr>\n",
              "  </thead>\n",
              "  <tbody>\n",
              "    <tr>\n",
              "      <th>2015-01-01 01:00:00</th>\n",
              "      <td>212</td>\n",
              "      <td>210</td>\n",
              "      <td>211</td>\n",
              "      <td>347</td>\n",
              "      <td>353</td>\n",
              "      <td>347</td>\n",
              "      <td>474</td>\n",
              "      <td>473</td>\n",
              "      <td>481</td>\n",
              "      <td>346</td>\n",
              "      <td>348</td>\n",
              "      <td>355</td>\n",
              "      <td>241</td>\n",
              "      <td>241</td>\n",
              "      <td>243</td>\n",
              "      <td>167.85</td>\n",
              "      <td>9.22</td>\n",
              "    </tr>\n",
              "    <tr>\n",
              "      <th>2015-01-01 01:01:00</th>\n",
              "      <td>212</td>\n",
              "      <td>211</td>\n",
              "      <td>211</td>\n",
              "      <td>346</td>\n",
              "      <td>352</td>\n",
              "      <td>346</td>\n",
              "      <td>475</td>\n",
              "      <td>473</td>\n",
              "      <td>481</td>\n",
              "      <td>349</td>\n",
              "      <td>348</td>\n",
              "      <td>355</td>\n",
              "      <td>241</td>\n",
              "      <td>241</td>\n",
              "      <td>243</td>\n",
              "      <td>162.51</td>\n",
              "      <td>9.22</td>\n",
              "    </tr>\n",
              "    <tr>\n",
              "      <th>2015-01-01 01:02:00</th>\n",
              "      <td>212</td>\n",
              "      <td>211</td>\n",
              "      <td>211</td>\n",
              "      <td>345</td>\n",
              "      <td>352</td>\n",
              "      <td>346</td>\n",
              "      <td>476</td>\n",
              "      <td>473</td>\n",
              "      <td>481</td>\n",
              "      <td>352</td>\n",
              "      <td>349</td>\n",
              "      <td>355</td>\n",
              "      <td>242</td>\n",
              "      <td>241</td>\n",
              "      <td>242</td>\n",
              "      <td>164.99</td>\n",
              "      <td>9.22</td>\n",
              "    </tr>\n",
              "    <tr>\n",
              "      <th>2015-01-01 01:03:00</th>\n",
              "      <td>213</td>\n",
              "      <td>211</td>\n",
              "      <td>211</td>\n",
              "      <td>344</td>\n",
              "      <td>351</td>\n",
              "      <td>346</td>\n",
              "      <td>477</td>\n",
              "      <td>473</td>\n",
              "      <td>481</td>\n",
              "      <td>355</td>\n",
              "      <td>349</td>\n",
              "      <td>355</td>\n",
              "      <td>242</td>\n",
              "      <td>241</td>\n",
              "      <td>242</td>\n",
              "      <td>167.34</td>\n",
              "      <td>9.22</td>\n",
              "    </tr>\n",
              "    <tr>\n",
              "      <th>2015-01-01 01:04:00</th>\n",
              "      <td>213</td>\n",
              "      <td>211</td>\n",
              "      <td>211</td>\n",
              "      <td>343</td>\n",
              "      <td>350</td>\n",
              "      <td>346</td>\n",
              "      <td>478</td>\n",
              "      <td>473</td>\n",
              "      <td>482</td>\n",
              "      <td>358</td>\n",
              "      <td>349</td>\n",
              "      <td>355</td>\n",
              "      <td>243</td>\n",
              "      <td>241</td>\n",
              "      <td>242</td>\n",
              "      <td>163.04</td>\n",
              "      <td>9.22</td>\n",
              "    </tr>\n",
              "    <tr>\n",
              "      <th>...</th>\n",
              "      <td>...</td>\n",
              "      <td>...</td>\n",
              "      <td>...</td>\n",
              "      <td>...</td>\n",
              "      <td>...</td>\n",
              "      <td>...</td>\n",
              "      <td>...</td>\n",
              "      <td>...</td>\n",
              "      <td>...</td>\n",
              "      <td>...</td>\n",
              "      <td>...</td>\n",
              "      <td>...</td>\n",
              "      <td>...</td>\n",
              "      <td>...</td>\n",
              "      <td>...</td>\n",
              "      <td>...</td>\n",
              "      <td>...</td>\n",
              "    </tr>\n",
              "    <tr>\n",
              "      <th>2019-01-01 00:56:00</th>\n",
              "      <td>271</td>\n",
              "      <td>261</td>\n",
              "      <td>265</td>\n",
              "      <td>353</td>\n",
              "      <td>359</td>\n",
              "      <td>353</td>\n",
              "      <td>481</td>\n",
              "      <td>449</td>\n",
              "      <td>491</td>\n",
              "      <td>325</td>\n",
              "      <td>328</td>\n",
              "      <td>328</td>\n",
              "      <td>277</td>\n",
              "      <td>276</td>\n",
              "      <td>280</td>\n",
              "      <td>157.20</td>\n",
              "      <td>8.44</td>\n",
              "    </tr>\n",
              "    <tr>\n",
              "      <th>2019-01-01 00:57:00</th>\n",
              "      <td>271</td>\n",
              "      <td>261</td>\n",
              "      <td>265</td>\n",
              "      <td>353</td>\n",
              "      <td>359</td>\n",
              "      <td>353</td>\n",
              "      <td>481</td>\n",
              "      <td>449</td>\n",
              "      <td>491</td>\n",
              "      <td>325</td>\n",
              "      <td>328</td>\n",
              "      <td>328</td>\n",
              "      <td>277</td>\n",
              "      <td>276</td>\n",
              "      <td>280</td>\n",
              "      <td>160.40</td>\n",
              "      <td>8.44</td>\n",
              "    </tr>\n",
              "    <tr>\n",
              "      <th>2019-01-01 00:58:00</th>\n",
              "      <td>271</td>\n",
              "      <td>261</td>\n",
              "      <td>265</td>\n",
              "      <td>353</td>\n",
              "      <td>359</td>\n",
              "      <td>353</td>\n",
              "      <td>481</td>\n",
              "      <td>449</td>\n",
              "      <td>491</td>\n",
              "      <td>325</td>\n",
              "      <td>328</td>\n",
              "      <td>328</td>\n",
              "      <td>277</td>\n",
              "      <td>276</td>\n",
              "      <td>280</td>\n",
              "      <td>160.14</td>\n",
              "      <td>8.44</td>\n",
              "    </tr>\n",
              "    <tr>\n",
              "      <th>2019-01-01 00:59:00</th>\n",
              "      <td>271</td>\n",
              "      <td>261</td>\n",
              "      <td>265</td>\n",
              "      <td>353</td>\n",
              "      <td>359</td>\n",
              "      <td>353</td>\n",
              "      <td>481</td>\n",
              "      <td>449</td>\n",
              "      <td>491</td>\n",
              "      <td>325</td>\n",
              "      <td>328</td>\n",
              "      <td>328</td>\n",
              "      <td>277</td>\n",
              "      <td>276</td>\n",
              "      <td>280</td>\n",
              "      <td>162.96</td>\n",
              "      <td>8.44</td>\n",
              "    </tr>\n",
              "    <tr>\n",
              "      <th>2019-01-01 01:00:00</th>\n",
              "      <td>271</td>\n",
              "      <td>261</td>\n",
              "      <td>265</td>\n",
              "      <td>353</td>\n",
              "      <td>359</td>\n",
              "      <td>353</td>\n",
              "      <td>481</td>\n",
              "      <td>449</td>\n",
              "      <td>491</td>\n",
              "      <td>325</td>\n",
              "      <td>328</td>\n",
              "      <td>328</td>\n",
              "      <td>277</td>\n",
              "      <td>276</td>\n",
              "      <td>280</td>\n",
              "      <td>159.73</td>\n",
              "      <td>7.35</td>\n",
              "    </tr>\n",
              "  </tbody>\n",
              "</table>\n",
              "<p>2103841 rows × 17 columns</p>\n",
              "</div>"
            ],
            "text/plain": [
              "                     T_data_1_1  T_data_1_2  ...  H_data  AH_data\n",
              "Unnamed: 0                                   ...                 \n",
              "2015-01-01 01:00:00         212         210  ...  167.85     9.22\n",
              "2015-01-01 01:01:00         212         211  ...  162.51     9.22\n",
              "2015-01-01 01:02:00         212         211  ...  164.99     9.22\n",
              "2015-01-01 01:03:00         213         211  ...  167.34     9.22\n",
              "2015-01-01 01:04:00         213         211  ...  163.04     9.22\n",
              "...                         ...         ...  ...     ...      ...\n",
              "2019-01-01 00:56:00         271         261  ...  157.20     8.44\n",
              "2019-01-01 00:57:00         271         261  ...  160.40     8.44\n",
              "2019-01-01 00:58:00         271         261  ...  160.14     8.44\n",
              "2019-01-01 00:59:00         271         261  ...  162.96     8.44\n",
              "2019-01-01 01:00:00         271         261  ...  159.73     7.35\n",
              "\n",
              "[2103841 rows x 17 columns]"
            ]
          },
          "metadata": {
            "tags": []
          },
          "execution_count": 54
        }
      ]
>>>>>>> c17f3d77cbac930e9808840ace483000b0126f99
    },
    "colab_type": "code",
    "id": "rxWisKltPLug",
    "outputId": "0a3f1303-9971-4b43-968c-53c62f77b8a6"
   },
   "outputs": [
    {
     "name": "stdout",
     "output_type": "stream",
     "text": [
      "<class 'pandas.core.frame.DataFrame'>\n",
      "RangeIndex: 2103841 entries, 0 to 2103840\n",
      "Data columns (total 18 columns):\n",
      " #   Column      Non-Null Count    Dtype  \n",
      "---  ------      --------------    -----  \n",
      " 0   Unnamed: 0  2103841 non-null  object \n",
      " 1   T_data_1_1  2103841 non-null  int64  \n",
      " 2   T_data_1_2  2103841 non-null  int64  \n",
      " 3   T_data_1_3  2103841 non-null  int64  \n",
      " 4   T_data_2_1  2103841 non-null  int64  \n",
      " 5   T_data_2_2  2103841 non-null  int64  \n",
      " 6   T_data_2_3  2103841 non-null  int64  \n",
      " 7   T_data_3_1  2103841 non-null  int64  \n",
      " 8   T_data_3_2  2103841 non-null  int64  \n",
      " 9   T_data_3_3  2103841 non-null  int64  \n",
      " 10  T_data_4_1  2103841 non-null  int64  \n",
      " 11  T_data_4_2  2103841 non-null  int64  \n",
      " 12  T_data_4_3  2103841 non-null  int64  \n",
      " 13  T_data_5_1  2103841 non-null  int64  \n",
      " 14  T_data_5_2  2103841 non-null  int64  \n",
      " 15  T_data_5_3  2103841 non-null  int64  \n",
      " 16  H_data      2103841 non-null  float64\n",
      " 17  AH_data     2103841 non-null  float64\n",
      "dtypes: float64(2), int64(15), object(1)\n",
      "memory usage: 288.9+ MB\n"
     ]
    }
   ],
   "source": [
    "X_data.info(verbose=True, null_counts=True)"
   ]
  },
  {
   "cell_type": "markdown",
   "metadata": {
    "colab_type": "text",
    "id": "FhzUFvhbs1jA"
   },
   "source": [
    "Пропущенных значений нет. Все столбцы содержат 2103841 значений, что равняется длине всего датафрейма<hr>\n",
    "Так как значения *H_data* и *AH_data* фиксируются на **входе**, то приходим к мнению, что в *1 колонке X_data* записано **время начала проката**. Чтобы сопоставить *данные с детекторов* и *данные о качестве*, которые составляются **на выходе обжиговой машины** к каждому значению X_data['Unnamed: 0'] прибавим время 1 полного прохода обжига, то есть 1 час."
   ]
  },
  {
   "cell_type": "code",
   "execution_count": 15,
   "metadata": {
    "ExecuteTime": {
     "end_time": "2020-07-01T14:54:35.079210Z",
     "start_time": "2020-07-01T14:54:32.751124Z"
    },
<<<<<<< HEAD
    "colab": {
     "base_uri": "https://localhost:8080/",
     "height": 51
=======
    {
      "cell_type": "code",
      "metadata": {
        "id": "_gehZuFkyybQ",
        "colab_type": "code",
        "colab": {
          "base_uri": "https://localhost:8080/",
          "height": 34
        },
        "outputId": "b685efdc-cfeb-4ee4-95f9-f52ab5b401e5"
      },
      "source": [
        "X = X_data.loc[X_data.index.isin(Y_train.index)]\n",
        "X.shape, Y_train.shape"
      ],
      "execution_count": 55,
      "outputs": [
        {
          "output_type": "execute_result",
          "data": {
            "text/plain": [
              "((29184, 17), (29184, 1))"
            ]
          },
          "metadata": {
            "tags": []
          },
          "execution_count": 55
        }
      ]
>>>>>>> c17f3d77cbac930e9808840ace483000b0126f99
    },
    "colab_type": "code",
    "id": "butV8CdZR1Hj",
    "outputId": "199da06f-4d6a-41fa-809e-076bd667e953"
   },
   "outputs": [
    {
<<<<<<< HEAD
     "name": "stdout",
     "output_type": "stream",
     "text": [
      "object\n",
      "datetime64[ns]\n"
     ]
    }
   ],
   "source": [
    "from datetime import datetime, timedelta\n",
    "\n",
    "print(X_data['Unnamed: 0'].dtype)\n",
    "X_data['Unnamed: 0'] = pd.to_datetime(X_data['Unnamed: 0']) + timedelta(hours=1)\n",
    "print(X_data['Unnamed: 0'].dtype)"
   ]
  },
  {
   "cell_type": "code",
   "execution_count": 16,
   "metadata": {
    "ExecuteTime": {
     "end_time": "2020-07-01T14:54:35.366032Z",
     "start_time": "2020-07-01T14:54:35.081208Z"
    },
    "colab": {
     "base_uri": "https://localhost:8080/",
     "height": 827
=======
      "cell_type": "code",
      "metadata": {
        "id": "pBX8_Ka76dOj",
        "colab_type": "code",
        "colab": {
          "base_uri": "https://localhost:8080/",
          "height": 439
        },
        "outputId": "1ca5cbfb-e048-4f60-be56-c9968b7a409b"
      },
      "source": [
        "from sklearn import preprocessing\n",
        "\n",
        "min_max_scaler = preprocessing.MinMaxScaler()\n",
        "np_scaled = min_max_scaler.fit_transform(X)\n",
        "X_scaled = pd.DataFrame(np_scaled, columns = X.columns)\n",
        "X_scaled"
      ],
      "execution_count": 56,
      "outputs": [
        {
          "output_type": "execute_result",
          "data": {
            "text/html": [
              "<div>\n",
              "<style scoped>\n",
              "    .dataframe tbody tr th:only-of-type {\n",
              "        vertical-align: middle;\n",
              "    }\n",
              "\n",
              "    .dataframe tbody tr th {\n",
              "        vertical-align: top;\n",
              "    }\n",
              "\n",
              "    .dataframe thead th {\n",
              "        text-align: right;\n",
              "    }\n",
              "</style>\n",
              "<table border=\"1\" class=\"dataframe\">\n",
              "  <thead>\n",
              "    <tr style=\"text-align: right;\">\n",
              "      <th></th>\n",
              "      <th>T_data_1_1</th>\n",
              "      <th>T_data_1_2</th>\n",
              "      <th>T_data_1_3</th>\n",
              "      <th>T_data_2_1</th>\n",
              "      <th>T_data_2_2</th>\n",
              "      <th>T_data_2_3</th>\n",
              "      <th>T_data_3_1</th>\n",
              "      <th>T_data_3_2</th>\n",
              "      <th>T_data_3_3</th>\n",
              "      <th>T_data_4_1</th>\n",
              "      <th>T_data_4_2</th>\n",
              "      <th>T_data_4_3</th>\n",
              "      <th>T_data_5_1</th>\n",
              "      <th>T_data_5_2</th>\n",
              "      <th>T_data_5_3</th>\n",
              "      <th>H_data</th>\n",
              "      <th>AH_data</th>\n",
              "    </tr>\n",
              "  </thead>\n",
              "  <tbody>\n",
              "    <tr>\n",
              "      <th>0</th>\n",
              "      <td>0.501639</td>\n",
              "      <td>0.671053</td>\n",
              "      <td>0.485792</td>\n",
              "      <td>0.518482</td>\n",
              "      <td>0.592734</td>\n",
              "      <td>0.491604</td>\n",
              "      <td>0.521614</td>\n",
              "      <td>0.386343</td>\n",
              "      <td>0.562536</td>\n",
              "      <td>0.480025</td>\n",
              "      <td>0.480000</td>\n",
              "      <td>0.604681</td>\n",
              "      <td>0.328824</td>\n",
              "      <td>0.408066</td>\n",
              "      <td>0.491299</td>\n",
              "      <td>0.160019</td>\n",
              "      <td>0.189412</td>\n",
              "    </tr>\n",
              "    <tr>\n",
              "      <th>1</th>\n",
              "      <td>0.513661</td>\n",
              "      <td>0.652047</td>\n",
              "      <td>0.499323</td>\n",
              "      <td>0.511988</td>\n",
              "      <td>0.597036</td>\n",
              "      <td>0.501866</td>\n",
              "      <td>0.526417</td>\n",
              "      <td>0.387573</td>\n",
              "      <td>0.640346</td>\n",
              "      <td>0.486367</td>\n",
              "      <td>0.500000</td>\n",
              "      <td>0.605332</td>\n",
              "      <td>0.325702</td>\n",
              "      <td>0.405694</td>\n",
              "      <td>0.495315</td>\n",
              "      <td>0.142185</td>\n",
              "      <td>0.562353</td>\n",
              "    </tr>\n",
              "    <tr>\n",
              "      <th>2</th>\n",
              "      <td>0.513661</td>\n",
              "      <td>0.545322</td>\n",
              "      <td>0.497970</td>\n",
              "      <td>0.510989</td>\n",
              "      <td>0.596080</td>\n",
              "      <td>0.504664</td>\n",
              "      <td>0.524015</td>\n",
              "      <td>0.387573</td>\n",
              "      <td>0.650144</td>\n",
              "      <td>0.493342</td>\n",
              "      <td>0.510303</td>\n",
              "      <td>0.604031</td>\n",
              "      <td>0.328824</td>\n",
              "      <td>0.412811</td>\n",
              "      <td>0.479250</td>\n",
              "      <td>0.215143</td>\n",
              "      <td>0.451765</td>\n",
              "    </tr>\n",
              "    <tr>\n",
              "      <th>3</th>\n",
              "      <td>0.497268</td>\n",
              "      <td>0.494152</td>\n",
              "      <td>0.481732</td>\n",
              "      <td>0.513986</td>\n",
              "      <td>0.597514</td>\n",
              "      <td>0.481343</td>\n",
              "      <td>0.526417</td>\n",
              "      <td>0.386958</td>\n",
              "      <td>0.509510</td>\n",
              "      <td>0.499683</td>\n",
              "      <td>0.512121</td>\n",
              "      <td>0.602081</td>\n",
              "      <td>0.338189</td>\n",
              "      <td>0.423488</td>\n",
              "      <td>0.492637</td>\n",
              "      <td>0.135538</td>\n",
              "      <td>0.490588</td>\n",
              "    </tr>\n",
              "    <tr>\n",
              "      <th>4</th>\n",
              "      <td>0.476503</td>\n",
              "      <td>0.523392</td>\n",
              "      <td>0.470907</td>\n",
              "      <td>0.514486</td>\n",
              "      <td>0.594168</td>\n",
              "      <td>0.460821</td>\n",
              "      <td>0.533622</td>\n",
              "      <td>0.386650</td>\n",
              "      <td>0.565418</td>\n",
              "      <td>0.496512</td>\n",
              "      <td>0.504848</td>\n",
              "      <td>0.603381</td>\n",
              "      <td>0.352758</td>\n",
              "      <td>0.431791</td>\n",
              "      <td>0.500669</td>\n",
              "      <td>0.133106</td>\n",
              "      <td>0.469412</td>\n",
              "    </tr>\n",
              "    <tr>\n",
              "      <th>...</th>\n",
              "      <td>...</td>\n",
              "      <td>...</td>\n",
              "      <td>...</td>\n",
              "      <td>...</td>\n",
              "      <td>...</td>\n",
              "      <td>...</td>\n",
              "      <td>...</td>\n",
              "      <td>...</td>\n",
              "      <td>...</td>\n",
              "      <td>...</td>\n",
              "      <td>...</td>\n",
              "      <td>...</td>\n",
              "      <td>...</td>\n",
              "      <td>...</td>\n",
              "      <td>...</td>\n",
              "      <td>...</td>\n",
              "      <td>...</td>\n",
              "    </tr>\n",
              "    <tr>\n",
              "      <th>29179</th>\n",
              "      <td>0.490710</td>\n",
              "      <td>0.539474</td>\n",
              "      <td>0.483085</td>\n",
              "      <td>0.541459</td>\n",
              "      <td>0.622371</td>\n",
              "      <td>0.515858</td>\n",
              "      <td>0.502882</td>\n",
              "      <td>0.334051</td>\n",
              "      <td>0.522190</td>\n",
              "      <td>0.506024</td>\n",
              "      <td>0.486061</td>\n",
              "      <td>0.613784</td>\n",
              "      <td>0.337149</td>\n",
              "      <td>0.431791</td>\n",
              "      <td>0.520750</td>\n",
              "      <td>0.182069</td>\n",
              "      <td>0.549412</td>\n",
              "    </tr>\n",
              "    <tr>\n",
              "      <th>29180</th>\n",
              "      <td>0.491803</td>\n",
              "      <td>0.552632</td>\n",
              "      <td>0.489851</td>\n",
              "      <td>0.540460</td>\n",
              "      <td>0.619025</td>\n",
              "      <td>0.507463</td>\n",
              "      <td>0.499520</td>\n",
              "      <td>0.352199</td>\n",
              "      <td>0.519885</td>\n",
              "      <td>0.504122</td>\n",
              "      <td>0.482424</td>\n",
              "      <td>0.613134</td>\n",
              "      <td>0.328824</td>\n",
              "      <td>0.427046</td>\n",
              "      <td>0.508701</td>\n",
              "      <td>0.202173</td>\n",
              "      <td>0.495294</td>\n",
              "    </tr>\n",
              "    <tr>\n",
              "      <th>29181</th>\n",
              "      <td>0.493989</td>\n",
              "      <td>0.548246</td>\n",
              "      <td>0.481732</td>\n",
              "      <td>0.536963</td>\n",
              "      <td>0.612333</td>\n",
              "      <td>0.511194</td>\n",
              "      <td>0.490874</td>\n",
              "      <td>0.375269</td>\n",
              "      <td>0.515274</td>\n",
              "      <td>0.507926</td>\n",
              "      <td>0.478788</td>\n",
              "      <td>0.612484</td>\n",
              "      <td>0.329865</td>\n",
              "      <td>0.425860</td>\n",
              "      <td>0.502008</td>\n",
              "      <td>0.197309</td>\n",
              "      <td>0.558824</td>\n",
              "    </tr>\n",
              "    <tr>\n",
              "      <th>29182</th>\n",
              "      <td>0.495082</td>\n",
              "      <td>0.546784</td>\n",
              "      <td>0.485792</td>\n",
              "      <td>0.532967</td>\n",
              "      <td>0.603728</td>\n",
              "      <td>0.501866</td>\n",
              "      <td>0.489914</td>\n",
              "      <td>0.364196</td>\n",
              "      <td>0.511239</td>\n",
              "      <td>0.500317</td>\n",
              "      <td>0.488485</td>\n",
              "      <td>0.610533</td>\n",
              "      <td>0.351717</td>\n",
              "      <td>0.430605</td>\n",
              "      <td>0.502008</td>\n",
              "      <td>0.162127</td>\n",
              "      <td>0.532941</td>\n",
              "    </tr>\n",
              "    <tr>\n",
              "      <th>29183</th>\n",
              "      <td>0.489617</td>\n",
              "      <td>0.548246</td>\n",
              "      <td>0.481732</td>\n",
              "      <td>0.528971</td>\n",
              "      <td>0.605163</td>\n",
              "      <td>0.503731</td>\n",
              "      <td>0.494236</td>\n",
              "      <td>0.377422</td>\n",
              "      <td>0.508357</td>\n",
              "      <td>0.499683</td>\n",
              "      <td>0.486667</td>\n",
              "      <td>0.609883</td>\n",
              "      <td>0.349636</td>\n",
              "      <td>0.440095</td>\n",
              "      <td>0.503347</td>\n",
              "      <td>0.144131</td>\n",
              "      <td>0.680000</td>\n",
              "    </tr>\n",
              "  </tbody>\n",
              "</table>\n",
              "<p>29184 rows × 17 columns</p>\n",
              "</div>"
            ],
            "text/plain": [
              "       T_data_1_1  T_data_1_2  T_data_1_3  ...  T_data_5_3    H_data   AH_data\n",
              "0        0.501639    0.671053    0.485792  ...    0.491299  0.160019  0.189412\n",
              "1        0.513661    0.652047    0.499323  ...    0.495315  0.142185  0.562353\n",
              "2        0.513661    0.545322    0.497970  ...    0.479250  0.215143  0.451765\n",
              "3        0.497268    0.494152    0.481732  ...    0.492637  0.135538  0.490588\n",
              "4        0.476503    0.523392    0.470907  ...    0.500669  0.133106  0.469412\n",
              "...           ...         ...         ...  ...         ...       ...       ...\n",
              "29179    0.490710    0.539474    0.483085  ...    0.520750  0.182069  0.549412\n",
              "29180    0.491803    0.552632    0.489851  ...    0.508701  0.202173  0.495294\n",
              "29181    0.493989    0.548246    0.481732  ...    0.502008  0.197309  0.558824\n",
              "29182    0.495082    0.546784    0.485792  ...    0.502008  0.162127  0.532941\n",
              "29183    0.489617    0.548246    0.481732  ...    0.503347  0.144131  0.680000\n",
              "\n",
              "[29184 rows x 17 columns]"
            ]
          },
          "metadata": {
            "tags": []
          },
          "execution_count": 56
        }
      ]
    },
    {
      "cell_type": "code",
      "metadata": {
        "id": "s7WxHQaw60yj",
        "colab_type": "code",
        "colab": {}
      },
      "source": [
        "from sklearn.model_selection import cross_val_score, train_test_split\n",
        "\n",
        "X_train, X_holdout, y_train, y_holdout = train_test_split(X_scaled, Y_train.values, \n",
        "                                                          test_size=0.3, random_state=2)"
      ],
      "execution_count": 57,
      "outputs": []
>>>>>>> c17f3d77cbac930e9808840ace483000b0126f99
    },
    "colab_type": "code",
    "id": "_BZwLAC9vC44",
    "outputId": "967a87d7-2475-4d9b-db0e-1f4e004d7e07"
   },
   "outputs": [
    {
<<<<<<< HEAD
     "data": {
      "text/html": [
       "<div>\n",
       "<style scoped>\n",
       "    .dataframe tbody tr th:only-of-type {\n",
       "        vertical-align: middle;\n",
       "    }\n",
       "\n",
       "    .dataframe tbody tr th {\n",
       "        vertical-align: top;\n",
       "    }\n",
       "\n",
       "    .dataframe thead th {\n",
       "        text-align: right;\n",
       "    }\n",
       "</style>\n",
       "<table border=\"1\" class=\"dataframe\">\n",
       "  <thead>\n",
       "    <tr style=\"text-align: right;\">\n",
       "      <th></th>\n",
       "      <th>T_data_1_1</th>\n",
       "      <th>T_data_1_2</th>\n",
       "      <th>T_data_1_3</th>\n",
       "      <th>T_data_2_1</th>\n",
       "      <th>T_data_2_2</th>\n",
       "      <th>T_data_2_3</th>\n",
       "      <th>T_data_3_1</th>\n",
       "      <th>T_data_3_2</th>\n",
       "      <th>T_data_3_3</th>\n",
       "      <th>T_data_4_1</th>\n",
       "      <th>T_data_4_2</th>\n",
       "      <th>T_data_4_3</th>\n",
       "      <th>T_data_5_1</th>\n",
       "      <th>T_data_5_2</th>\n",
       "      <th>T_data_5_3</th>\n",
       "      <th>H_data</th>\n",
       "      <th>AH_data</th>\n",
       "    </tr>\n",
       "    <tr>\n",
       "      <th>Unnamed: 0</th>\n",
       "      <th></th>\n",
       "      <th></th>\n",
       "      <th></th>\n",
       "      <th></th>\n",
       "      <th></th>\n",
       "      <th></th>\n",
       "      <th></th>\n",
       "      <th></th>\n",
       "      <th></th>\n",
       "      <th></th>\n",
       "      <th></th>\n",
       "      <th></th>\n",
       "      <th></th>\n",
       "      <th></th>\n",
       "      <th></th>\n",
       "      <th></th>\n",
       "      <th></th>\n",
       "    </tr>\n",
       "  </thead>\n",
       "  <tbody>\n",
       "    <tr>\n",
       "      <th>2015-01-01 01:00:00</th>\n",
       "      <td>212</td>\n",
       "      <td>210</td>\n",
       "      <td>211</td>\n",
       "      <td>347</td>\n",
       "      <td>353</td>\n",
       "      <td>347</td>\n",
       "      <td>474</td>\n",
       "      <td>473</td>\n",
       "      <td>481</td>\n",
       "      <td>346</td>\n",
       "      <td>348</td>\n",
       "      <td>355</td>\n",
       "      <td>241</td>\n",
       "      <td>241</td>\n",
       "      <td>243</td>\n",
       "      <td>167.85</td>\n",
       "      <td>9.22</td>\n",
       "    </tr>\n",
       "    <tr>\n",
       "      <th>2015-01-01 01:01:00</th>\n",
       "      <td>212</td>\n",
       "      <td>211</td>\n",
       "      <td>211</td>\n",
       "      <td>346</td>\n",
       "      <td>352</td>\n",
       "      <td>346</td>\n",
       "      <td>475</td>\n",
       "      <td>473</td>\n",
       "      <td>481</td>\n",
       "      <td>349</td>\n",
       "      <td>348</td>\n",
       "      <td>355</td>\n",
       "      <td>241</td>\n",
       "      <td>241</td>\n",
       "      <td>243</td>\n",
       "      <td>162.51</td>\n",
       "      <td>9.22</td>\n",
       "    </tr>\n",
       "    <tr>\n",
       "      <th>2015-01-01 01:02:00</th>\n",
       "      <td>212</td>\n",
       "      <td>211</td>\n",
       "      <td>211</td>\n",
       "      <td>345</td>\n",
       "      <td>352</td>\n",
       "      <td>346</td>\n",
       "      <td>476</td>\n",
       "      <td>473</td>\n",
       "      <td>481</td>\n",
       "      <td>352</td>\n",
       "      <td>349</td>\n",
       "      <td>355</td>\n",
       "      <td>242</td>\n",
       "      <td>241</td>\n",
       "      <td>242</td>\n",
       "      <td>164.99</td>\n",
       "      <td>9.22</td>\n",
       "    </tr>\n",
       "    <tr>\n",
       "      <th>2015-01-01 01:03:00</th>\n",
       "      <td>213</td>\n",
       "      <td>211</td>\n",
       "      <td>211</td>\n",
       "      <td>344</td>\n",
       "      <td>351</td>\n",
       "      <td>346</td>\n",
       "      <td>477</td>\n",
       "      <td>473</td>\n",
       "      <td>481</td>\n",
       "      <td>355</td>\n",
       "      <td>349</td>\n",
       "      <td>355</td>\n",
       "      <td>242</td>\n",
       "      <td>241</td>\n",
       "      <td>242</td>\n",
       "      <td>167.34</td>\n",
       "      <td>9.22</td>\n",
       "    </tr>\n",
       "    <tr>\n",
       "      <th>2015-01-01 01:04:00</th>\n",
       "      <td>213</td>\n",
       "      <td>211</td>\n",
       "      <td>211</td>\n",
       "      <td>343</td>\n",
       "      <td>350</td>\n",
       "      <td>346</td>\n",
       "      <td>478</td>\n",
       "      <td>473</td>\n",
       "      <td>482</td>\n",
       "      <td>358</td>\n",
       "      <td>349</td>\n",
       "      <td>355</td>\n",
       "      <td>243</td>\n",
       "      <td>241</td>\n",
       "      <td>242</td>\n",
       "      <td>163.04</td>\n",
       "      <td>9.22</td>\n",
       "    </tr>\n",
       "    <tr>\n",
       "      <th>...</th>\n",
       "      <td>...</td>\n",
       "      <td>...</td>\n",
       "      <td>...</td>\n",
       "      <td>...</td>\n",
       "      <td>...</td>\n",
       "      <td>...</td>\n",
       "      <td>...</td>\n",
       "      <td>...</td>\n",
       "      <td>...</td>\n",
       "      <td>...</td>\n",
       "      <td>...</td>\n",
       "      <td>...</td>\n",
       "      <td>...</td>\n",
       "      <td>...</td>\n",
       "      <td>...</td>\n",
       "      <td>...</td>\n",
       "      <td>...</td>\n",
       "    </tr>\n",
       "    <tr>\n",
       "      <th>2019-01-01 00:56:00</th>\n",
       "      <td>271</td>\n",
       "      <td>261</td>\n",
       "      <td>265</td>\n",
       "      <td>353</td>\n",
       "      <td>359</td>\n",
       "      <td>353</td>\n",
       "      <td>481</td>\n",
       "      <td>449</td>\n",
       "      <td>491</td>\n",
       "      <td>325</td>\n",
       "      <td>328</td>\n",
       "      <td>328</td>\n",
       "      <td>277</td>\n",
       "      <td>276</td>\n",
       "      <td>280</td>\n",
       "      <td>157.20</td>\n",
       "      <td>8.44</td>\n",
       "    </tr>\n",
       "    <tr>\n",
       "      <th>2019-01-01 00:57:00</th>\n",
       "      <td>271</td>\n",
       "      <td>261</td>\n",
       "      <td>265</td>\n",
       "      <td>353</td>\n",
       "      <td>359</td>\n",
       "      <td>353</td>\n",
       "      <td>481</td>\n",
       "      <td>449</td>\n",
       "      <td>491</td>\n",
       "      <td>325</td>\n",
       "      <td>328</td>\n",
       "      <td>328</td>\n",
       "      <td>277</td>\n",
       "      <td>276</td>\n",
       "      <td>280</td>\n",
       "      <td>160.40</td>\n",
       "      <td>8.44</td>\n",
       "    </tr>\n",
       "    <tr>\n",
       "      <th>2019-01-01 00:58:00</th>\n",
       "      <td>271</td>\n",
       "      <td>261</td>\n",
       "      <td>265</td>\n",
       "      <td>353</td>\n",
       "      <td>359</td>\n",
       "      <td>353</td>\n",
       "      <td>481</td>\n",
       "      <td>449</td>\n",
       "      <td>491</td>\n",
       "      <td>325</td>\n",
       "      <td>328</td>\n",
       "      <td>328</td>\n",
       "      <td>277</td>\n",
       "      <td>276</td>\n",
       "      <td>280</td>\n",
       "      <td>160.14</td>\n",
       "      <td>8.44</td>\n",
       "    </tr>\n",
       "    <tr>\n",
       "      <th>2019-01-01 00:59:00</th>\n",
       "      <td>271</td>\n",
       "      <td>261</td>\n",
       "      <td>265</td>\n",
       "      <td>353</td>\n",
       "      <td>359</td>\n",
       "      <td>353</td>\n",
       "      <td>481</td>\n",
       "      <td>449</td>\n",
       "      <td>491</td>\n",
       "      <td>325</td>\n",
       "      <td>328</td>\n",
       "      <td>328</td>\n",
       "      <td>277</td>\n",
       "      <td>276</td>\n",
       "      <td>280</td>\n",
       "      <td>162.96</td>\n",
       "      <td>8.44</td>\n",
       "    </tr>\n",
       "    <tr>\n",
       "      <th>2019-01-01 01:00:00</th>\n",
       "      <td>271</td>\n",
       "      <td>261</td>\n",
       "      <td>265</td>\n",
       "      <td>353</td>\n",
       "      <td>359</td>\n",
       "      <td>353</td>\n",
       "      <td>481</td>\n",
       "      <td>449</td>\n",
       "      <td>491</td>\n",
       "      <td>325</td>\n",
       "      <td>328</td>\n",
       "      <td>328</td>\n",
       "      <td>277</td>\n",
       "      <td>276</td>\n",
       "      <td>280</td>\n",
       "      <td>159.73</td>\n",
       "      <td>7.35</td>\n",
       "    </tr>\n",
       "  </tbody>\n",
       "</table>\n",
       "<p>2103841 rows × 17 columns</p>\n",
       "</div>"
      ],
      "text/plain": [
       "                     T_data_1_1  T_data_1_2  T_data_1_3  T_data_2_1  \\\n",
       "Unnamed: 0                                                            \n",
       "2015-01-01 01:00:00         212         210         211         347   \n",
       "2015-01-01 01:01:00         212         211         211         346   \n",
       "2015-01-01 01:02:00         212         211         211         345   \n",
       "2015-01-01 01:03:00         213         211         211         344   \n",
       "2015-01-01 01:04:00         213         211         211         343   \n",
       "...                         ...         ...         ...         ...   \n",
       "2019-01-01 00:56:00         271         261         265         353   \n",
       "2019-01-01 00:57:00         271         261         265         353   \n",
       "2019-01-01 00:58:00         271         261         265         353   \n",
       "2019-01-01 00:59:00         271         261         265         353   \n",
       "2019-01-01 01:00:00         271         261         265         353   \n",
       "\n",
       "                     T_data_2_2  T_data_2_3  T_data_3_1  T_data_3_2  \\\n",
       "Unnamed: 0                                                            \n",
       "2015-01-01 01:00:00         353         347         474         473   \n",
       "2015-01-01 01:01:00         352         346         475         473   \n",
       "2015-01-01 01:02:00         352         346         476         473   \n",
       "2015-01-01 01:03:00         351         346         477         473   \n",
       "2015-01-01 01:04:00         350         346         478         473   \n",
       "...                         ...         ...         ...         ...   \n",
       "2019-01-01 00:56:00         359         353         481         449   \n",
       "2019-01-01 00:57:00         359         353         481         449   \n",
       "2019-01-01 00:58:00         359         353         481         449   \n",
       "2019-01-01 00:59:00         359         353         481         449   \n",
       "2019-01-01 01:00:00         359         353         481         449   \n",
       "\n",
       "                     T_data_3_3  T_data_4_1  T_data_4_2  T_data_4_3  \\\n",
       "Unnamed: 0                                                            \n",
       "2015-01-01 01:00:00         481         346         348         355   \n",
       "2015-01-01 01:01:00         481         349         348         355   \n",
       "2015-01-01 01:02:00         481         352         349         355   \n",
       "2015-01-01 01:03:00         481         355         349         355   \n",
       "2015-01-01 01:04:00         482         358         349         355   \n",
       "...                         ...         ...         ...         ...   \n",
       "2019-01-01 00:56:00         491         325         328         328   \n",
       "2019-01-01 00:57:00         491         325         328         328   \n",
       "2019-01-01 00:58:00         491         325         328         328   \n",
       "2019-01-01 00:59:00         491         325         328         328   \n",
       "2019-01-01 01:00:00         491         325         328         328   \n",
       "\n",
       "                     T_data_5_1  T_data_5_2  T_data_5_3  H_data  AH_data  \n",
       "Unnamed: 0                                                                \n",
       "2015-01-01 01:00:00         241         241         243  167.85     9.22  \n",
       "2015-01-01 01:01:00         241         241         243  162.51     9.22  \n",
       "2015-01-01 01:02:00         242         241         242  164.99     9.22  \n",
       "2015-01-01 01:03:00         242         241         242  167.34     9.22  \n",
       "2015-01-01 01:04:00         243         241         242  163.04     9.22  \n",
       "...                         ...         ...         ...     ...      ...  \n",
       "2019-01-01 00:56:00         277         276         280  157.20     8.44  \n",
       "2019-01-01 00:57:00         277         276         280  160.40     8.44  \n",
       "2019-01-01 00:58:00         277         276         280  160.14     8.44  \n",
       "2019-01-01 00:59:00         277         276         280  162.96     8.44  \n",
       "2019-01-01 01:00:00         277         276         280  159.73     7.35  \n",
       "\n",
       "[2103841 rows x 17 columns]"
=======
      "cell_type": "code",
      "metadata": {
        "id": "gft9FPY49N6D",
        "colab_type": "code",
        "colab": {
          "base_uri": "https://localhost:8080/",
          "height": 34
        },
        "outputId": "b872b0af-8b75-4a03-eb43-e7ac8f699090"
      },
      "source": [
        "(X_train.shape, y_train.shape), \\\n",
        "(X_holdout.shape, y_holdout.shape)"
      ],
      "execution_count": 58,
      "outputs": [
        {
          "output_type": "execute_result",
          "data": {
            "text/plain": [
              "(((20428, 17), (20428, 1)), ((8756, 17), (8756, 1)))"
            ]
          },
          "metadata": {
            "tags": []
          },
          "execution_count": 58
        }
>>>>>>> c17f3d77cbac930e9808840ace483000b0126f99
      ]
     },
     "execution_count": 16,
     "metadata": {},
     "output_type": "execute_result"
    }
   ],
   "source": [
    "X_data = X_data.set_index(['Unnamed: 0'])\n",
    "X_data"
   ]
  },
  {
   "cell_type": "markdown",
   "metadata": {
    "colab_type": "text",
    "id": "MYW8PGRSyakA"
   },
   "source": [
    "Составим датафрейм, состоящий только из данных, метрики качества которых нам известны:"
   ]
  },
  {
   "cell_type": "code",
   "execution_count": 17,
   "metadata": {
    "ExecuteTime": {
     "end_time": "2020-07-01T14:54:35.713814Z",
     "start_time": "2020-07-01T14:54:35.370028Z"
    },
<<<<<<< HEAD
    "colab": {
     "base_uri": "https://localhost:8080/",
     "height": 34
=======
    {
      "cell_type": "code",
      "metadata": {
        "id": "sjNYEhI69r_z",
        "colab_type": "code",
        "colab": {}
      },
      "source": [
        "from sklearn.linear_model import LinearRegression\n",
        "\n",
        "linreg = LinearRegression()\n",
        "linreg.fit(X_train, y_train)\n",
        "\n",
        "y_pred = linreg.predict(X_holdout)"
      ],
      "execution_count": 59,
      "outputs": []
>>>>>>> c17f3d77cbac930e9808840ace483000b0126f99
    },
    "colab_type": "code",
    "id": "_gehZuFkyybQ",
    "outputId": "14f9a5c4-a685-47f4-d86a-09264cb65194"
   },
   "outputs": [
    {
<<<<<<< HEAD
     "data": {
      "text/plain": [
       "((29184, 17), (29184, 1))"
=======
      "cell_type": "code",
      "metadata": {
        "id": "KsY-oQPf-N8x",
        "colab_type": "code",
        "colab": {
          "base_uri": "https://localhost:8080/",
          "height": 51
        },
        "outputId": "e9cea573-6f64-4cb2-ae0f-ec6faf25726f"
      },
      "source": [
        "from sklearn.metrics.regression import mean_squared_error as mae\n",
        "\n",
        "print(\"Mean absolute  error (train) {:.3f}\".format(mae(y_train, linreg.predict(X_train))))\n",
        "print(\"Mean absolute  error (holdout): {:.3f}\".format(mae(y_holdout, y_pred)))\n"
      ],
      "execution_count": 60,
      "outputs": [
        {
          "output_type": "stream",
          "text": [
            "Mean absolute  error (train) 501.746\n",
            "Mean absolute  error (holdout): 511.866\n"
          ],
          "name": "stdout"
        }
>>>>>>> c17f3d77cbac930e9808840ace483000b0126f99
      ]
     },
     "execution_count": 17,
     "metadata": {},
     "output_type": "execute_result"
    }
   ],
   "source": [
    "X = X_data.loc[X_data.index.isin(Y_train.index)]\n",
    "X.shape, Y_train.shape"
   ]
  },
  {
   "cell_type": "code",
   "execution_count": 18,
   "metadata": {
    "ExecuteTime": {
     "end_time": "2020-07-01T14:54:35.893703Z",
     "start_time": "2020-07-01T14:54:35.719809Z"
    },
<<<<<<< HEAD
    "colab": {
     "base_uri": "https://localhost:8080/",
     "height": 439
=======
    {
      "cell_type": "code",
      "metadata": {
        "id": "VY9QV2vA-pzU",
        "colab_type": "code",
        "colab": {}
      },
      "source": [
        ""
      ],
      "execution_count": 60,
      "outputs": []
    },
    {
      "cell_type": "code",
      "metadata": {
        "id": "WER5MYTF-1w8",
        "colab_type": "code",
        "colab": {}
      },
      "source": [
        ""
      ],
      "execution_count": 60,
      "outputs": []
>>>>>>> c17f3d77cbac930e9808840ace483000b0126f99
    },
    "colab_type": "code",
    "id": "pBX8_Ka76dOj",
    "outputId": "fd625d36-958b-4207-d988-7cc1ab6516f6"
   },
   "outputs": [
    {
<<<<<<< HEAD
     "data": {
      "text/html": [
       "<div>\n",
       "<style scoped>\n",
       "    .dataframe tbody tr th:only-of-type {\n",
       "        vertical-align: middle;\n",
       "    }\n",
       "\n",
       "    .dataframe tbody tr th {\n",
       "        vertical-align: top;\n",
       "    }\n",
       "\n",
       "    .dataframe thead th {\n",
       "        text-align: right;\n",
       "    }\n",
       "</style>\n",
       "<table border=\"1\" class=\"dataframe\">\n",
       "  <thead>\n",
       "    <tr style=\"text-align: right;\">\n",
       "      <th></th>\n",
       "      <th>T_data_1_1</th>\n",
       "      <th>T_data_1_2</th>\n",
       "      <th>T_data_1_3</th>\n",
       "      <th>T_data_2_1</th>\n",
       "      <th>T_data_2_2</th>\n",
       "      <th>T_data_2_3</th>\n",
       "      <th>T_data_3_1</th>\n",
       "      <th>T_data_3_2</th>\n",
       "      <th>T_data_3_3</th>\n",
       "      <th>T_data_4_1</th>\n",
       "      <th>T_data_4_2</th>\n",
       "      <th>T_data_4_3</th>\n",
       "      <th>T_data_5_1</th>\n",
       "      <th>T_data_5_2</th>\n",
       "      <th>T_data_5_3</th>\n",
       "      <th>H_data</th>\n",
       "      <th>AH_data</th>\n",
       "    </tr>\n",
       "  </thead>\n",
       "  <tbody>\n",
       "    <tr>\n",
       "      <th>0</th>\n",
       "      <td>0.501639</td>\n",
       "      <td>0.671053</td>\n",
       "      <td>0.485792</td>\n",
       "      <td>0.518482</td>\n",
       "      <td>0.592734</td>\n",
       "      <td>0.491604</td>\n",
       "      <td>0.521614</td>\n",
       "      <td>0.386343</td>\n",
       "      <td>0.562536</td>\n",
       "      <td>0.480025</td>\n",
       "      <td>0.480000</td>\n",
       "      <td>0.604681</td>\n",
       "      <td>0.328824</td>\n",
       "      <td>0.408066</td>\n",
       "      <td>0.491299</td>\n",
       "      <td>0.160019</td>\n",
       "      <td>0.189412</td>\n",
       "    </tr>\n",
       "    <tr>\n",
       "      <th>1</th>\n",
       "      <td>0.513661</td>\n",
       "      <td>0.652047</td>\n",
       "      <td>0.499323</td>\n",
       "      <td>0.511988</td>\n",
       "      <td>0.597036</td>\n",
       "      <td>0.501866</td>\n",
       "      <td>0.526417</td>\n",
       "      <td>0.387573</td>\n",
       "      <td>0.640346</td>\n",
       "      <td>0.486367</td>\n",
       "      <td>0.500000</td>\n",
       "      <td>0.605332</td>\n",
       "      <td>0.325702</td>\n",
       "      <td>0.405694</td>\n",
       "      <td>0.495315</td>\n",
       "      <td>0.142185</td>\n",
       "      <td>0.562353</td>\n",
       "    </tr>\n",
       "    <tr>\n",
       "      <th>2</th>\n",
       "      <td>0.513661</td>\n",
       "      <td>0.545322</td>\n",
       "      <td>0.497970</td>\n",
       "      <td>0.510989</td>\n",
       "      <td>0.596080</td>\n",
       "      <td>0.504664</td>\n",
       "      <td>0.524015</td>\n",
       "      <td>0.387573</td>\n",
       "      <td>0.650144</td>\n",
       "      <td>0.493342</td>\n",
       "      <td>0.510303</td>\n",
       "      <td>0.604031</td>\n",
       "      <td>0.328824</td>\n",
       "      <td>0.412811</td>\n",
       "      <td>0.479250</td>\n",
       "      <td>0.215143</td>\n",
       "      <td>0.451765</td>\n",
       "    </tr>\n",
       "    <tr>\n",
       "      <th>3</th>\n",
       "      <td>0.497268</td>\n",
       "      <td>0.494152</td>\n",
       "      <td>0.481732</td>\n",
       "      <td>0.513986</td>\n",
       "      <td>0.597514</td>\n",
       "      <td>0.481343</td>\n",
       "      <td>0.526417</td>\n",
       "      <td>0.386958</td>\n",
       "      <td>0.509510</td>\n",
       "      <td>0.499683</td>\n",
       "      <td>0.512121</td>\n",
       "      <td>0.602081</td>\n",
       "      <td>0.338189</td>\n",
       "      <td>0.423488</td>\n",
       "      <td>0.492637</td>\n",
       "      <td>0.135538</td>\n",
       "      <td>0.490588</td>\n",
       "    </tr>\n",
       "    <tr>\n",
       "      <th>4</th>\n",
       "      <td>0.476503</td>\n",
       "      <td>0.523392</td>\n",
       "      <td>0.470907</td>\n",
       "      <td>0.514486</td>\n",
       "      <td>0.594168</td>\n",
       "      <td>0.460821</td>\n",
       "      <td>0.533622</td>\n",
       "      <td>0.386650</td>\n",
       "      <td>0.565418</td>\n",
       "      <td>0.496512</td>\n",
       "      <td>0.504848</td>\n",
       "      <td>0.603381</td>\n",
       "      <td>0.352758</td>\n",
       "      <td>0.431791</td>\n",
       "      <td>0.500669</td>\n",
       "      <td>0.133106</td>\n",
       "      <td>0.469412</td>\n",
       "    </tr>\n",
       "    <tr>\n",
       "      <th>...</th>\n",
       "      <td>...</td>\n",
       "      <td>...</td>\n",
       "      <td>...</td>\n",
       "      <td>...</td>\n",
       "      <td>...</td>\n",
       "      <td>...</td>\n",
       "      <td>...</td>\n",
       "      <td>...</td>\n",
       "      <td>...</td>\n",
       "      <td>...</td>\n",
       "      <td>...</td>\n",
       "      <td>...</td>\n",
       "      <td>...</td>\n",
       "      <td>...</td>\n",
       "      <td>...</td>\n",
       "      <td>...</td>\n",
       "      <td>...</td>\n",
       "    </tr>\n",
       "    <tr>\n",
       "      <th>29179</th>\n",
       "      <td>0.490710</td>\n",
       "      <td>0.539474</td>\n",
       "      <td>0.483085</td>\n",
       "      <td>0.541459</td>\n",
       "      <td>0.622371</td>\n",
       "      <td>0.515858</td>\n",
       "      <td>0.502882</td>\n",
       "      <td>0.334051</td>\n",
       "      <td>0.522190</td>\n",
       "      <td>0.506024</td>\n",
       "      <td>0.486061</td>\n",
       "      <td>0.613784</td>\n",
       "      <td>0.337149</td>\n",
       "      <td>0.431791</td>\n",
       "      <td>0.520750</td>\n",
       "      <td>0.182069</td>\n",
       "      <td>0.549412</td>\n",
       "    </tr>\n",
       "    <tr>\n",
       "      <th>29180</th>\n",
       "      <td>0.491803</td>\n",
       "      <td>0.552632</td>\n",
       "      <td>0.489851</td>\n",
       "      <td>0.540460</td>\n",
       "      <td>0.619025</td>\n",
       "      <td>0.507463</td>\n",
       "      <td>0.499520</td>\n",
       "      <td>0.352199</td>\n",
       "      <td>0.519885</td>\n",
       "      <td>0.504122</td>\n",
       "      <td>0.482424</td>\n",
       "      <td>0.613134</td>\n",
       "      <td>0.328824</td>\n",
       "      <td>0.427046</td>\n",
       "      <td>0.508701</td>\n",
       "      <td>0.202173</td>\n",
       "      <td>0.495294</td>\n",
       "    </tr>\n",
       "    <tr>\n",
       "      <th>29181</th>\n",
       "      <td>0.493989</td>\n",
       "      <td>0.548246</td>\n",
       "      <td>0.481732</td>\n",
       "      <td>0.536963</td>\n",
       "      <td>0.612333</td>\n",
       "      <td>0.511194</td>\n",
       "      <td>0.490874</td>\n",
       "      <td>0.375269</td>\n",
       "      <td>0.515274</td>\n",
       "      <td>0.507926</td>\n",
       "      <td>0.478788</td>\n",
       "      <td>0.612484</td>\n",
       "      <td>0.329865</td>\n",
       "      <td>0.425860</td>\n",
       "      <td>0.502008</td>\n",
       "      <td>0.197309</td>\n",
       "      <td>0.558824</td>\n",
       "    </tr>\n",
       "    <tr>\n",
       "      <th>29182</th>\n",
       "      <td>0.495082</td>\n",
       "      <td>0.546784</td>\n",
       "      <td>0.485792</td>\n",
       "      <td>0.532967</td>\n",
       "      <td>0.603728</td>\n",
       "      <td>0.501866</td>\n",
       "      <td>0.489914</td>\n",
       "      <td>0.364196</td>\n",
       "      <td>0.511239</td>\n",
       "      <td>0.500317</td>\n",
       "      <td>0.488485</td>\n",
       "      <td>0.610533</td>\n",
       "      <td>0.351717</td>\n",
       "      <td>0.430605</td>\n",
       "      <td>0.502008</td>\n",
       "      <td>0.162127</td>\n",
       "      <td>0.532941</td>\n",
       "    </tr>\n",
       "    <tr>\n",
       "      <th>29183</th>\n",
       "      <td>0.489617</td>\n",
       "      <td>0.548246</td>\n",
       "      <td>0.481732</td>\n",
       "      <td>0.528971</td>\n",
       "      <td>0.605163</td>\n",
       "      <td>0.503731</td>\n",
       "      <td>0.494236</td>\n",
       "      <td>0.377422</td>\n",
       "      <td>0.508357</td>\n",
       "      <td>0.499683</td>\n",
       "      <td>0.486667</td>\n",
       "      <td>0.609883</td>\n",
       "      <td>0.349636</td>\n",
       "      <td>0.440095</td>\n",
       "      <td>0.503347</td>\n",
       "      <td>0.144131</td>\n",
       "      <td>0.680000</td>\n",
       "    </tr>\n",
       "  </tbody>\n",
       "</table>\n",
       "<p>29184 rows × 17 columns</p>\n",
       "</div>"
      ],
      "text/plain": [
       "       T_data_1_1  T_data_1_2  T_data_1_3  T_data_2_1  T_data_2_2  T_data_2_3  \\\n",
       "0        0.501639    0.671053    0.485792    0.518482    0.592734    0.491604   \n",
       "1        0.513661    0.652047    0.499323    0.511988    0.597036    0.501866   \n",
       "2        0.513661    0.545322    0.497970    0.510989    0.596080    0.504664   \n",
       "3        0.497268    0.494152    0.481732    0.513986    0.597514    0.481343   \n",
       "4        0.476503    0.523392    0.470907    0.514486    0.594168    0.460821   \n",
       "...           ...         ...         ...         ...         ...         ...   \n",
       "29179    0.490710    0.539474    0.483085    0.541459    0.622371    0.515858   \n",
       "29180    0.491803    0.552632    0.489851    0.540460    0.619025    0.507463   \n",
       "29181    0.493989    0.548246    0.481732    0.536963    0.612333    0.511194   \n",
       "29182    0.495082    0.546784    0.485792    0.532967    0.603728    0.501866   \n",
       "29183    0.489617    0.548246    0.481732    0.528971    0.605163    0.503731   \n",
       "\n",
       "       T_data_3_1  T_data_3_2  T_data_3_3  T_data_4_1  T_data_4_2  T_data_4_3  \\\n",
       "0        0.521614    0.386343    0.562536    0.480025    0.480000    0.604681   \n",
       "1        0.526417    0.387573    0.640346    0.486367    0.500000    0.605332   \n",
       "2        0.524015    0.387573    0.650144    0.493342    0.510303    0.604031   \n",
       "3        0.526417    0.386958    0.509510    0.499683    0.512121    0.602081   \n",
       "4        0.533622    0.386650    0.565418    0.496512    0.504848    0.603381   \n",
       "...           ...         ...         ...         ...         ...         ...   \n",
       "29179    0.502882    0.334051    0.522190    0.506024    0.486061    0.613784   \n",
       "29180    0.499520    0.352199    0.519885    0.504122    0.482424    0.613134   \n",
       "29181    0.490874    0.375269    0.515274    0.507926    0.478788    0.612484   \n",
       "29182    0.489914    0.364196    0.511239    0.500317    0.488485    0.610533   \n",
       "29183    0.494236    0.377422    0.508357    0.499683    0.486667    0.609883   \n",
       "\n",
       "       T_data_5_1  T_data_5_2  T_data_5_3    H_data   AH_data  \n",
       "0        0.328824    0.408066    0.491299  0.160019  0.189412  \n",
       "1        0.325702    0.405694    0.495315  0.142185  0.562353  \n",
       "2        0.328824    0.412811    0.479250  0.215143  0.451765  \n",
       "3        0.338189    0.423488    0.492637  0.135538  0.490588  \n",
       "4        0.352758    0.431791    0.500669  0.133106  0.469412  \n",
       "...           ...         ...         ...       ...       ...  \n",
       "29179    0.337149    0.431791    0.520750  0.182069  0.549412  \n",
       "29180    0.328824    0.427046    0.508701  0.202173  0.495294  \n",
       "29181    0.329865    0.425860    0.502008  0.197309  0.558824  \n",
       "29182    0.351717    0.430605    0.502008  0.162127  0.532941  \n",
       "29183    0.349636    0.440095    0.503347  0.144131  0.680000  \n",
       "\n",
       "[29184 rows x 17 columns]"
=======
      "cell_type": "code",
      "metadata": {
        "id": "sSCdv3gP-12y",
        "colab_type": "code",
        "colab": {
          "base_uri": "https://localhost:8080/",
          "height": 68
        },
        "outputId": "2687093f-4dab-4e02-cde6-cdde0f066ba5"
      },
      "source": [
        "from sklearn.linear_model import Lasso, LassoCV\n",
        "\n",
        "lasso1 = Lasso(alpha=0.01, random_state=2)\n",
        "lasso1.fit(X_train, y_train)\n"
      ],
      "execution_count": 61,
      "outputs": [
        {
          "output_type": "execute_result",
          "data": {
            "text/plain": [
              "Lasso(alpha=0.01, copy_X=True, fit_intercept=True, max_iter=1000,\n",
              "      normalize=False, positive=False, precompute=False, random_state=2,\n",
              "      selection='cyclic', tol=0.0001, warm_start=False)"
            ]
          },
          "metadata": {
            "tags": []
          },
          "execution_count": 61
        }
>>>>>>> c17f3d77cbac930e9808840ace483000b0126f99
      ]
     },
     "execution_count": 18,
     "metadata": {},
     "output_type": "execute_result"
    }
   ],
   "source": [
    "from sklearn import preprocessing\n",
    "\n",
    "min_max_scaler = preprocessing.MinMaxScaler()\n",
    "np_scaled = min_max_scaler.fit_transform(X)\n",
    "X_scaled = pd.DataFrame(np_scaled, columns = X.columns)\n",
    "X_scaled"
   ]
  },
  {
   "cell_type": "code",
   "execution_count": 19,
   "metadata": {
    "ExecuteTime": {
     "end_time": "2020-07-01T14:54:35.958661Z",
     "start_time": "2020-07-01T14:54:35.896701Z"
    },
    "colab": {},
    "colab_type": "code",
    "id": "s7WxHQaw60yj"
   },
   "outputs": [
    {
<<<<<<< HEAD
     "name": "stderr",
     "output_type": "stream",
     "text": [
      "C:\\ProgramData\\Anaconda3\\lib\\site-packages\\sklearn\\utils\\deprecation.py:144: FutureWarning: The sklearn.metrics.regression module is  deprecated in version 0.22 and will be removed in version 0.24. The corresponding classes / functions should instead be imported from sklearn.metrics. Anything that cannot be imported from sklearn.metrics is now part of the private API.\n",
      "  warnings.warn(message, FutureWarning)\n"
     ]
    }
   ],
   "source": [
    "from sklearn.model_selection import cross_val_score, train_test_split\n",
    "from sklearn.metrics.regression import mean_squared_error as mae\n",
    "\n",
    "\n",
    "X_train, X_holdout, y_train, y_holdout = train_test_split(X_scaled, Y_train.values, \n",
    "                                                          test_size=0.3, random_state=2)"
   ]
  },
  {
   "cell_type": "code",
   "execution_count": 20,
   "metadata": {
    "ExecuteTime": {
     "end_time": "2020-07-01T14:54:36.027622Z",
     "start_time": "2020-07-01T14:54:35.961661Z"
    },
    "colab": {
     "base_uri": "https://localhost:8080/",
     "height": 34
=======
      "cell_type": "code",
      "metadata": {
        "id": "rGj07rgM_RiR",
        "colab_type": "code",
        "colab": {}
      },
      "source": [
        ""
      ],
      "execution_count": 61,
      "outputs": []
    },
    {
      "cell_type": "code",
      "metadata": {
        "id": "QZADh32R-10E",
        "colab_type": "code",
        "colab": {
          "base_uri": "https://localhost:8080/",
          "height": 238
        },
        "outputId": "e92caace-dcfb-4fca-ab63-e0dd36801209"
      },
      "source": [
        "alphas = np.logspace(-6, 2, 200)\n",
        "lasso_cv = LassoCV(alphas=alphas, cv=5, random_state=2)\n",
        "lasso_cv.fit(X_train, y_train)\n"
      ],
      "execution_count": 62,
      "outputs": [
        {
          "output_type": "execute_result",
          "data": {
            "text/plain": [
              "LassoCV(alphas=array([1.00000000e-06, 1.09698580e-06, 1.20337784e-06, 1.32008840e-06,\n",
              "       1.44811823e-06, 1.58856513e-06, 1.74263339e-06, 1.91164408e-06,\n",
              "       2.09704640e-06, 2.30043012e-06, 2.52353917e-06, 2.76828663e-06,\n",
              "       3.03677112e-06, 3.33129479e-06, 3.65438307e-06, 4.00880633e-06,\n",
              "       4.39760361e-06, 4.82410870e-06, 5.29197874e-06, 5.80522552e-06,\n",
              "       6.36824994e-06, 6.98587975e-0...\n",
              "       3.61234270e+01, 3.96268864e+01, 4.34701316e+01, 4.76861170e+01,\n",
              "       5.23109931e+01, 5.73844165e+01, 6.29498899e+01, 6.90551352e+01,\n",
              "       7.57525026e+01, 8.30994195e+01, 9.11588830e+01, 1.00000000e+02]),\n",
              "        copy_X=True, cv=5, eps=0.001, fit_intercept=True, max_iter=1000,\n",
              "        n_alphas=100, n_jobs=None, normalize=False, positive=False,\n",
              "        precompute='auto', random_state=2, selection='cyclic', tol=0.0001,\n",
              "        verbose=False)"
            ]
          },
          "metadata": {
            "tags": []
          },
          "execution_count": 62
        }
      ]
    },
    {
      "cell_type": "code",
      "metadata": {
        "id": "FYn9ORQb_Xf3",
        "colab_type": "code",
        "colab": {
          "base_uri": "https://localhost:8080/",
          "height": 34
        },
        "outputId": "f1192937-7418-4583-c436-5434375af615"
      },
      "source": [
        "lasso_cv.alpha_"
      ],
      "execution_count": 63,
      "outputs": [
        {
          "output_type": "execute_result",
          "data": {
            "text/plain": [
              "0.002381685551976158"
            ]
          },
          "metadata": {
            "tags": []
          },
          "execution_count": 63
        }
      ]
>>>>>>> c17f3d77cbac930e9808840ace483000b0126f99
    },
    "colab_type": "code",
    "id": "gft9FPY49N6D",
    "outputId": "3d06f20f-8456-45a7-a39f-3e1dd288c04a"
   },
   "outputs": [
    {
<<<<<<< HEAD
     "data": {
      "text/plain": [
       "(((20428, 17), (20428, 1)), ((8756, 17), (8756, 1)))"
      ]
     },
     "execution_count": 20,
     "metadata": {},
     "output_type": "execute_result"
    }
   ],
   "source": [
    "(X_train.shape, y_train.shape), \\\n",
    "(X_holdout.shape, y_holdout.shape)"
   ]
  },
  {
   "cell_type": "markdown",
   "metadata": {
    "colab": {},
    "colab_type": "code",
    "id": "nw361j19Ovuv"
   },
   "source": [
    "### Модель на основе нейросетей"
   ]
  },
  {
   "cell_type": "code",
   "execution_count": 21,
   "metadata": {
    "ExecuteTime": {
     "end_time": "2020-07-01T14:54:39.723921Z",
     "start_time": "2020-07-01T14:54:36.031618Z"
    }
   },
   "outputs": [],
   "source": [
    "import tensorflow as tf\n",
    "from tensorflow.keras.models import Sequential\n",
    "from tensorflow.keras import layers as l\n",
    "from tensorboard import notebook\n",
    "%load_ext tensorboard"
   ]
  },
  {
   "cell_type": "code",
   "execution_count": 24,
   "metadata": {
    "ExecuteTime": {
     "end_time": "2020-07-01T14:55:40.294140Z",
     "start_time": "2020-07-01T14:55:40.127242Z"
    }
   },
   "outputs": [],
   "source": [
    "NN_model = Sequential([\n",
    "    l.Dense(200, kernel_initializer='normal', activation='relu',\n",
    "            input_shape=(len(X_train.columns),)),\n",
    "    l.Dropout(0.1),\n",
    "    l.Dense(100, kernel_initializer='normal', activation='relu',),\n",
    "    l.Dropout(0.1), \n",
    "    l.Dense(50, kernel_initializer='normal', activation='relu',),\n",
    "    l.Dropout(0.1), \n",
    "    l.Dense(25, kernel_initializer='normal', activation='relu',),\n",
    "    l.Dense(1, kernel_initializer='normal'),\n",
    "\n",
    "])\n",
    "\n",
    "path_to_log = path_to_project_directory+'/logs/'\n",
    "\n",
    "NN_model.compile(loss='mean_absolute_error', optimizer='adam',\n",
    "                 metrics=['mean_absolute_error'],)\n",
    "\n",
    "logger = [tf.keras.callbacks.TensorBoard(\n",
    "    log_dir=path_to_log,\n",
    "    write_graph=True,\n",
    "    histogram_freq=5,\n",
    "    profile_batch=100000000,\n",
    ")]"
   ]
  },
  {
   "cell_type": "code",
   "execution_count": 25,
   "metadata": {
    "ExecuteTime": {
     "end_time": "2020-07-01T14:56:22.092695Z",
     "start_time": "2020-07-01T14:55:40.992621Z"
    }
   },
   "outputs": [
    {
     "name": "stdout",
     "output_type": "stream",
     "text": [
      "Train on 20428 samples, validate on 8756 samples\n",
      "Epoch 1/100\n",
      "20428/20428 [==============================] - 8s 384us/sample - loss: 57.0962 - mean_absolute_error: 57.0962 - val_loss: 36.6339 - val_mean_absolute_error: 36.6339\n",
      "Epoch 2/100\n",
      "20428/20428 [==============================] - 7s 359us/sample - loss: 41.2254 - mean_absolute_error: 41.2255 - val_loss: 27.0718 - val_mean_absolute_error: 27.0718\n",
      "Epoch 3/100\n",
      "20428/20428 [==============================] - 7s 338us/sample - loss: 35.1704 - mean_absolute_error: 35.1705 - val_loss: 24.7003 - val_mean_absolute_error: 24.7003\n",
      "Epoch 4/100\n",
      "20428/20428 [==============================] - 7s 339us/sample - loss: 32.7097 - mean_absolute_error: 32.7097 - val_loss: 20.8377 - val_mean_absolute_error: 20.8377\n",
      "Epoch 5/100\n",
      "20428/20428 [==============================] - 8s 381us/sample - loss: 31.4427 - mean_absolute_error: 31.4427 - val_loss: 36.7239 - val_mean_absolute_error: 36.7239\n",
      "Epoch 6/100\n",
      "12420/20428 [=================>............] - ETA: 2s - loss: 29.4865 - mean_absolute_error: 29.4865"
     ]
    },
    {
     "ename": "KeyboardInterrupt",
     "evalue": "",
     "output_type": "error",
     "traceback": [
      "\u001b[1;31m---------------------------------------------------------------------------\u001b[0m",
      "\u001b[1;31mKeyboardInterrupt\u001b[0m                         Traceback (most recent call last)",
      "\u001b[1;32m<ipython-input-25-caf96c90552e>\u001b[0m in \u001b[0;36m<module>\u001b[1;34m\u001b[0m\n\u001b[0;32m      3\u001b[0m              \u001b[0mepochs\u001b[0m\u001b[1;33m=\u001b[0m\u001b[1;36m100\u001b[0m\u001b[1;33m,\u001b[0m \u001b[0mbatch_size\u001b[0m\u001b[1;33m=\u001b[0m\u001b[1;36m10\u001b[0m\u001b[1;33m,\u001b[0m\u001b[1;33m\u001b[0m\u001b[1;33m\u001b[0m\u001b[0m\n\u001b[0;32m      4\u001b[0m              \u001b[0mcallbacks\u001b[0m \u001b[1;33m=\u001b[0m \u001b[0mlogger\u001b[0m\u001b[1;33m,\u001b[0m\u001b[1;33m\u001b[0m\u001b[1;33m\u001b[0m\u001b[0m\n\u001b[1;32m----> 5\u001b[1;33m              \u001b[0muse_multiprocessing\u001b[0m\u001b[1;33m=\u001b[0m\u001b[1;32mTrue\u001b[0m\u001b[1;33m,\u001b[0m\u001b[1;33m\u001b[0m\u001b[1;33m\u001b[0m\u001b[0m\n\u001b[0m\u001b[0;32m      6\u001b[0m             )\n",
      "\u001b[1;32mC:\\ProgramData\\Anaconda3\\lib\\site-packages\\tensorflow_core\\python\\keras\\engine\\training.py\u001b[0m in \u001b[0;36mfit\u001b[1;34m(self, x, y, batch_size, epochs, verbose, callbacks, validation_split, validation_data, shuffle, class_weight, sample_weight, initial_epoch, steps_per_epoch, validation_steps, validation_freq, max_queue_size, workers, use_multiprocessing, **kwargs)\u001b[0m\n\u001b[0;32m    817\u001b[0m         \u001b[0mmax_queue_size\u001b[0m\u001b[1;33m=\u001b[0m\u001b[0mmax_queue_size\u001b[0m\u001b[1;33m,\u001b[0m\u001b[1;33m\u001b[0m\u001b[1;33m\u001b[0m\u001b[0m\n\u001b[0;32m    818\u001b[0m         \u001b[0mworkers\u001b[0m\u001b[1;33m=\u001b[0m\u001b[0mworkers\u001b[0m\u001b[1;33m,\u001b[0m\u001b[1;33m\u001b[0m\u001b[1;33m\u001b[0m\u001b[0m\n\u001b[1;32m--> 819\u001b[1;33m         use_multiprocessing=use_multiprocessing)\n\u001b[0m\u001b[0;32m    820\u001b[0m \u001b[1;33m\u001b[0m\u001b[0m\n\u001b[0;32m    821\u001b[0m   def evaluate(self,\n",
      "\u001b[1;32mC:\\ProgramData\\Anaconda3\\lib\\site-packages\\tensorflow_core\\python\\keras\\engine\\training_v2.py\u001b[0m in \u001b[0;36mfit\u001b[1;34m(self, model, x, y, batch_size, epochs, verbose, callbacks, validation_split, validation_data, shuffle, class_weight, sample_weight, initial_epoch, steps_per_epoch, validation_steps, validation_freq, max_queue_size, workers, use_multiprocessing, **kwargs)\u001b[0m\n\u001b[0;32m    340\u001b[0m                 \u001b[0mmode\u001b[0m\u001b[1;33m=\u001b[0m\u001b[0mModeKeys\u001b[0m\u001b[1;33m.\u001b[0m\u001b[0mTRAIN\u001b[0m\u001b[1;33m,\u001b[0m\u001b[1;33m\u001b[0m\u001b[1;33m\u001b[0m\u001b[0m\n\u001b[0;32m    341\u001b[0m                 \u001b[0mtraining_context\u001b[0m\u001b[1;33m=\u001b[0m\u001b[0mtraining_context\u001b[0m\u001b[1;33m,\u001b[0m\u001b[1;33m\u001b[0m\u001b[1;33m\u001b[0m\u001b[0m\n\u001b[1;32m--> 342\u001b[1;33m                 total_epochs=epochs)\n\u001b[0m\u001b[0;32m    343\u001b[0m             \u001b[0mcbks\u001b[0m\u001b[1;33m.\u001b[0m\u001b[0mmake_logs\u001b[0m\u001b[1;33m(\u001b[0m\u001b[0mmodel\u001b[0m\u001b[1;33m,\u001b[0m \u001b[0mepoch_logs\u001b[0m\u001b[1;33m,\u001b[0m \u001b[0mtraining_result\u001b[0m\u001b[1;33m,\u001b[0m \u001b[0mModeKeys\u001b[0m\u001b[1;33m.\u001b[0m\u001b[0mTRAIN\u001b[0m\u001b[1;33m)\u001b[0m\u001b[1;33m\u001b[0m\u001b[1;33m\u001b[0m\u001b[0m\n\u001b[0;32m    344\u001b[0m \u001b[1;33m\u001b[0m\u001b[0m\n",
      "\u001b[1;32mC:\\ProgramData\\Anaconda3\\lib\\site-packages\\tensorflow_core\\python\\keras\\engine\\training_v2.py\u001b[0m in \u001b[0;36mrun_one_epoch\u001b[1;34m(model, iterator, execution_function, dataset_size, batch_size, strategy, steps_per_epoch, num_samples, mode, training_context, total_epochs)\u001b[0m\n\u001b[0;32m    126\u001b[0m         step=step, mode=mode, size=current_batch_size) as batch_logs:\n\u001b[0;32m    127\u001b[0m       \u001b[1;32mtry\u001b[0m\u001b[1;33m:\u001b[0m\u001b[1;33m\u001b[0m\u001b[1;33m\u001b[0m\u001b[0m\n\u001b[1;32m--> 128\u001b[1;33m         \u001b[0mbatch_outs\u001b[0m \u001b[1;33m=\u001b[0m \u001b[0mexecution_function\u001b[0m\u001b[1;33m(\u001b[0m\u001b[0miterator\u001b[0m\u001b[1;33m)\u001b[0m\u001b[1;33m\u001b[0m\u001b[1;33m\u001b[0m\u001b[0m\n\u001b[0m\u001b[0;32m    129\u001b[0m       \u001b[1;32mexcept\u001b[0m \u001b[1;33m(\u001b[0m\u001b[0mStopIteration\u001b[0m\u001b[1;33m,\u001b[0m \u001b[0merrors\u001b[0m\u001b[1;33m.\u001b[0m\u001b[0mOutOfRangeError\u001b[0m\u001b[1;33m)\u001b[0m\u001b[1;33m:\u001b[0m\u001b[1;33m\u001b[0m\u001b[1;33m\u001b[0m\u001b[0m\n\u001b[0;32m    130\u001b[0m         \u001b[1;31m# TODO(kaftan): File bug about tf function and errors.OutOfRangeError?\u001b[0m\u001b[1;33m\u001b[0m\u001b[1;33m\u001b[0m\u001b[1;33m\u001b[0m\u001b[0m\n",
      "\u001b[1;32mC:\\ProgramData\\Anaconda3\\lib\\site-packages\\tensorflow_core\\python\\keras\\engine\\training_v2_utils.py\u001b[0m in \u001b[0;36mexecution_function\u001b[1;34m(input_fn)\u001b[0m\n\u001b[0;32m     96\u001b[0m     \u001b[1;31m# `numpy` translates Tensors to values in Eager mode.\u001b[0m\u001b[1;33m\u001b[0m\u001b[1;33m\u001b[0m\u001b[1;33m\u001b[0m\u001b[0m\n\u001b[0;32m     97\u001b[0m     return nest.map_structure(_non_none_constant_value,\n\u001b[1;32m---> 98\u001b[1;33m                               distributed_function(input_fn))\n\u001b[0m\u001b[0;32m     99\u001b[0m \u001b[1;33m\u001b[0m\u001b[0m\n\u001b[0;32m    100\u001b[0m   \u001b[1;32mreturn\u001b[0m \u001b[0mexecution_function\u001b[0m\u001b[1;33m\u001b[0m\u001b[1;33m\u001b[0m\u001b[0m\n",
      "\u001b[1;32mC:\\ProgramData\\Anaconda3\\lib\\site-packages\\tensorflow_core\\python\\util\\nest.py\u001b[0m in \u001b[0;36mmap_structure\u001b[1;34m(func, *structure, **kwargs)\u001b[0m\n\u001b[0;32m    566\u001b[0m \u001b[1;33m\u001b[0m\u001b[0m\n\u001b[0;32m    567\u001b[0m   return pack_sequence_as(\n\u001b[1;32m--> 568\u001b[1;33m       \u001b[0mstructure\u001b[0m\u001b[1;33m[\u001b[0m\u001b[1;36m0\u001b[0m\u001b[1;33m]\u001b[0m\u001b[1;33m,\u001b[0m \u001b[1;33m[\u001b[0m\u001b[0mfunc\u001b[0m\u001b[1;33m(\u001b[0m\u001b[1;33m*\u001b[0m\u001b[0mx\u001b[0m\u001b[1;33m)\u001b[0m \u001b[1;32mfor\u001b[0m \u001b[0mx\u001b[0m \u001b[1;32min\u001b[0m \u001b[0mentries\u001b[0m\u001b[1;33m]\u001b[0m\u001b[1;33m,\u001b[0m\u001b[1;33m\u001b[0m\u001b[1;33m\u001b[0m\u001b[0m\n\u001b[0m\u001b[0;32m    569\u001b[0m       expand_composites=expand_composites)\n\u001b[0;32m    570\u001b[0m \u001b[1;33m\u001b[0m\u001b[0m\n",
      "\u001b[1;32mC:\\ProgramData\\Anaconda3\\lib\\site-packages\\tensorflow_core\\python\\util\\nest.py\u001b[0m in \u001b[0;36m<listcomp>\u001b[1;34m(.0)\u001b[0m\n\u001b[0;32m    566\u001b[0m \u001b[1;33m\u001b[0m\u001b[0m\n\u001b[0;32m    567\u001b[0m   return pack_sequence_as(\n\u001b[1;32m--> 568\u001b[1;33m       \u001b[0mstructure\u001b[0m\u001b[1;33m[\u001b[0m\u001b[1;36m0\u001b[0m\u001b[1;33m]\u001b[0m\u001b[1;33m,\u001b[0m \u001b[1;33m[\u001b[0m\u001b[0mfunc\u001b[0m\u001b[1;33m(\u001b[0m\u001b[1;33m*\u001b[0m\u001b[0mx\u001b[0m\u001b[1;33m)\u001b[0m \u001b[1;32mfor\u001b[0m \u001b[0mx\u001b[0m \u001b[1;32min\u001b[0m \u001b[0mentries\u001b[0m\u001b[1;33m]\u001b[0m\u001b[1;33m,\u001b[0m\u001b[1;33m\u001b[0m\u001b[1;33m\u001b[0m\u001b[0m\n\u001b[0m\u001b[0;32m    569\u001b[0m       expand_composites=expand_composites)\n\u001b[0;32m    570\u001b[0m \u001b[1;33m\u001b[0m\u001b[0m\n",
      "\u001b[1;32mC:\\ProgramData\\Anaconda3\\lib\\site-packages\\tensorflow_core\\python\\keras\\engine\\training_v2_utils.py\u001b[0m in \u001b[0;36m_non_none_constant_value\u001b[1;34m(v)\u001b[0m\n\u001b[0;32m    128\u001b[0m \u001b[1;33m\u001b[0m\u001b[0m\n\u001b[0;32m    129\u001b[0m \u001b[1;32mdef\u001b[0m \u001b[0m_non_none_constant_value\u001b[0m\u001b[1;33m(\u001b[0m\u001b[0mv\u001b[0m\u001b[1;33m)\u001b[0m\u001b[1;33m:\u001b[0m\u001b[1;33m\u001b[0m\u001b[1;33m\u001b[0m\u001b[0m\n\u001b[1;32m--> 130\u001b[1;33m   \u001b[0mconstant_value\u001b[0m \u001b[1;33m=\u001b[0m \u001b[0mtensor_util\u001b[0m\u001b[1;33m.\u001b[0m\u001b[0mconstant_value\u001b[0m\u001b[1;33m(\u001b[0m\u001b[0mv\u001b[0m\u001b[1;33m)\u001b[0m\u001b[1;33m\u001b[0m\u001b[1;33m\u001b[0m\u001b[0m\n\u001b[0m\u001b[0;32m    131\u001b[0m   \u001b[1;32mreturn\u001b[0m \u001b[0mconstant_value\u001b[0m \u001b[1;32mif\u001b[0m \u001b[0mconstant_value\u001b[0m \u001b[1;32mis\u001b[0m \u001b[1;32mnot\u001b[0m \u001b[1;32mNone\u001b[0m \u001b[1;32melse\u001b[0m \u001b[0mv\u001b[0m\u001b[1;33m\u001b[0m\u001b[1;33m\u001b[0m\u001b[0m\n\u001b[0;32m    132\u001b[0m \u001b[1;33m\u001b[0m\u001b[0m\n",
      "\u001b[1;32mC:\\ProgramData\\Anaconda3\\lib\\site-packages\\tensorflow_core\\python\\framework\\tensor_util.py\u001b[0m in \u001b[0;36mconstant_value\u001b[1;34m(tensor, partial)\u001b[0m\n\u001b[0;32m    820\u001b[0m   \"\"\"\n\u001b[0;32m    821\u001b[0m   \u001b[1;32mif\u001b[0m \u001b[0misinstance\u001b[0m\u001b[1;33m(\u001b[0m\u001b[0mtensor\u001b[0m\u001b[1;33m,\u001b[0m \u001b[0mops\u001b[0m\u001b[1;33m.\u001b[0m\u001b[0mEagerTensor\u001b[0m\u001b[1;33m)\u001b[0m\u001b[1;33m:\u001b[0m\u001b[1;33m\u001b[0m\u001b[1;33m\u001b[0m\u001b[0m\n\u001b[1;32m--> 822\u001b[1;33m     \u001b[1;32mreturn\u001b[0m \u001b[0mtensor\u001b[0m\u001b[1;33m.\u001b[0m\u001b[0mnumpy\u001b[0m\u001b[1;33m(\u001b[0m\u001b[1;33m)\u001b[0m\u001b[1;33m\u001b[0m\u001b[1;33m\u001b[0m\u001b[0m\n\u001b[0m\u001b[0;32m    823\u001b[0m   \u001b[1;32mif\u001b[0m \u001b[1;32mnot\u001b[0m \u001b[0mis_tensor\u001b[0m\u001b[1;33m(\u001b[0m\u001b[0mtensor\u001b[0m\u001b[1;33m)\u001b[0m\u001b[1;33m:\u001b[0m\u001b[1;33m\u001b[0m\u001b[1;33m\u001b[0m\u001b[0m\n\u001b[0;32m    824\u001b[0m     \u001b[1;32mreturn\u001b[0m \u001b[0mtensor\u001b[0m\u001b[1;33m\u001b[0m\u001b[1;33m\u001b[0m\u001b[0m\n",
      "\u001b[1;32mC:\\ProgramData\\Anaconda3\\lib\\site-packages\\tensorflow_core\\python\\framework\\ops.py\u001b[0m in \u001b[0;36mnumpy\u001b[1;34m(self)\u001b[0m\n\u001b[0;32m    940\u001b[0m     \"\"\"\n\u001b[0;32m    941\u001b[0m     \u001b[1;31m# TODO(slebedev): Consider avoiding a copy for non-CPU or remote tensors.\u001b[0m\u001b[1;33m\u001b[0m\u001b[1;33m\u001b[0m\u001b[1;33m\u001b[0m\u001b[0m\n\u001b[1;32m--> 942\u001b[1;33m     \u001b[0mmaybe_arr\u001b[0m \u001b[1;33m=\u001b[0m \u001b[0mself\u001b[0m\u001b[1;33m.\u001b[0m\u001b[0m_numpy\u001b[0m\u001b[1;33m(\u001b[0m\u001b[1;33m)\u001b[0m  \u001b[1;31m# pylint: disable=protected-access\u001b[0m\u001b[1;33m\u001b[0m\u001b[1;33m\u001b[0m\u001b[0m\n\u001b[0m\u001b[0;32m    943\u001b[0m     \u001b[1;32mreturn\u001b[0m \u001b[0mmaybe_arr\u001b[0m\u001b[1;33m.\u001b[0m\u001b[0mcopy\u001b[0m\u001b[1;33m(\u001b[0m\u001b[1;33m)\u001b[0m \u001b[1;32mif\u001b[0m \u001b[0misinstance\u001b[0m\u001b[1;33m(\u001b[0m\u001b[0mmaybe_arr\u001b[0m\u001b[1;33m,\u001b[0m \u001b[0mnp\u001b[0m\u001b[1;33m.\u001b[0m\u001b[0mndarray\u001b[0m\u001b[1;33m)\u001b[0m \u001b[1;32melse\u001b[0m \u001b[0mmaybe_arr\u001b[0m\u001b[1;33m\u001b[0m\u001b[1;33m\u001b[0m\u001b[0m\n\u001b[0;32m    944\u001b[0m \u001b[1;33m\u001b[0m\u001b[0m\n",
      "\u001b[1;32mC:\\ProgramData\\Anaconda3\\lib\\site-packages\\tensorflow_core\\python\\framework\\ops.py\u001b[0m in \u001b[0;36m_numpy\u001b[1;34m(self)\u001b[0m\n\u001b[0;32m    906\u001b[0m     \u001b[1;31m# pylint: disable=protected-access\u001b[0m\u001b[1;33m\u001b[0m\u001b[1;33m\u001b[0m\u001b[1;33m\u001b[0m\u001b[0m\n\u001b[0;32m    907\u001b[0m     \u001b[1;32mtry\u001b[0m\u001b[1;33m:\u001b[0m\u001b[1;33m\u001b[0m\u001b[1;33m\u001b[0m\u001b[0m\n\u001b[1;32m--> 908\u001b[1;33m       \u001b[1;32mreturn\u001b[0m \u001b[0mself\u001b[0m\u001b[1;33m.\u001b[0m\u001b[0m_numpy_internal\u001b[0m\u001b[1;33m(\u001b[0m\u001b[1;33m)\u001b[0m\u001b[1;33m\u001b[0m\u001b[1;33m\u001b[0m\u001b[0m\n\u001b[0m\u001b[0;32m    909\u001b[0m     \u001b[1;32mexcept\u001b[0m \u001b[0mcore\u001b[0m\u001b[1;33m.\u001b[0m\u001b[0m_NotOkStatusException\u001b[0m \u001b[1;32mas\u001b[0m \u001b[0me\u001b[0m\u001b[1;33m:\u001b[0m\u001b[1;33m\u001b[0m\u001b[1;33m\u001b[0m\u001b[0m\n\u001b[0;32m    910\u001b[0m       \u001b[0msix\u001b[0m\u001b[1;33m.\u001b[0m\u001b[0mraise_from\u001b[0m\u001b[1;33m(\u001b[0m\u001b[0mcore\u001b[0m\u001b[1;33m.\u001b[0m\u001b[0m_status_to_exception\u001b[0m\u001b[1;33m(\u001b[0m\u001b[0me\u001b[0m\u001b[1;33m.\u001b[0m\u001b[0mcode\u001b[0m\u001b[1;33m,\u001b[0m \u001b[0me\u001b[0m\u001b[1;33m.\u001b[0m\u001b[0mmessage\u001b[0m\u001b[1;33m)\u001b[0m\u001b[1;33m,\u001b[0m \u001b[1;32mNone\u001b[0m\u001b[1;33m)\u001b[0m\u001b[1;33m\u001b[0m\u001b[1;33m\u001b[0m\u001b[0m\n",
      "\u001b[1;31mKeyboardInterrupt\u001b[0m: "
     ]
    }
   ],
   "source": [
    "NN_model.fit(X_train, y_train, \n",
    "             validation_data=(X_holdout, y_holdout),\n",
    "             epochs=100, batch_size=10, \n",
    "             callbacks = logger, \n",
    "             use_multiprocessing=True,\n",
    "            )"
   ]
  },
  {
   "cell_type": "code",
   "execution_count": null,
   "metadata": {
    "ExecuteTime": {
     "end_time": "2020-07-01T14:56:22.097691Z",
     "start_time": "2020-07-01T14:56:09.359Z"
    }
   },
   "outputs": [],
   "source": [
    "y_pred_NN=NN_model.predict(X_holdout)\n",
    "mae(y_holdout, y_pred_NN)"
   ]
  },
  {
   "cell_type": "code",
   "execution_count": null,
   "metadata": {
    "ExecuteTime": {
     "end_time": "2020-07-01T14:56:22.100690Z",
     "start_time": "2020-07-01T14:56:10.063Z"
    }
   },
   "outputs": [],
   "source": [
    "%tensorboard --logdir=$path_to_log --host localhost --port=6007"
   ]
  },
  {
   "cell_type": "code",
   "execution_count": null,
   "metadata": {},
   "outputs": [],
   "source": []
  },
  {
   "cell_type": "code",
   "execution_count": null,
   "metadata": {},
   "outputs": [],
   "source": []
  },
  {
   "cell_type": "code",
   "execution_count": null,
   "metadata": {},
   "outputs": [],
   "source": []
  },
  {
   "cell_type": "code",
   "execution_count": null,
   "metadata": {},
   "outputs": [],
   "source": []
  },
  {
   "cell_type": "code",
   "execution_count": null,
   "metadata": {},
   "outputs": [],
   "source": []
  },
  {
   "cell_type": "code",
   "execution_count": null,
   "metadata": {},
   "outputs": [],
   "source": []
  },
  {
   "cell_type": "markdown",
   "metadata": {},
   "source": [
    "### Модель на основе случайного леса"
   ]
  },
  {
   "cell_type": "code",
   "execution_count": null,
   "metadata": {
    "ExecuteTime": {
     "end_time": "2020-07-01T14:54:49.932940Z",
     "start_time": "2020-07-01T14:54:23.136Z"
    },
    "colab": {
     "base_uri": "https://localhost:8080/",
     "height": 544
    },
    "colab_type": "code",
    "id": "SCT2Hb9gCMtp",
    "outputId": "44141813-39a4-46a3-8a70-add857a30aee"
   },
   "outputs": [],
   "source": [
    "from sklearn.ensemble import RandomForestRegressor\n",
    "from sklearn.model_selection import GridSearchCV\n",
    "\n",
    "\n",
    "forest_params = {\n",
    "    'max_depth': list(range(21, 26)),\n",
    "    'min_samples_leaf': list(range(1, 3)),\n",
    "    'max_features': list(range(10, 14)),\n",
    "    'n_estimators': list(range(100, 1000, 100)),\n",
    "}\n",
    "\n",
    "locally_best_forest = GridSearchCV(RandomForestRegressor(n_jobs=-1, criterion='mae', random_state=2),\n",
    "                                   forest_params,\n",
    "                                   scoring='neg_mean_absolute_error',\n",
    "                                   n_jobs=-1,\n",
    "                                   verbose=True)\n",
    "\n",
    "locally_best_forest.fit(X_train, y_train)"
   ]
  },
  {
   "cell_type": "code",
   "execution_count": null,
   "metadata": {
    "ExecuteTime": {
     "end_time": "2020-07-01T14:54:49.934941Z",
     "start_time": "2020-07-01T14:54:23.141Z"
    },
    "colab": {
     "base_uri": "https://localhost:8080/",
     "height": 51
    },
    "colab_type": "code",
    "id": "CvjhPsHtDcbJ",
    "outputId": "83cee68f-b46c-411a-ee84-1c5be5761f8f"
   },
   "outputs": [],
   "source": [
    "locally_best_forest.best_params_, locally_best_forest.best_score_"
   ]
  },
  {
   "cell_type": "code",
   "execution_count": null,
   "metadata": {
    "ExecuteTime": {
     "end_time": "2020-07-01T14:54:49.936940Z",
     "start_time": "2020-07-01T14:54:23.146Z"
    },
    "colab": {
     "base_uri": "https://localhost:8080/",
     "height": 34
    },
    "colab_type": "code",
    "id": "YnqIxOzYiBCn",
    "outputId": "d03ce59d-8148-4705-9657-f6267f2ff6bf"
   },
   "outputs": [],
   "source": [
    "mae(y_holdout, locally_best_forest.predict(X_holdout))"
   ]
  },
  {
   "cell_type": "code",
   "execution_count": null,
   "metadata": {
    "ExecuteTime": {
     "end_time": "2020-07-01T14:54:49.938938Z",
     "start_time": "2020-07-01T14:54:23.152Z"
    },
    "colab": {
     "base_uri": "https://localhost:8080/",
     "height": 136
    },
    "colab_type": "code",
    "id": "VYl1aeOfNYq2",
    "outputId": "84692457-228c-440d-ac92-777a2f288314"
   },
   "outputs": [],
   "source": [
    "model_rf = RandomForestRegressor(max_depth=23, max_features=11, min_samples_leaf=1, random_state=2)\n",
    "model_rf.fit(X_train, y_train)"
   ]
  },
  {
   "cell_type": "code",
   "execution_count": null,
   "metadata": {},
   "outputs": [],
   "source": [
    "y_pred_RF = model_rf.predict(X_holdout)"
   ]
  },
  {
   "cell_type": "code",
   "execution_count": null,
   "metadata": {
    "ExecuteTime": {
     "end_time": "2020-07-01T14:54:49.944934Z",
     "start_time": "2020-07-01T14:54:23.162Z"
    },
    "colab": {
     "base_uri": "https://localhost:8080/",
     "height": 51
=======
      "cell_type": "code",
      "metadata": {
        "id": "5yY137vV_YCy",
        "colab_type": "code",
        "colab": {
          "base_uri": "https://localhost:8080/",
          "height": 51
        },
        "outputId": "0bd5fc72-5f9d-4255-9394-63f4e51529b4"
      },
      "source": [
        "print(\"Mean absolute error (train) {:.3f}\".format(mae(y_train, lasso_cv.predict(X_train))))\n",
        "print(\"Mean absolute error (holdout) {:.3f}\".format(mae(y_holdout, lasso_cv.predict(X_holdout))))"
      ],
      "execution_count": 64,
      "outputs": [
        {
          "output_type": "stream",
          "text": [
            "Mean absolute error (train) 501.826\n",
            "Mean absolute error (holdout) 511.926\n"
          ],
          "name": "stdout"
        }
      ]
    },
    {
      "cell_type": "code",
      "metadata": {
        "id": "N0wmlS-7_m7w",
        "colab_type": "code",
        "colab": {}
      },
      "source": [
        ""
      ],
      "execution_count": 64,
      "outputs": []
    },
    {
      "cell_type": "code",
      "metadata": {
        "id": "7w_rE7Qu_p9p",
        "colab_type": "code",
        "colab": {}
      },
      "source": [
        ""
      ],
      "execution_count": 64,
      "outputs": []
    },
    {
      "cell_type": "code",
      "metadata": {
        "id": "FFAwaieq_p6t",
        "colab_type": "code",
        "colab": {}
      },
      "source": [
        ""
      ],
      "execution_count": 64,
      "outputs": []
    },
    {
      "cell_type": "code",
      "metadata": {
        "id": "9gPRDyEg_p3O",
        "colab_type": "code",
        "colab": {}
      },
      "source": [
        "from sklearn.ensemble import RandomForestRegressor\n",
        "\n",
        "forest = RandomForestRegressor(random_state=2)\n",
        "forest.fit(X_train, y_train)"
      ],
      "execution_count": 65,
      "outputs": []
    },
    {
      "cell_type": "code",
      "metadata": {
        "id": "Uhju9ar__uG_",
        "colab_type": "code",
        "colab": {
          "base_uri": "https://localhost:8080/",
          "height": 68
        },
        "outputId": "842a1371-d6a1-4cfa-d928-8ab2f3d8c1f2"
      },
      "source": [
        "import warnings\n",
        "warnings.filterwarnings('ignore')\n",
        "\n",
        "\n",
        "print(\"Mean absolute error (train) {:.2f}\".format(mae(y_train, forest.predict(X_train))))\n",
        "print(\"Mean absolute error (cv): {:.2f}\".format( abs(cross_val_score(\n",
        "    forest, X_holdout, y_holdout, scoring='neg_mean_absolute_error').mean() )))\n",
        "print(\"Mean absolute error (holdout) {:.2f}\".format(mae(y_holdout, forest.predict(X_holdout))))"
      ],
      "execution_count": 66,
      "outputs": [
        {
          "output_type": "stream",
          "text": [
            "Mean absolute error (train) 21.02\n",
            "Mean absolute error (cv): 9.87\n",
            "Mean absolute error (holdout) 151.23\n"
          ],
          "name": "stdout"
        }
      ]
    },
    {
      "cell_type": "code",
      "metadata": {
        "id": "SCT2Hb9gCMtp",
        "colab_type": "code",
        "colab": {
          "base_uri": "https://localhost:8080/",
          "height": 408
        },
        "outputId": "f65d5080-5ff4-4eac-b56c-5e09d7615ef9"
      },
      "source": [
        "from sklearn.model_selection import GridSearchCV\n",
        "\n",
        "\n",
        "forest_params = {\n",
        "    'max_depth': list(range(22, 25)), \n",
        "    'min_samples_leaf': list(range(1, 3)),\n",
        "    'max_features': list(range(10,13)),\n",
        "    'n_estimators': list(range(1800,2100, 100)),\n",
        "    }\n",
        "\n",
        "locally_best_forest = GridSearchCV(RandomForestRegressor(n_jobs=-1, random_state=2,\n",
        "                                                         max_depth=24, min_samples_leaf=1, max_features=10,),\n",
        "                                   forest_params, \n",
        "                                   scoring='neg_mean_absolute_error',  \n",
        "                                   n_jobs=-1, \n",
        "                                   verbose=True)\n",
        "\n",
        "locally_best_forest.fit(X_train, y_train)"
      ],
      "execution_count": 68,
      "outputs": [
        {
          "output_type": "stream",
          "text": [
            "Fitting 5 folds for each of 11 candidates, totalling 55 fits\n"
          ],
          "name": "stdout"
        },
        {
          "output_type": "stream",
          "text": [
            "[Parallel(n_jobs=-1)]: Using backend LokyBackend with 2 concurrent workers.\n",
            "[Parallel(n_jobs=-1)]: Done  46 tasks      | elapsed: 86.0min\n",
            "[Parallel(n_jobs=-1)]: Done  55 out of  55 | elapsed: 109.8min finished\n"
          ],
          "name": "stderr"
        },
        {
          "output_type": "execute_result",
          "data": {
            "text/plain": [
              "GridSearchCV(cv=None, error_score=nan,\n",
              "             estimator=RandomForestRegressor(bootstrap=True, ccp_alpha=0.0,\n",
              "                                             criterion='mse', max_depth=24,\n",
              "                                             max_features=10,\n",
              "                                             max_leaf_nodes=None,\n",
              "                                             max_samples=None,\n",
              "                                             min_impurity_decrease=0.0,\n",
              "                                             min_impurity_split=None,\n",
              "                                             min_samples_leaf=1,\n",
              "                                             min_samples_split=2,\n",
              "                                             min_weight_fraction_leaf=0.0,\n",
              "                                             n_estimators=100, n_jobs=-1,\n",
              "                                             oob_score=False, random_state=2,\n",
              "                                             verbose=0, warm_start=False),\n",
              "             iid='deprecated', n_jobs=-1,\n",
              "             param_grid={'n_estimators': [900, 1000, 1100, 1200, 1300, 1400,\n",
              "                                          1500, 1600, 1700, 1800, 1900]},\n",
              "             pre_dispatch='2*n_jobs', refit=True, return_train_score=False,\n",
              "             scoring='neg_mean_absolute_error', verbose=True)"
            ]
          },
          "metadata": {
            "tags": []
          },
          "execution_count": 68
        }
      ]
    },
    {
      "cell_type": "code",
      "metadata": {
        "id": "CvjhPsHtDcbJ",
        "colab_type": "code",
        "colab": {
          "base_uri": "https://localhost:8080/",
          "height": 34
        },
        "outputId": "352177bd-4c85-4998-b509-d2ed72d0224e"
      },
      "source": [
        "locally_best_forest.best_params_, locally_best_forest.best_score_"
      ],
      "execution_count": 71,
      "outputs": [
        {
          "output_type": "execute_result",
          "data": {
            "text/plain": [
              "({'n_estimators': 1900}, -9.138987119815733)"
            ]
          },
          "metadata": {
            "tags": []
          },
          "execution_count": 71
        }
      ]
    },
    {
      "cell_type": "code",
      "metadata": {
        "id": "YnqIxOzYiBCn",
        "colab_type": "code",
        "colab": {}
      },
      "source": [
        "mae(y_holdout, locally_best_forest.predict(X_holdout))"
      ],
      "execution_count": null,
      "outputs": []
    },
    {
      "cell_type": "code",
      "metadata": {
        "id": "VYl1aeOfNYq2",
        "colab_type": "code",
        "colab": {
          "base_uri": "https://localhost:8080/",
          "height": 136
        },
        "outputId": "e0c07a9c-76ee-4ef3-ecf3-eb3bde4b6fe0"
      },
      "source": [
        "model_rf = RandomForestRegressor(max_depth=24, max_features=10, min_samples_leaf=1, n_estimators=1900, \n",
        "                                 random_state=2)\n",
        "model_rf.fit(X_train, y_train)"
      ],
      "execution_count": 76,
      "outputs": [
        {
          "output_type": "execute_result",
          "data": {
            "text/plain": [
              "RandomForestRegressor(bootstrap=True, ccp_alpha=0.0, criterion='mse',\n",
              "                      max_depth=24, max_features=10, max_leaf_nodes=None,\n",
              "                      max_samples=None, min_impurity_decrease=0.0,\n",
              "                      min_impurity_split=None, min_samples_leaf=1,\n",
              "                      min_samples_split=2, min_weight_fraction_leaf=0.0,\n",
              "                      n_estimators=1900, n_jobs=None, oob_score=False,\n",
              "                      random_state=2, verbose=0, warm_start=False)"
            ]
          },
          "metadata": {
            "tags": []
          },
          "execution_count": 76
        }
      ]
    },
    {
      "cell_type": "code",
      "metadata": {
        "id": "W8uNXI4kN6LG",
        "colab_type": "code",
        "colab": {
          "base_uri": "https://localhost:8080/",
          "height": 34
        },
        "outputId": "69490d8b-949c-4386-a70a-5ec6caeac0c5"
      },
      "source": [
        "print(\"Mean absolute error (test) {:.2f}\".format(mae(y_holdout, model_rf.predict(X_holdout))))"
      ],
      "execution_count": 79,
      "outputs": [
        {
          "output_type": "stream",
          "text": [
            "Mean absolute error (test) 150.26\n"
          ],
          "name": "stdout"
        }
      ]
    },
    {
      "cell_type": "code",
      "metadata": {
        "id": "oH-B_u3JOF2I",
        "colab_type": "code",
        "colab": {
          "base_uri": "https://localhost:8080/",
          "height": 100
        },
        "outputId": "ef488ef3-d3ef-4e03-d327-bb01f2e2d30f"
      },
      "source": [
        "rf_importance = pd.DataFrame(abs(model_rf.feature_importances_)).T # берем по модулю\n",
        "rf_importance.columns = X_train.columns\n",
        "rf_importance = rf_importance.T.sort_values(by=[0]).T\n",
        "rf_importance"
      ],
      "execution_count": null,
      "outputs": [
        {
          "output_type": "execute_result",
          "data": {
            "text/html": [
              "<div>\n",
              "<style scoped>\n",
              "    .dataframe tbody tr th:only-of-type {\n",
              "        vertical-align: middle;\n",
              "    }\n",
              "\n",
              "    .dataframe tbody tr th {\n",
              "        vertical-align: top;\n",
              "    }\n",
              "\n",
              "    .dataframe thead th {\n",
              "        text-align: right;\n",
              "    }\n",
              "</style>\n",
              "<table border=\"1\" class=\"dataframe\">\n",
              "  <thead>\n",
              "    <tr style=\"text-align: right;\">\n",
              "      <th></th>\n",
              "      <th>T_data_4_1</th>\n",
              "      <th>T_data_4_3</th>\n",
              "      <th>T_data_4_2</th>\n",
              "      <th>AH_data</th>\n",
              "      <th>T_data_2_1</th>\n",
              "      <th>T_data_2_2</th>\n",
              "      <th>T_data_2_3</th>\n",
              "      <th>T_data_1_3</th>\n",
              "      <th>T_data_1_1</th>\n",
              "      <th>T_data_1_2</th>\n",
              "      <th>T_data_5_3</th>\n",
              "      <th>T_data_5_2</th>\n",
              "      <th>T_data_5_1</th>\n",
              "      <th>H_data</th>\n",
              "      <th>T_data_3_2</th>\n",
              "      <th>T_data_3_3</th>\n",
              "      <th>T_data_3_1</th>\n",
              "    </tr>\n",
              "  </thead>\n",
              "  <tbody>\n",
              "    <tr>\n",
              "      <th>0</th>\n",
              "      <td>0.003673</td>\n",
              "      <td>0.003702</td>\n",
              "      <td>0.003864</td>\n",
              "      <td>0.0046</td>\n",
              "      <td>0.007398</td>\n",
              "      <td>0.008381</td>\n",
              "      <td>0.008436</td>\n",
              "      <td>0.014032</td>\n",
              "      <td>0.016361</td>\n",
              "      <td>0.016857</td>\n",
              "      <td>0.01793</td>\n",
              "      <td>0.021882</td>\n",
              "      <td>0.022528</td>\n",
              "      <td>0.048127</td>\n",
              "      <td>0.262972</td>\n",
              "      <td>0.264389</td>\n",
              "      <td>0.27487</td>\n",
              "    </tr>\n",
              "  </tbody>\n",
              "</table>\n",
              "</div>"
            ],
            "text/plain": [
              "   T_data_4_1  T_data_4_3  T_data_4_2  ...  T_data_3_2  T_data_3_3  T_data_3_1\n",
              "0    0.003673    0.003702    0.003864  ...    0.262972    0.264389     0.27487\n",
              "\n",
              "[1 rows x 17 columns]"
            ]
          },
          "metadata": {
            "tags": []
          },
          "execution_count": 46
        }
      ]
    },
    {
      "cell_type": "code",
      "metadata": {
        "id": "Phv5hGhHOj2a",
        "colab_type": "code",
        "colab": {
          "base_uri": "https://localhost:8080/",
          "height": 68
        },
        "outputId": "86e4a993-7733-4010-fb0e-deae8609c700"
      },
      "source": [
        "print(\"Linear Regression : {:.2f}\".format(mae(\n",
        "    y_holdout, linreg.predict(X_holdout))))\n",
        "print(\"Lasso Regression {:.2f}\".format(\n",
        "    mae(\n",
        "        y_holdout, lasso_cv.predict(X_holdout))))\n",
        "print(\"Random Forest {:.2f}\".format(\n",
        "    mae(\n",
        "        y_holdout, model_rf.predict(X_holdout))))\n"
      ],
      "execution_count": null,
      "outputs": [
        {
          "output_type": "stream",
          "text": [
            "Linear Regression : 511.87\n",
            "Lasso Regression 511.93\n",
            "Random Forest 151.64\n"
          ],
          "name": "stdout"
        }
      ]
>>>>>>> c17f3d77cbac930e9808840ace483000b0126f99
    },
    "colab_type": "code",
    "id": "W8uNXI4kN6LG",
    "outputId": "658097fe-e1d6-4a7f-d2da-0b40617908ec"
   },
   "outputs": [],
   "source": [
    "print(\"Mean absolute error (holdout) RF model {:.2f}\".format(mae(y_holdout, y_pred_RF)))\n",
    "print(\"Mean absolute error (holdout) NN model {:.2f}\".format(mae(y_holdout, y_pred_NN)))"
   ]
  },
  {
   "cell_type": "code",
   "execution_count": null,
   "metadata": {},
   "outputs": [],
   "source": []
  }
 ],
 "metadata": {
  "colab": {
   "authorship_tag": "ABX9TyN7atU5PMVOwWBf89QOagf8",
   "mount_file_id": "https://github.com/IamSVP94/SEVERSTAL_task/blob/master/REPORT.ipynb",
   "name": "REPORT.ipynb",
   "provenance": [],
   "toc_visible": true
  },
  "kernelspec": {
   "display_name": "Python 3",
   "language": "python",
   "name": "python3"
  },
  "language_info": {
   "codemirror_mode": {
    "name": "ipython",
    "version": 3
   },
   "file_extension": ".py",
   "mimetype": "text/x-python",
   "name": "python",
   "nbconvert_exporter": "python",
   "pygments_lexer": "ipython3",
   "version": "3.7.7"
  },
  "toc": {
   "base_numbering": 1,
   "nav_menu": {},
   "number_sections": true,
   "sideBar": true,
   "skip_h1_title": false,
   "title_cell": "",
   "title_sidebar": "Навигация",
   "toc_cell": false,
   "toc_position": {
    "height": "calc(100% - 180px)",
    "left": "10px",
    "top": "150px",
    "width": "165px"
   },
   "toc_section_display": true,
   "toc_window_display": true
  }
 },
 "nbformat": 4,
 "nbformat_minor": 1
}
